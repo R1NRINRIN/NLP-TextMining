{
 "cells": [
  {
   "cell_type": "code",
   "execution_count": 1,
   "metadata": {},
   "outputs": [],
   "source": [
    "import pandas as pd"
   ]
  },
  {
   "cell_type": "code",
   "execution_count": 25,
   "metadata": {
    "scrolled": true
   },
   "outputs": [
    {
     "data": {
      "text/html": [
       "<div>\n",
       "<style scoped>\n",
       "    .dataframe tbody tr th:only-of-type {\n",
       "        vertical-align: middle;\n",
       "    }\n",
       "\n",
       "    .dataframe tbody tr th {\n",
       "        vertical-align: top;\n",
       "    }\n",
       "\n",
       "    .dataframe thead th {\n",
       "        text-align: right;\n",
       "    }\n",
       "</style>\n",
       "<table border=\"1\" class=\"dataframe\">\n",
       "  <thead>\n",
       "    <tr style=\"text-align: right;\">\n",
       "      <th></th>\n",
       "      <th>text</th>\n",
       "    </tr>\n",
       "  </thead>\n",
       "  <tbody>\n",
       "    <tr>\n",
       "      <th>0</th>\n",
       "      <td>[앵커] 인도에서는 연일 8만 명 이상의 신규 확진자 쏟아지면서 코로나19 누적 확...</td>\n",
       "    </tr>\n",
       "    <tr>\n",
       "      <th>1</th>\n",
       "      <td>지역발생 144명·해외유입 12명 ▪️사망자 3명 추가 총 344명 ✓문화·체육·관...</td>\n",
       "    </tr>\n",
       "    <tr>\n",
       "      <th>2</th>\n",
       "      <td>광주의 코로나19 상황이 진정되지 않고 있습니다. 광주에서는 어제 하루 신규 확진자...</td>\n",
       "    </tr>\n",
       "    <tr>\n",
       "      <th>3</th>\n",
       "      <td>특파원보고세계는지금 #세계는지금 #국제시사 특파원 보고 세계는 지금 (매주 토요일 ...</td>\n",
       "    </tr>\n",
       "    <tr>\n",
       "      <th>4</th>\n",
       "      <td>[LIVE] 중앙재난안전대책본부 코로나19 정례 브리핑 (2020년 9월 7일) /...</td>\n",
       "    </tr>\n",
       "    <tr>\n",
       "      <th>5</th>\n",
       "      <td>오늘 오전 0시 기준으로 국내 신종 코로나바이러스 감염증(코로나19) 신규 확진자가...</td>\n",
       "    </tr>\n",
       "    <tr>\n",
       "      <th>6</th>\n",
       "      <td>지난 3월 완치판정 박현 겸임교수…5개월 넘게 후유증 기억과 집중 힘든 '브레인 포...</td>\n",
       "    </tr>\n",
       "    <tr>\n",
       "      <th>7</th>\n",
       "      <td>코로나19 신규 확진자 119명 추가 총 2만1296명 ▪️사망자 2명 추가 총 3...</td>\n",
       "    </tr>\n",
       "    <tr>\n",
       "      <th>8</th>\n",
       "      <td>국내 코로나19 신규 확진자가 일주일째 백 명 대를 기록하는 가운데 대부분 서울과 ...</td>\n",
       "    </tr>\n",
       "    <tr>\n",
       "      <th>9</th>\n",
       "      <td>[앵커] 코로나19에 잘 대처했다고 평가받으며 사실상 청정지역을 선언했던 뉴질랜드에...</td>\n",
       "    </tr>\n",
       "  </tbody>\n",
       "</table>\n",
       "</div>"
      ],
      "text/plain": [
       "                                                text\n",
       "0  [앵커] 인도에서는 연일 8만 명 이상의 신규 확진자 쏟아지면서 코로나19 누적 확...\n",
       "1  지역발생 144명·해외유입 12명 ▪️사망자 3명 추가 총 344명 ✓문화·체육·관...\n",
       "2  광주의 코로나19 상황이 진정되지 않고 있습니다. 광주에서는 어제 하루 신규 확진자...\n",
       "3  특파원보고세계는지금 #세계는지금 #국제시사 특파원 보고 세계는 지금 (매주 토요일 ...\n",
       "4  [LIVE] 중앙재난안전대책본부 코로나19 정례 브리핑 (2020년 9월 7일) /...\n",
       "5  오늘 오전 0시 기준으로 국내 신종 코로나바이러스 감염증(코로나19) 신규 확진자가...\n",
       "6  지난 3월 완치판정 박현 겸임교수…5개월 넘게 후유증 기억과 집중 힘든 '브레인 포...\n",
       "7  코로나19 신규 확진자 119명 추가 총 2만1296명 ▪️사망자 2명 추가 총 3...\n",
       "8  국내 코로나19 신규 확진자가 일주일째 백 명 대를 기록하는 가운데 대부분 서울과 ...\n",
       "9  [앵커] 코로나19에 잘 대처했다고 평가받으며 사실상 청정지역을 선언했던 뉴질랜드에..."
      ]
     },
     "execution_count": 25,
     "metadata": {},
     "output_type": "execute_result"
    }
   ],
   "source": [
    "original = pd.read_excel(\"../코로나19_원문데이터.xlsx\", header=None, usecols=\"C\")\n",
    "df = original.dropna(axis = 0).reset_index()\n",
    "del(df['index'])\n",
    "df.columns = ['text']\n",
    "df.head(10)"
   ]
  },
  {
   "cell_type": "code",
   "execution_count": 28,
   "metadata": {},
   "outputs": [
    {
     "data": {
      "text/plain": [
       "'[앵커] 인도에서는 연일 8만 명 이상의 신규 확진자 쏟아지면서 코로나19 누적 확진자가 400만 명을 넘어서며 브라질과 비슷해졌습니다. 유럽도 프랑스와 이탈리아, ...'"
      ]
     },
     "execution_count": 28,
     "metadata": {},
     "output_type": "execute_result"
    }
   ],
   "source": [
    "df['text'][0]"
   ]
  },
  {
   "cell_type": "code",
   "execution_count": 3,
   "metadata": {},
   "outputs": [],
   "source": [
    "from konlpy.tag import Kkma\n",
    "from collections import Counter\n",
    "\n",
    "\"\"\"\n",
    "@ REFERENCE: http://kkma.snu.ac.kr/documents/?doc=postag\n",
    "NNB: 일반 의존 명사\n",
    "NNM: 단위 의존 명사\n",
    "VXV: 보조 동사\n",
    "VXA: 보조 형용사\n",
    "MDT: 일반 관형사\n",
    "MDN: 수 관형사\n",
    "MAG: 일반 부사\n",
    "MAC: 접속 부사\n",
    "IC: 감탄사\n",
    "JKS: 주격 조사\n",
    "JKC: 보격 조사\n",
    "JKG: 관형격 조사\n",
    "JKO: 목적격 조사\n",
    "JKM: 부사격 조사\n",
    "JKI: 호격 조사\n",
    "JKQ: 인용격 조사\n",
    "JX: 보조사\n",
    "JC: 접속 조사\n",
    "EPH: 존칭 선어말 어미\n",
    "EPT: 시제 선어말 어미\n",
    "EPP: 공손 선어말 어미\n",
    "EFN: 평서형 종결 어미\n",
    "EFQ: 의문형 종결 어미\n",
    "EFO: 명령형 종결 어미\n",
    "EFA: 청유형 종결 어미\n",
    "EFI: 감탄형 종결 어미\n",
    "EFR: 존칭형 종결 어미\n",
    "ECE: 대등 연결 어미\n",
    "ECD: 의존적 연결 어미\n",
    "ECS: 보조적 연결 어미\n",
    "ETN: 명사형 전성 어미\n",
    "ETD: 관형형 전성 어미\n",
    "XPN: 체언 접두사\n",
    "XPV: 용언 접두사\n",
    "XSN: 명사 파생 접미사\n",
    "XSV: 동사 파생 접미사\n",
    "XSA: 형용사 파생 접미사\n",
    "SF: 마침표, 물음표, 느낌표\n",
    "SP: 쉼표, 가운뎃점, 콜론, 빗금\n",
    "SS: 따옴표, 괄호표, 줄표\n",
    "SE: 줄임표\n",
    "SO: 붙임표(물결, 숨김, 빠짐)\n",
    "SW: 기타기호(논리수학기호, 화폐기호)\n",
    "\"\"\"\n",
    "\n",
    "STOPWORD_POS = ['NNB', 'NNM', 'VXV', 'VXA', 'MDT', 'MDN', 'MAG', 'MAC', \n",
    "                'IC', 'JKS', 'JKC', 'JKG', 'JKO', 'JKM', 'JKI', 'JKQ', \n",
    "                'JX', 'JC', 'EPH', 'EPT', 'EPP', 'EFN', 'EFQ', 'EFO', \n",
    "                'EFA', 'EFI', 'EFR', 'ECE', 'ECD', 'ECS', 'ETN', 'ETD', \n",
    "                'XPN', 'XPV', 'XSN', 'XSV', 'XSA', 'SF', 'SP', 'SS', 'SE', \n",
    "                'SO', 'SW']\n",
    "\n",
    "kkma = Kkma()"
   ]
  },
  {
   "cell_type": "code",
   "execution_count": 4,
   "metadata": {},
   "outputs": [
    {
     "name": "stdout",
     "output_type": "stream",
     "text": [
      "코로나바이러스감염증-19 국민 행동수칙 함께 지키면 예방할 수 있습니다🤙 일반국민과 고위험군, 유증상자 등 상황에 맞는 예방행동을 지금 확인해주세요!   국민 ...\n"
     ]
    },
    {
     "ename": "UnicodeDecodeError",
     "evalue": "'utf-8' codec can't decode byte 0xed in position 0: invalid continuation byte",
     "output_type": "error",
     "traceback": [
      "\u001b[1;31m---------------------------------------------------------------------------\u001b[0m",
      "\u001b[1;31mUnicodeDecodeError\u001b[0m                        Traceback (most recent call last)",
      "\u001b[1;32m<ipython-input-4-d0a7f975e906>\u001b[0m in \u001b[0;36m<module>\u001b[1;34m\u001b[0m\n\u001b[0;32m      1\u001b[0m \u001b[0mval\u001b[0m \u001b[1;33m=\u001b[0m \u001b[0mdf\u001b[0m\u001b[1;33m[\u001b[0m\u001b[1;36m2\u001b[0m\u001b[1;33m]\u001b[0m\u001b[1;33m[\u001b[0m\u001b[1;36m307\u001b[0m\u001b[1;33m]\u001b[0m\u001b[1;33m\u001b[0m\u001b[1;33m\u001b[0m\u001b[0m\n\u001b[0;32m      2\u001b[0m \u001b[0mprint\u001b[0m\u001b[1;33m(\u001b[0m\u001b[0mval\u001b[0m\u001b[1;33m)\u001b[0m\u001b[1;33m\u001b[0m\u001b[1;33m\u001b[0m\u001b[0m\n\u001b[1;32m----> 3\u001b[1;33m \u001b[0mkkma\u001b[0m\u001b[1;33m.\u001b[0m\u001b[0mmorphs\u001b[0m\u001b[1;33m(\u001b[0m\u001b[0mval\u001b[0m\u001b[1;33m)\u001b[0m\u001b[1;33m\u001b[0m\u001b[1;33m\u001b[0m\u001b[0m\n\u001b[0m",
      "\u001b[1;32mc:\\users\\rhakt\\appdata\\local\\programs\\python\\python36\\lib\\site-packages\\konlpy\\tag\\_kkma.py\u001b[0m in \u001b[0;36mmorphs\u001b[1;34m(self, phrase)\u001b[0m\n\u001b[0;32m     82\u001b[0m         \u001b[1;34m\"\"\"Parse phrase to morphemes.\"\"\"\u001b[0m\u001b[1;33m\u001b[0m\u001b[1;33m\u001b[0m\u001b[0m\n\u001b[0;32m     83\u001b[0m \u001b[1;33m\u001b[0m\u001b[0m\n\u001b[1;32m---> 84\u001b[1;33m         \u001b[1;32mreturn\u001b[0m \u001b[1;33m[\u001b[0m\u001b[0ms\u001b[0m \u001b[1;32mfor\u001b[0m \u001b[0ms\u001b[0m\u001b[1;33m,\u001b[0m \u001b[0mt\u001b[0m \u001b[1;32min\u001b[0m \u001b[0mself\u001b[0m\u001b[1;33m.\u001b[0m\u001b[0mpos\u001b[0m\u001b[1;33m(\u001b[0m\u001b[0mphrase\u001b[0m\u001b[1;33m)\u001b[0m\u001b[1;33m]\u001b[0m\u001b[1;33m\u001b[0m\u001b[1;33m\u001b[0m\u001b[0m\n\u001b[0m\u001b[0;32m     85\u001b[0m \u001b[1;33m\u001b[0m\u001b[0m\n\u001b[0;32m     86\u001b[0m     \u001b[1;32mdef\u001b[0m \u001b[0msentences\u001b[0m\u001b[1;33m(\u001b[0m\u001b[0mself\u001b[0m\u001b[1;33m,\u001b[0m \u001b[0mphrase\u001b[0m\u001b[1;33m)\u001b[0m\u001b[1;33m:\u001b[0m\u001b[1;33m\u001b[0m\u001b[1;33m\u001b[0m\u001b[0m\n",
      "\u001b[1;32mc:\\users\\rhakt\\appdata\\local\\programs\\python\\python36\\lib\\site-packages\\konlpy\\tag\\_kkma.py\u001b[0m in \u001b[0;36mpos\u001b[1;34m(self, phrase, flatten, join)\u001b[0m\n\u001b[0;32m     68\u001b[0m                             \u001b[0mmorphemes\u001b[0m\u001b[1;33m.\u001b[0m\u001b[0mappend\u001b[0m\u001b[1;33m(\u001b[0m\u001b[0mmorpheme\u001b[0m\u001b[1;33m.\u001b[0m\u001b[0mgetString\u001b[0m\u001b[1;33m(\u001b[0m\u001b[1;33m)\u001b[0m \u001b[1;33m+\u001b[0m \u001b[1;34m'/'\u001b[0m \u001b[1;33m+\u001b[0m \u001b[0mmorpheme\u001b[0m\u001b[1;33m.\u001b[0m\u001b[0mgetTag\u001b[0m\u001b[1;33m(\u001b[0m\u001b[1;33m)\u001b[0m\u001b[1;33m)\u001b[0m\u001b[1;33m\u001b[0m\u001b[1;33m\u001b[0m\u001b[0m\n\u001b[0;32m     69\u001b[0m                         \u001b[1;32melse\u001b[0m\u001b[1;33m:\u001b[0m\u001b[1;33m\u001b[0m\u001b[1;33m\u001b[0m\u001b[0m\n\u001b[1;32m---> 70\u001b[1;33m                             \u001b[0mmorphemes\u001b[0m\u001b[1;33m.\u001b[0m\u001b[0mappend\u001b[0m\u001b[1;33m(\u001b[0m\u001b[1;33m(\u001b[0m\u001b[0mmorpheme\u001b[0m\u001b[1;33m.\u001b[0m\u001b[0mgetString\u001b[0m\u001b[1;33m(\u001b[0m\u001b[1;33m)\u001b[0m\u001b[1;33m,\u001b[0m \u001b[0mmorpheme\u001b[0m\u001b[1;33m.\u001b[0m\u001b[0mgetTag\u001b[0m\u001b[1;33m(\u001b[0m\u001b[1;33m)\u001b[0m\u001b[1;33m)\u001b[0m\u001b[1;33m)\u001b[0m\u001b[1;33m\u001b[0m\u001b[1;33m\u001b[0m\u001b[0m\n\u001b[0m\u001b[0;32m     71\u001b[0m                 \u001b[1;32melse\u001b[0m\u001b[1;33m:\u001b[0m\u001b[1;33m\u001b[0m\u001b[1;33m\u001b[0m\u001b[0m\n\u001b[0;32m     72\u001b[0m                     \u001b[1;32mif\u001b[0m \u001b[0mjoin\u001b[0m\u001b[1;33m:\u001b[0m\u001b[1;33m\u001b[0m\u001b[1;33m\u001b[0m\u001b[0m\n",
      "\u001b[1;31mUnicodeDecodeError\u001b[0m: 'utf-8' codec can't decode byte 0xed in position 0: invalid continuation byte"
     ]
    }
   ],
   "source": [
    "val = df[2][307]\n",
    "print(val)\n",
    "kkma.morphs(val)"
   ]
  },
  {
   "cell_type": "code",
   "execution_count": null,
   "metadata": {},
   "outputs": [],
   "source": [
    "# # words = kkma.pos(df[2][0])\n",
    "# # print(words)\n",
    "# pos_df =pd.DataFrame()\n",
    "# # pos_df=pos_df.append(words)\n",
    "# # pos_df\n",
    "# for i in range(len(df)):\n",
    "# #     print(\"i =\", i)\n",
    "#     temp = []\n",
    "#     STOPWORDS = []\n",
    "#     # words = kkma.pos(df[2][i])\n",
    "#     try:\n",
    "#         vocabs=kkma.morphs(df[2][i])\n",
    "#     except: continue\n",
    "#     vocab_pos = kkma.pos(df[2][i])\n",
    "#     for key, tag in vocab_pos:\n",
    "#         if tag in STOPWORD_POS:\n",
    "#             STOPWORDS.append(key)\n",
    "#     vocab_cnt = Counter(vocabs)\n",
    "#     string = \"\"\n",
    "#     for key, val in vocab_cnt.items():\n",
    "#         if not (key in STOPWORDS) and val >=5:\n",
    "#             string = string + key + \" \"\n",
    "#     pos_df[i] = string\n",
    "# pos_df\n",
    "        \n",
    "    \n",
    "# #     print(word_cnt)\n",
    "# #     for key, tag in words.items():\n",
    "# #         if not (key in STOPSORDS):\n",
    "# #             temp.append(key)\n",
    "# #         Counter(temp)\n",
    "        \n",
    "# #     pos_df[i] = words\n",
    "# # pos_df\n",
    "        \n",
    "\n",
    "# # vocab=Counter(words)\n",
    "# # vocab_pos = kkma.pos(df[2])\n",
    "# # print(vocab_pos)\n",
    "\n",
    "# # for key, tag in vocab_pos:\n",
    "# #     if tag in POS_STOPWORD:\n",
    "# #         STOPWORD2.append(key)\n",
    "        \n",
    "# # print(STOPWORD)\n",
    "\n",
    "# # vocab_final2 = dict()\n",
    "# # for key, val in vocab.items():\n",
    "# #     if not (key in STOPWORD2) and val >= 5:\n",
    "# #         vocab_final2[key] = val\n",
    "        \n",
    "# # print(vocab_final2)"
   ]
  },
  {
   "cell_type": "markdown",
   "metadata": {},
   "source": [
    "## 잠재 디리클레 할당 (Latent Dirichlet Allocation, LDA)\n",
    "- 문서들은 토픽들의 혼합을 구성, 토픽들은 확률 분포에 기반하여 단어들을 생성한다고 가정.\n",
    "- 문서가 생성되던 과정을 역추적"
   ]
  },
  {
   "cell_type": "code",
   "execution_count": null,
   "metadata": {},
   "outputs": [],
   "source": [
    "# # tokenized_doc = df['text'].apply(lambda x: x.split()) # 토큰화\n",
    "# def tokenize(string):\n",
    "#     try:\n",
    "#         return kkma.morphs(string)\n",
    "#     except:\n",
    "#         return None\n",
    "# tokenized_doc = pd.DataFrame()\n",
    "# tokenized_doc = df['text'].apply(lambda x: tokenize(x)) # 토큰화\n",
    "# tokenized_doc = tokenized_doc.dropna(axis = 0).reset_index()\n",
    "# del(tokenized_doc['index'])\n",
    "\n",
    "# tokenized_doc.head(10)"
   ]
  },
  {
   "cell_type": "code",
   "execution_count": null,
   "metadata": {},
   "outputs": [],
   "source": []
  },
  {
   "cell_type": "code",
   "execution_count": 93,
   "metadata": {},
   "outputs": [
    {
     "data": {
      "text/html": [
       "<div>\n",
       "<style scoped>\n",
       "    .dataframe tbody tr th:only-of-type {\n",
       "        vertical-align: middle;\n",
       "    }\n",
       "\n",
       "    .dataframe tbody tr th {\n",
       "        vertical-align: top;\n",
       "    }\n",
       "\n",
       "    .dataframe thead th {\n",
       "        text-align: right;\n",
       "    }\n",
       "</style>\n",
       "<table border=\"1\" class=\"dataframe\">\n",
       "  <thead>\n",
       "    <tr style=\"text-align: right;\">\n",
       "      <th></th>\n",
       "      <th>text</th>\n",
       "    </tr>\n",
       "  </thead>\n",
       "  <tbody>\n",
       "    <tr>\n",
       "      <th>0</th>\n",
       "      <td>[앵커] 인도에서는 연일 8만 명 이상의 신규 확진자 쏟아지면서 코로나19 누적 확...</td>\n",
       "    </tr>\n",
       "    <tr>\n",
       "      <th>1</th>\n",
       "      <td>지역발생 144명·해외유입 12명 ▪️사망자 3명 추가 총 344명 ✓문화·체육·관...</td>\n",
       "    </tr>\n",
       "    <tr>\n",
       "      <th>2</th>\n",
       "      <td>광주의 코로나19 상황이 진정되지 않고 있습니다. 광주에서는 어제 하루 신규 확진자...</td>\n",
       "    </tr>\n",
       "    <tr>\n",
       "      <th>3</th>\n",
       "      <td>특파원보고세계는지금 #세계는지금 #국제시사 특파원 보고 세계는 지금 (매주 토요일 ...</td>\n",
       "    </tr>\n",
       "    <tr>\n",
       "      <th>4</th>\n",
       "      <td>[LIVE] 중앙재난안전대책본부 코로나19 정례 브리핑 (2020년 9월 7일) /...</td>\n",
       "    </tr>\n",
       "    <tr>\n",
       "      <th>5</th>\n",
       "      <td>오늘 오전 0시 기준으로 국내 신종 코로나바이러스 감염증(코로나19) 신규 확진자가...</td>\n",
       "    </tr>\n",
       "    <tr>\n",
       "      <th>6</th>\n",
       "      <td>지난 3월 완치판정 박현 겸임교수…5개월 넘게 후유증 기억과 집중 힘든 '브레인 포...</td>\n",
       "    </tr>\n",
       "    <tr>\n",
       "      <th>7</th>\n",
       "      <td>코로나19 신규 확진자 119명 추가 총 2만1296명 ▪️사망자 2명 추가 총 3...</td>\n",
       "    </tr>\n",
       "    <tr>\n",
       "      <th>8</th>\n",
       "      <td>국내 코로나19 신규 확진자가 일주일째 백 명 대를 기록하는 가운데 대부분 서울과 ...</td>\n",
       "    </tr>\n",
       "    <tr>\n",
       "      <th>9</th>\n",
       "      <td>[앵커] 코로나19에 잘 대처했다고 평가받으며 사실상 청정지역을 선언했던 뉴질랜드에...</td>\n",
       "    </tr>\n",
       "  </tbody>\n",
       "</table>\n",
       "</div>"
      ],
      "text/plain": [
       "                                                text\n",
       "0  [앵커] 인도에서는 연일 8만 명 이상의 신규 확진자 쏟아지면서 코로나19 누적 확...\n",
       "1  지역발생 144명·해외유입 12명 ▪️사망자 3명 추가 총 344명 ✓문화·체육·관...\n",
       "2  광주의 코로나19 상황이 진정되지 않고 있습니다. 광주에서는 어제 하루 신규 확진자...\n",
       "3  특파원보고세계는지금 #세계는지금 #국제시사 특파원 보고 세계는 지금 (매주 토요일 ...\n",
       "4  [LIVE] 중앙재난안전대책본부 코로나19 정례 브리핑 (2020년 9월 7일) /...\n",
       "5  오늘 오전 0시 기준으로 국내 신종 코로나바이러스 감염증(코로나19) 신규 확진자가...\n",
       "6  지난 3월 완치판정 박현 겸임교수…5개월 넘게 후유증 기억과 집중 힘든 '브레인 포...\n",
       "7  코로나19 신규 확진자 119명 추가 총 2만1296명 ▪️사망자 2명 추가 총 3...\n",
       "8  국내 코로나19 신규 확진자가 일주일째 백 명 대를 기록하는 가운데 대부분 서울과 ...\n",
       "9  [앵커] 코로나19에 잘 대처했다고 평가받으며 사실상 청정지역을 선언했던 뉴질랜드에..."
      ]
     },
     "execution_count": 93,
     "metadata": {},
     "output_type": "execute_result"
    }
   ],
   "source": [
    "original = pd.read_excel(\"../코로나19_원문데이터.xlsx\", header=None, usecols=\"C\")\n",
    "df = original.dropna(axis = 0).reset_index()\n",
    "del(df['index'])\n",
    "df.columns = ['text']\n",
    "df.head(10)"
   ]
  },
  {
   "cell_type": "code",
   "execution_count": 95,
   "metadata": {},
   "outputs": [],
   "source": [
    "\"\"\"\n",
    "@ REFERENCE: http://kkma.snu.ac.kr/documents/?doc=postag\n",
    "NNB: 일반 의존 명사\n",
    "NNM: 단위 의존 명사\n",
    "VXV: 보조 동사\n",
    "VXA: 보조 형용사\n",
    "MDT: 일반 관형사\n",
    "MDN: 수 관형사\n",
    "MAG: 일반 부사\n",
    "MAC: 접속 부사\n",
    "IC: 감탄사\n",
    "JKS: 주격 조사\n",
    "JKC: 보격 조사\n",
    "JKG: 관형격 조사\n",
    "JKO: 목적격 조사\n",
    "JKM: 부사격 조사\n",
    "JKI: 호격 조사\n",
    "JKQ: 인용격 조사\n",
    "JX: 보조사\n",
    "JC: 접속 조사\n",
    "EPH: 존칭 선어말 어미\n",
    "EPT: 시제 선어말 어미\n",
    "EPP: 공손 선어말 어미\n",
    "EFN: 평서형 종결 어미\n",
    "EFQ: 의문형 종결 어미\n",
    "EFO: 명령형 종결 어미\n",
    "EFA: 청유형 종결 어미\n",
    "EFI: 감탄형 종결 어미\n",
    "EFR: 존칭형 종결 어미\n",
    "ECE: 대등 연결 어미\n",
    "ECD: 의존적 연결 어미\n",
    "ECS: 보조적 연결 어미\n",
    "ETN: 명사형 전성 어미\n",
    "ETD: 관형형 전성 어미\n",
    "XPN: 체언 접두사\n",
    "XPV: 용언 접두사\n",
    "XSN: 명사 파생 접미사\n",
    "XSV: 동사 파생 접미사\n",
    "XSA: 형용사 파생 접미사\n",
    "SF: 마침표, 물음표, 느낌표\n",
    "SP: 쉼표, 가운뎃점, 콜론, 빗금\n",
    "SS: 따옴표, 괄호표, 줄표\n",
    "SE: 줄임표\n",
    "SO: 붙임표(물결, 숨김, 빠짐)\n",
    "SW: 기타기호(논리수학기호, 화폐기호)\n",
    "\"\"\"\n",
    "\n",
    "POS_STOPWORD = ['NNB', 'NNM', 'VXV', 'VXA', 'MDT', 'MDN', 'MAG', 'MAC', \n",
    "                'IC', 'JKS', 'JKC', 'JKG', 'JKO', 'JKM', 'JKI', 'JKQ', \n",
    "                'JX', 'JC', 'EPH', 'EPT', 'EPP', 'EFN', 'EFQ', 'EFO', \n",
    "                'EFA', 'EFI', 'EFR', 'ECE', 'ECD', 'ECS', 'ETN', 'ETD', \n",
    "                'XPN', 'XPV', 'XSN', 'XSV', 'XSA', 'SF', 'SP', 'SS', 'SE', \n",
    "                'SO', 'SW']\n",
    "\n",
    "POS_PASSWORD = ['NNG', 'NNP', 'NP', 'UN', 'OL', 'OH']\n",
    "\n",
    "def preprocess(string):\n",
    "    rst = \"\"\n",
    "    try:\n",
    "        vocab_pos = kkma.pos(string)\n",
    "        for key, tag in vocab_pos:\n",
    "            # if not(tag in POS_STOPWORD):\n",
    "            if tag in POS_PASSWORD:\n",
    "                rst = rst + key + \" \"\n",
    "        return rst\n",
    "    \n",
    "    except: return None\n",
    "    \n",
    "    "
   ]
  },
  {
   "cell_type": "markdown",
   "metadata": {},
   "source": [
    "### 0> 전처리"
   ]
  },
  {
   "cell_type": "code",
   "execution_count": 96,
   "metadata": {},
   "outputs": [
    {
     "data": {
      "text/html": [
       "<div>\n",
       "<style scoped>\n",
       "    .dataframe tbody tr th:only-of-type {\n",
       "        vertical-align: middle;\n",
       "    }\n",
       "\n",
       "    .dataframe tbody tr th {\n",
       "        vertical-align: top;\n",
       "    }\n",
       "\n",
       "    .dataframe thead th {\n",
       "        text-align: right;\n",
       "    }\n",
       "</style>\n",
       "<table border=\"1\" class=\"dataframe\">\n",
       "  <thead>\n",
       "    <tr style=\"text-align: right;\">\n",
       "      <th></th>\n",
       "      <th>text</th>\n",
       "    </tr>\n",
       "  </thead>\n",
       "  <tbody>\n",
       "    <tr>\n",
       "      <th>0</th>\n",
       "      <td>앵커 인도 연일 이상 신규 진자 코로나 누적 진자 브라질 유럽 프랑스 이탈리아</td>\n",
       "    </tr>\n",
       "    <tr>\n",
       "      <th>1</th>\n",
       "      <td>지역 발생 해외 유입 사망자 추가 문화 체육 관광 다중 이용 시설 방역 수칙 점검 ...</td>\n",
       "    </tr>\n",
       "    <tr>\n",
       "      <th>2</th>\n",
       "      <td>광 주의 코로나 상황 진정 광주 어제 하루 신규 진자 단계 사회적 거리 시행 광주시...</td>\n",
       "    </tr>\n",
       "    <tr>\n",
       "      <th>3</th>\n",
       "      <td>특파원 보고 세계 지금 세계 지금 국제 시사 특파원 보고 세계 지금 매 토요일 밤 ...</td>\n",
       "    </tr>\n",
       "    <tr>\n",
       "      <th>4</th>\n",
       "      <td>LIVE 중앙 재난 안전 대책 본부 코로나 정례 브리핑 YTN</td>\n",
       "    </tr>\n",
       "  </tbody>\n",
       "</table>\n",
       "</div>"
      ],
      "text/plain": [
       "                                                text\n",
       "0       앵커 인도 연일 이상 신규 진자 코로나 누적 진자 브라질 유럽 프랑스 이탈리아 \n",
       "1  지역 발생 해외 유입 사망자 추가 문화 체육 관광 다중 이용 시설 방역 수칙 점검 ...\n",
       "2  광 주의 코로나 상황 진정 광주 어제 하루 신규 진자 단계 사회적 거리 시행 광주시...\n",
       "3  특파원 보고 세계 지금 세계 지금 국제 시사 특파원 보고 세계 지금 매 토요일 밤 ...\n",
       "4                LIVE 중앙 재난 안전 대책 본부 코로나 정례 브리핑 YTN "
      ]
     },
     "execution_count": 96,
     "metadata": {},
     "output_type": "execute_result"
    }
   ],
   "source": [
    "df2 = pd.DataFrame()\n",
    "for i in range(len(df)):\n",
    "    df['text'][i] = preprocess(df['text'][i])\n",
    "df.head()\n",
    "#     tokenized_doc.append([x for x in preprocess(df['text'][i]).split()])\n",
    "# tokenized_doc.head()"
   ]
  },
  {
   "cell_type": "code",
   "execution_count": 97,
   "metadata": {},
   "outputs": [
    {
     "data": {
      "text/html": [
       "<div>\n",
       "<style scoped>\n",
       "    .dataframe tbody tr th:only-of-type {\n",
       "        vertical-align: middle;\n",
       "    }\n",
       "\n",
       "    .dataframe tbody tr th {\n",
       "        vertical-align: top;\n",
       "    }\n",
       "\n",
       "    .dataframe thead th {\n",
       "        text-align: right;\n",
       "    }\n",
       "</style>\n",
       "<table border=\"1\" class=\"dataframe\">\n",
       "  <thead>\n",
       "    <tr style=\"text-align: right;\">\n",
       "      <th></th>\n",
       "      <th>text</th>\n",
       "    </tr>\n",
       "  </thead>\n",
       "  <tbody>\n",
       "    <tr>\n",
       "      <th>0</th>\n",
       "      <td>앵커 인도 연일 이상 신규 진자 코로나 누적 진자 브라질 유럽 프랑스 이탈리아</td>\n",
       "    </tr>\n",
       "    <tr>\n",
       "      <th>1</th>\n",
       "      <td>지역 발생 해외 유입 사망자 추가 문화 체육 관광 다중 이용 시설 방역 수칙 점검 ...</td>\n",
       "    </tr>\n",
       "    <tr>\n",
       "      <th>2</th>\n",
       "      <td>광 주의 코로나 상황 진정 광주 어제 하루 신규 진자 단계 사회적 거리 시행 광주시...</td>\n",
       "    </tr>\n",
       "    <tr>\n",
       "      <th>3</th>\n",
       "      <td>특파원 보고 세계 지금 세계 지금 국제 시사 특파원 보고 세계 지금 매 토요일 밤 ...</td>\n",
       "    </tr>\n",
       "    <tr>\n",
       "      <th>4</th>\n",
       "      <td>LIVE 중앙 재난 안전 대책 본부 코로나 정례 브리핑 YTN</td>\n",
       "    </tr>\n",
       "    <tr>\n",
       "      <th>5</th>\n",
       "      <td>오늘 오전 기준 국내 신종 코로나 바 이러스 감염증 코로나 신규 진자 누적 신규 진...</td>\n",
       "    </tr>\n",
       "    <tr>\n",
       "      <th>6</th>\n",
       "      <td>월 완치 판정 박 현 겸임 교수 후유증 기억 집중 브레인 포 증상 가슴 복부 통증 ...</td>\n",
       "    </tr>\n",
       "    <tr>\n",
       "      <th>7</th>\n",
       "      <td>코로나 신규 진자 추가 사망자 추가 서울 도심 집회 관련 추가 진 누적 진자 서울 ...</td>\n",
       "    </tr>\n",
       "    <tr>\n",
       "      <th>8</th>\n",
       "      <td>국내 코로나 신규 진자 일주일 대 기록 가운데 대부분 서울 경기 인천 수도권 진자 ...</td>\n",
       "    </tr>\n",
       "    <tr>\n",
       "      <th>9</th>\n",
       "      <td>앵커 코로나 대처 평가 청정 지역 선언 뉴 랜드 지역 감염 발생 랜드 지역 봉쇄령</td>\n",
       "    </tr>\n",
       "  </tbody>\n",
       "</table>\n",
       "</div>"
      ],
      "text/plain": [
       "                                                text\n",
       "0       앵커 인도 연일 이상 신규 진자 코로나 누적 진자 브라질 유럽 프랑스 이탈리아 \n",
       "1  지역 발생 해외 유입 사망자 추가 문화 체육 관광 다중 이용 시설 방역 수칙 점검 ...\n",
       "2  광 주의 코로나 상황 진정 광주 어제 하루 신규 진자 단계 사회적 거리 시행 광주시...\n",
       "3  특파원 보고 세계 지금 세계 지금 국제 시사 특파원 보고 세계 지금 매 토요일 밤 ...\n",
       "4                LIVE 중앙 재난 안전 대책 본부 코로나 정례 브리핑 YTN \n",
       "5  오늘 오전 기준 국내 신종 코로나 바 이러스 감염증 코로나 신규 진자 누적 신규 진...\n",
       "6  월 완치 판정 박 현 겸임 교수 후유증 기억 집중 브레인 포 증상 가슴 복부 통증 ...\n",
       "7  코로나 신규 진자 추가 사망자 추가 서울 도심 집회 관련 추가 진 누적 진자 서울 ...\n",
       "8  국내 코로나 신규 진자 일주일 대 기록 가운데 대부분 서울 경기 인천 수도권 진자 ...\n",
       "9     앵커 코로나 대처 평가 청정 지역 선언 뉴 랜드 지역 감염 발생 랜드 지역 봉쇄령 "
      ]
     },
     "execution_count": 97,
     "metadata": {},
     "output_type": "execute_result"
    }
   ],
   "source": [
    "df = df.dropna(axis = 0).reset_index()\n",
    "del(df['index'])\n",
    "df.columns = ['text']\n",
    "df.head(10)"
   ]
  },
  {
   "cell_type": "code",
   "execution_count": null,
   "metadata": {},
   "outputs": [],
   "source": []
  },
  {
   "cell_type": "markdown",
   "metadata": {},
   "source": [
    "### 0) 전처리"
   ]
  },
  {
   "cell_type": "code",
   "execution_count": 72,
   "metadata": {
    "scrolled": true
   },
   "outputs": [],
   "source": [
    "# original = pd.read_excel(\"../코로나19_정제데이터.xlsx\", header=None)\n",
    "# df = original.dropna(axis = 0).reset_index()\n",
    "# del(df['index'])\n",
    "# df.columns = ['text']\n",
    "# df.head(10)"
   ]
  },
  {
   "cell_type": "code",
   "execution_count": 98,
   "metadata": {},
   "outputs": [
    {
     "data": {
      "text/plain": [
       "'앵커 인도 연일 이상 신규 진자 코로나 누적 진자 브라질 유럽 프랑스 이탈리아 '"
      ]
     },
     "execution_count": 98,
     "metadata": {},
     "output_type": "execute_result"
    }
   ],
   "source": [
    "df['text'][0]"
   ]
  },
  {
   "cell_type": "code",
   "execution_count": 99,
   "metadata": {},
   "outputs": [
    {
     "data": {
      "text/plain": [
       "['앵커',\n",
       " '인도',\n",
       " '연일',\n",
       " '이상',\n",
       " '신규',\n",
       " '진자',\n",
       " '코로나',\n",
       " '누적',\n",
       " '진자',\n",
       " '브라질',\n",
       " '유럽',\n",
       " '프랑스',\n",
       " '이탈리아']"
      ]
     },
     "execution_count": 99,
     "metadata": {},
     "output_type": "execute_result"
    }
   ],
   "source": [
    "tokenized_doc = []\n",
    "for i in range(len(df)):\n",
    "    tokenized_doc.append([x for x in df['text'][i].split()])\n",
    "    \n",
    "tokenized_doc[0]"
   ]
  },
  {
   "cell_type": "markdown",
   "metadata": {},
   "source": [
    "### 1) 정수 인코딩과 단어 집합 만들기"
   ]
  },
  {
   "cell_type": "code",
   "execution_count": 100,
   "metadata": {},
   "outputs": [
    {
     "name": "stdout",
     "output_type": "stream",
     "text": [
      "[(0, 1), (1, 1), (2, 1), (3, 1), (4, 1), (5, 1), (6, 1), (7, 1), (8, 1), (9, 2), (10, 1), (11, 1)]\n"
     ]
    }
   ],
   "source": [
    "from gensim import corpora\n",
    "dictionary = corpora.Dictionary(tokenized_doc)\n",
    "corpus = [dictionary.doc2bow(text) for text in tokenized_doc]\n",
    "print(corpus[0]) # 수행된 결과에서 두번째 뉴스 출력. 첫번째 문서의 인덱스는 0"
   ]
  },
  {
   "cell_type": "code",
   "execution_count": 101,
   "metadata": {},
   "outputs": [
    {
     "data": {
      "text/plain": [
       "'유럽'"
      ]
     },
     "execution_count": 101,
     "metadata": {},
     "output_type": "execute_result"
    }
   ],
   "source": [
    "dictionary[5]"
   ]
  },
  {
   "cell_type": "code",
   "execution_count": 102,
   "metadata": {},
   "outputs": [
    {
     "data": {
      "text/plain": [
       "'물품'"
      ]
     },
     "execution_count": 102,
     "metadata": {},
     "output_type": "execute_result"
    }
   ],
   "source": [
    "dictionary[15]"
   ]
  },
  {
   "cell_type": "code",
   "execution_count": 103,
   "metadata": {},
   "outputs": [
    {
     "data": {
      "text/plain": [
       "15402"
      ]
     },
     "execution_count": 103,
     "metadata": {},
     "output_type": "execute_result"
    }
   ],
   "source": [
    "len(dictionary)"
   ]
  },
  {
   "cell_type": "markdown",
   "metadata": {},
   "source": [
    "### 2) LDA 모델 훈련시키기"
   ]
  },
  {
   "cell_type": "code",
   "execution_count": 104,
   "metadata": {},
   "outputs": [
    {
     "name": "stdout",
     "output_type": "stream",
     "text": [
      "(0, '0.080*\"코로나\" + 0.054*\"진자\" + 0.034*\"답변\" + 0.024*\"발생\"')\n",
      "(1, '0.030*\"https\" + 0.018*\"com\" + 0.015*\"뉴스\" + 0.013*\"kr\"')\n",
      "(2, '0.052*\"of\" + 0.038*\"the\" + 0.027*\"on\" + 0.025*\"연구\"')\n",
      "(3, '0.069*\"코로나\" + 0.021*\"경제\" + 0.018*\"세계\" + 0.015*\"기술\"')\n",
      "(4, '0.043*\"목적\" + 0.020*\"I\" + 0.020*\"s\" + 0.019*\"목\"')\n",
      "(5, '0.115*\"코로나\" + 0.013*\"증상\" + 0.010*\"마스크\" + 0.008*\"확산\"')\n",
      "(6, '0.051*\"코로나\" + 0.027*\"거리\" + 0.024*\"사회적\" + 0.023*\"단계\"')\n",
      "(7, '0.075*\"코로나\" + 0.029*\"바\" + 0.028*\"이러스\" + 0.027*\"신종\"')\n",
      "(8, '0.074*\"and\" + 0.024*\"고용\" + 0.024*\"지원금\" + 0.017*\"긴급\"')\n",
      "(9, '0.034*\"gt\" + 0.028*\"lt\" + 0.022*\"코로나\" + 0.015*\"조사\"')\n"
     ]
    }
   ],
   "source": [
    "import gensim\n",
    "NUM_TOPICS = 10 # 10개의 토픽, k=0\n",
    "ldamodel = gensim.models.ldamodel.LdaModel(corpus, num_topics = NUM_TOPICS, id2word=dictionary, passes=15)\n",
    "topics = ldamodel.print_topics(num_words=4)\n",
    "for topic in topics:\n",
    "    print(topic)"
   ]
  },
  {
   "cell_type": "code",
   "execution_count": 105,
   "metadata": {
    "scrolled": true
   },
   "outputs": [
    {
     "name": "stdout",
     "output_type": "stream",
     "text": [
      "[(0, '0.080*\"코로나\" + 0.054*\"진자\" + 0.034*\"답변\" + 0.024*\"발생\" + 0.017*\"본부\" + 0.015*\"기준\" + 0.015*\"방역\" + 0.014*\"진\" + 0.013*\"신규\" + 0.013*\"대책\"'), (1, '0.030*\"https\" + 0.018*\"com\" + 0.015*\"뉴스\" + 0.013*\"kr\" + 0.011*\"이론\" + 0.011*\"코로나\" + 0.011*\"http\" + 0.011*\"일본\" + 0.011*\"news\" + 0.010*\"naver\"'), (2, '0.052*\"of\" + 0.038*\"the\" + 0.027*\"on\" + 0.025*\"연구\" + 0.019*\"목차\" + 0.018*\"in\" + 0.016*\"저\" + 0.013*\"표\" + 0.013*\"A\" + 0.011*\"제지\"'), (3, '0.069*\"코로나\" + 0.021*\"경제\" + 0.018*\"세계\" + 0.015*\"기술\" + 0.013*\"확산\" + 0.011*\"글로벌\" + 0.011*\"시장\" + 0.011*\"미국\" + 0.010*\"위기\" + 0.010*\"동향\"'), (4, '0.043*\"목적\" + 0.020*\"I\" + 0.020*\"s\" + 0.019*\"목\" + 0.018*\"차\" + 0.013*\"방향\" + 0.010*\"as\" + 0.010*\"부분\" + 0.010*\"분석\" + 0.009*\"광주\"'), (5, '0.115*\"코로나\" + 0.013*\"증상\" + 0.010*\"마스크\" + 0.008*\"확산\" + 0.008*\"바이러스\" + 0.007*\"감염\" + 0.005*\"신청\" + 0.005*\"중국\" + 0.005*\"기침\" + 0.005*\"예방\"'), (6, '0.051*\"코로나\" + 0.027*\"거리\" + 0.024*\"사회적\" + 0.023*\"단계\" + 0.019*\"기\" + 0.018*\"확산\" + 0.015*\"절\" + 0.013*\"김\" + 0.012*\"축사\" + 0.009*\"시대\"'), (7, '0.075*\"코로나\" + 0.029*\"바\" + 0.028*\"이러스\" + 0.027*\"신종\" + 0.022*\"개발\" + 0.022*\"감염증\" + 0.020*\"백신\" + 0.016*\"치료제\" + 0.015*\"임상\" + 0.013*\"신\"'), (8, '0.074*\"and\" + 0.024*\"고용\" + 0.024*\"지원금\" + 0.017*\"긴급\" + 0.017*\"안정\" + 0.012*\"소득\" + 0.012*\"a\" + 0.009*\"with\" + 0.008*\"금융\" + 0.008*\"from\"'), (9, '0.034*\"gt\" + 0.028*\"lt\" + 0.022*\"코로나\" + 0.015*\"조사\" + 0.012*\"검사\" + 0.010*\"결과\" + 0.009*\"인증\" + 0.009*\"소\" + 0.008*\"지원\" + 0.008*\"안내\"')]\n"
     ]
    }
   ],
   "source": [
    "print(ldamodel.print_topics())"
   ]
  },
  {
   "cell_type": "code",
   "execution_count": 106,
   "metadata": {},
   "outputs": [
    {
     "data": {
      "text/plain": [
       "[(0,\n",
       "  '0.080*\"코로나\" + 0.054*\"진자\" + 0.034*\"답변\" + 0.024*\"발생\" + 0.017*\"본부\" + 0.015*\"기준\" + 0.015*\"방역\" + 0.014*\"진\" + 0.013*\"신규\" + 0.013*\"대책\"'),\n",
       " (1,\n",
       "  '0.030*\"https\" + 0.018*\"com\" + 0.015*\"뉴스\" + 0.013*\"kr\" + 0.011*\"이론\" + 0.011*\"코로나\" + 0.011*\"http\" + 0.011*\"일본\" + 0.011*\"news\" + 0.010*\"naver\"'),\n",
       " (2,\n",
       "  '0.052*\"of\" + 0.038*\"the\" + 0.027*\"on\" + 0.025*\"연구\" + 0.019*\"목차\" + 0.018*\"in\" + 0.016*\"저\" + 0.013*\"표\" + 0.013*\"A\" + 0.011*\"제지\"'),\n",
       " (3,\n",
       "  '0.069*\"코로나\" + 0.021*\"경제\" + 0.018*\"세계\" + 0.015*\"기술\" + 0.013*\"확산\" + 0.011*\"글로벌\" + 0.011*\"시장\" + 0.011*\"미국\" + 0.010*\"위기\" + 0.010*\"동향\"'),\n",
       " (4,\n",
       "  '0.043*\"목적\" + 0.020*\"I\" + 0.020*\"s\" + 0.019*\"목\" + 0.018*\"차\" + 0.013*\"방향\" + 0.010*\"as\" + 0.010*\"부분\" + 0.010*\"분석\" + 0.009*\"광주\"'),\n",
       " (5,\n",
       "  '0.115*\"코로나\" + 0.013*\"증상\" + 0.010*\"마스크\" + 0.008*\"확산\" + 0.008*\"바이러스\" + 0.007*\"감염\" + 0.005*\"신청\" + 0.005*\"중국\" + 0.005*\"기침\" + 0.005*\"예방\"'),\n",
       " (6,\n",
       "  '0.051*\"코로나\" + 0.027*\"거리\" + 0.024*\"사회적\" + 0.023*\"단계\" + 0.019*\"기\" + 0.018*\"확산\" + 0.015*\"절\" + 0.013*\"김\" + 0.012*\"축사\" + 0.009*\"시대\"'),\n",
       " (7,\n",
       "  '0.075*\"코로나\" + 0.029*\"바\" + 0.028*\"이러스\" + 0.027*\"신종\" + 0.022*\"개발\" + 0.022*\"감염증\" + 0.020*\"백신\" + 0.016*\"치료제\" + 0.015*\"임상\" + 0.013*\"신\"'),\n",
       " (8,\n",
       "  '0.074*\"and\" + 0.024*\"고용\" + 0.024*\"지원금\" + 0.017*\"긴급\" + 0.017*\"안정\" + 0.012*\"소득\" + 0.012*\"a\" + 0.009*\"with\" + 0.008*\"금융\" + 0.008*\"from\"'),\n",
       " (9,\n",
       "  '0.034*\"gt\" + 0.028*\"lt\" + 0.022*\"코로나\" + 0.015*\"조사\" + 0.012*\"검사\" + 0.010*\"결과\" + 0.009*\"인증\" + 0.009*\"소\" + 0.008*\"지원\" + 0.008*\"안내\"')]"
      ]
     },
     "execution_count": 106,
     "metadata": {},
     "output_type": "execute_result"
    }
   ],
   "source": [
    "ldamodel.print_topics()"
   ]
  },
  {
   "cell_type": "markdown",
   "metadata": {},
   "source": [
    "### 3) LDA 시각화 하기"
   ]
  },
  {
   "cell_type": "code",
   "execution_count": 107,
   "metadata": {},
   "outputs": [
    {
     "data": {
      "text/html": [
       "\n",
       "<link rel=\"stylesheet\" type=\"text/css\" href=\"https://cdn.rawgit.com/bmabey/pyLDAvis/files/ldavis.v1.0.0.css\">\n",
       "\n",
       "\n",
       "<div id=\"ldavis_el2038013936602447608882074904\"></div>\n",
       "<script type=\"text/javascript\">\n",
       "\n",
       "var ldavis_el2038013936602447608882074904_data = {\"mdsDat\": {\"x\": [0.17852846616046952, 0.18486613482804676, 0.13715933762488408, 0.09326336185037161, 0.10681978809042988, -0.25640182147334795, -0.0044424960786098085, -0.08424239581313447, -0.2136844654709322, -0.14186590971817756], \"y\": [-0.05426538044273386, -0.032771809982045964, -0.0608940697129767, 0.008846584497621813, 0.017391478481275244, -0.3356193223046625, 0.0722055343184146, 0.07734061267553503, 0.19688548041677517, 0.11088089205279707], \"topics\": [1, 2, 3, 4, 5, 6, 7, 8, 9, 10], \"cluster\": [1, 1, 1, 1, 1, 1, 1, 1, 1, 1], \"Freq\": [25.190353418617, 19.23476942650414, 13.320140412209355, 8.609125021042706, 8.576711065224517, 8.45496230037692, 5.021139703531119, 4.7179967976951955, 3.6968717094224224, 3.17793014537662]}, \"tinfo\": {\"Term\": [\"\\uc9c4\\uc790\", \"of\", \"\\ucf54\\ub85c\\ub098\", \"\\ub2f5\\ubcc0\", \"and\", \"\\ubc14\", \"the\", \"\\uc774\\ub7ec\\uc2a4\", \"\\uc2e0\\uc885\", \"\\ubc1c\\uc0dd\", \"\\uac70\\ub9ac\", \"\\uac10\\uc5fc\\uc99d\", \"on\", \"\\uac1c\\ubc1c\", \"\\uc5f0\\uad6c\", \"\\ubcf8\\ubd80\", \"\\ubc31\\uc2e0\", \"gt\", \"\\uc0ac\\ud68c\\uc801\", \"\\ud655\\uc0b0\", \"\\ub2e8\\uacc4\", \"\\uae30\\uc900\", \"\\ubaa9\\uc801\", \"\\uce58\\ub8cc\\uc81c\", \"https\", \"\\uacbd\\uc81c\", \"lt\", \"\\uc2e0\\uaddc\", \"\\uc784\\uc0c1\", \"\\uc99d\\uc0c1\", \"\\uae30\\uce68\", \"\\uc694\\uc998\", \"\\ucc29\\uc6a9\", \"\\uc5f4\", \"\\uc815\\ub3c4\", \"\\uc9c0\\uae09\", \"ng\", \"\\ub2f5\", \"\\uac71\\uc815\", \"\\ud601\\uba85\", \"\\uc5ec\\ub984\", \"\\ub7ec\\uc2dc\\uc544\", \"\\ub0a0\", \"\\ub514\\uc9c0\\ud138\", \"\\ud0c8\", \"\\ub2f9\", \"\\uc81c\\uac00\", \"\\uac10\\uae30\", \"\\uc8fc\\uc138\", \"\\ubd88\\uc548\", \"\\uc77c\\ubc18\", \"\\uc6b4\\ub3d9\", \"\\ubcf4\\ud5d8\", \"\\uc784\", \"\\uc18c\\ub3c5\", \"\\uba74\\uc5ed\\ub825\", \"\\uac00\\uc694\", \"\\uce74\\ud398\", \"\\ubbfc\\uac04\", \"\\ubab8\", \"\\ub9c8\\uc2a4\\ud06c\", \"\\uc99d\\uc0c1\", \"\\ub54c\", \"\\uc548\\ub155\", \"\\ubd84\", \"\\uc778\\ud6c4\", \"\\uc2e0\\uccad\", \"\\ucd08\\uae30\", \"\\uacbd\\uc6b0\", \"\\uc0ac\\ub78c\", \"\\uc608\\ubc29\", \"\\ubcd1\\uc6d0\", \"\\ucf54\\ub85c\\ub098\", \"\\ubc14\\uc774\\ub7ec\\uc2a4\", \"\\ubc1c\\uc5f4\", \"\\uc0dd\\ud65c\", \"\\uac74\\uac15\", \"\\uc911\\uad6d\", \"\\uac10\\uc5fc\", \"\\uc774\\uc0c1\", \"\\ud655\\uc0b0\", \"\\ub300\\uc751\", \"\\uadf9\\ubcf5\", \"\\uac80\\uc0ac\", \"\\uc77c\", \"\\uc804\", \"\\uc800\", \"\\uc0c1\\ud669\", \"\\ubc29\\uc5ed\", \"\\uc624\\ub298\", \"\\uc9c0\\uae08\", \"\\uc6b0\\ub9ac\", \"\\ub2f5\\ubcc0\", \"\\ubcf8\\ubd80\", \"\\uae30\\uc900\", \"\\uc2e0\\uaddc\", \"\\uc911\\uc559\", \"\\ub204\\uc801\", \"\\uc0ac\\ub9dd\\uc790\", \"\\uc2a4\\uac10\", \"\\ube0c\\ub9ac\\ud551\", \"\\uc5fc\\uc99d\", \"\\uad6d\\ubb38\", \"\\uacbd\\ub85c\", \"\\uc720\\uc785\", \"\\uc815\\ub840\", \"\\uc815\\uc740\", \"\\ubb34\\uc5ed\", \"\\uc9d1\\uacc4\", \"\\ubcf8\\ubd80\\uc7a5\", \"\\uc77c\\uc77c\", \"\\uacbd\\uc7c1\", \"\\ud1b5\\uacc4\", \"\\ud654\\uc131\", \"\\ud1f4\\uc6d0\", \"\\ub300\\ubcf8\", \"\\uc138\\uc885\", \"der\", \"\\uc6d4\\ub4dc\", \"\\ubb34\\uae30\\ub825\", \"\\ud574\\uc81c\", \"\\ub204\\uacc4\", \"\\uc9c4\\uc790\", \"\\uc0ac\\ub9dd\", \"\\ubc1c\\uc0dd\", \"\\ub300\\ucc45\", \"\\uc9c4\", \"\\uc218\", \"\\uc9c8\\ubcd1\", \"\\ud604\\ud669\", \"\\ubc29\\uc5ed\", \"\\ud658\\uc790\", \"\\uad6d\\ub0b4\", \"nbsp\", \"\\uad00\\ub9ac\", \"\\ub300\", \"\\ucd94\\uac00\", \"\\ucf54\\ub85c\\ub098\", \"\\uc624\\uc804\", \"\\ud574\\uc678\", \"\\ubc14\", \"\\uac10\\uc5fc\", \"\\uc9c0\\uc5ed\", \"\\uc804\", \"\\uad00\\ub828\", \"\\uac10\\uc5fc\\uc99d\", \"\\ubc31\\uc2e0\", \"\\uce58\\ub8cc\\uc81c\", \"\\uc784\\uc0c1\", \"\\uc2dc\\ud5d8\", \"\\uc0c1\", \"\\uc0dd\\uc0b0\", \"\\uc2b9\\uc778\", \"\\ud56d\\uccb4\", \"\\ub370\\uc774\\ud130\", \"\\uc81c\\uc57d\", \"\\uc2a4\\ud2b8\\ub77c\", \"\\ubb3c\\uc9c8\", \"Infectious\", \"\\ud6c4\\ubcf4\", \"v\", \"Disease\", \"\\uc758\\uc57d\\ud488\", \"\\uc140\", \"\\ubc14\\uc774\\uc624\", \"\\uc81c\\uc57d\\uc0ac\", \"\\uad00\\ub828\\uc8fc\", \"\\ud2b8\\ub9ac\", \"\\ub3d9\\uc2dc\", \"\\uc628\", \"\\uacf5\\uc815\", \"\\ub300\\ub7c9\", \"\\uba74\\uc5ed\", \"\\uc8fc\\uac00\", \"\\uccb4\", \"\\ub3d9\\ubb3c\", \"\\uac1c\\ubc1c\", \"\\uc2e0\", \"\\uc2dd\\ud488\", \"\\uc774\\ub7ec\\uc2a4\", \"\\uc2e0\\uc885\", \"\\ud604\\uc9c0\", \"\\uac10\\uc5fc\\uc99d\", \"\\uc601\\uad6d\", \"\\ubc14\", \"quot\", \"\\uc9c4\\ub2e8\", \"\\uc81c\", \"\\ucf54\\ub85c\\ub098\", \"\\uce58\\ub8cc\", \"\\ubc14\\uc774\\ub7ec\\uc2a4\", \"\\uc18c\\ube44\", \"\\ubbf8\\uad6d\", \"\\uad6d\\ub0b4\", \"\\uc9c4\\ud589\", \"\\uc2dc\\uac04\", \"\\uc5f0\\uad6c\", \"\\uacb0\\uacfc\", \"\\uac70\\ub9ac\", \"\\uc0ac\\ud68c\\uc801\", \"\\ub2e8\\uacc4\", \"\\uae30\", \"\\uc808\", \"\\ucd95\\uc0ac\", \"is\", \"\\uaca9\\uc0c1\", \"\\ud0dd\\ud2b8\", \"\\ucca0\", \"\\ub3d9\\ubc18\", \"\\uc778\\uc0ac\\ub9d0\", \"Post\", \"\\ub3c4\\uc11c\\uad00\", \"\\ucf58\\ud150\\uce20\", \"\\uc601\\ud654\", \"\\uc774\\ub4dc\", \"\\ub178\\uba40\", \"\\ud55c\\uac15\", \"\\uc81c\\uc870\", \"\\ub2c8\", \"\\ub300\\ucd9c\", \"\\uae30\\uac00\", \"after\", \"\\uc81c\\uc678\", \"\\uadf8\\ub3d9\\uc548\", \"\\uc804\\uc5ed\", \"\\ubcd1\\uc11d\", \"\\ud3d0\\uc1c4\", \"\\ucf55\", \"\\uc5f0\\uc7a5\", \"\\uad50\\uc721\", \"\\ud45c\\uc9c0\", \"\\uad00\\uacc4\", \"\\uc2dc\\ub300\", \"\\uac15\\ud654\", \"\\uae40\", \"\\uc5f0\\uae30\", \"\\uae38\", \"\\uc218\\uc5c5\", \"\\uacf5\\uac04\", \"\\ud655\\uc0b0\", \"\\uc870\\uce58\", \"\\uc2dc\\ud589\", \"\\uc0dd\\uac01\", \"\\ubc15\", \"\\uc218\\ub3c4\\uad8c\", \"\\ucf54\\ub85c\\ub098\", \"\\ubc29\\uc9c0\", \"\\uc0ac\\ud0dc\", \"\\uc628\\ub77c\\uc778\", \"\\uc704\", \"\\uc9c0\\uc5ed\", \"\\uc6b0\\ub9ac\", \"\\ubb38\", \"\\uae00\\ub85c\\ubc8c\", \"\\uc815\\ucc45\", \"Corona\", \"\\ud22c\\uc790\", \"\\ud655\\ubcf4\", \"\\uc6b0\\ub9ac\\ub098\\ub77c\", \"\\uc218\\ucd9c\", \"\\uacfc\\uc81c\", \"\\ucda9\\uaca9\", \"\\uc5c5\\uacc4\", \"\\ubcf8\\ubb38\", \"\\uad6d\\ub0b4\\uc678\", \"\\ubd09\\uc1c4\", \"\\uc5ec\\uac74\", \"\\uce68\\uccb4\", \"\\ub2e8\\uacc4\\ubcc4\", \"\\uc9c4\\ucd9c\", \"\\ucd5c\\uc2e0\", \"\\ud559\\uc2b5\", \"\\uae30\\ubcf8\", \"\\uc7a5\\uad00\", \"\\ub178\\ub3d9\", \"\\uac01\\uad6d\", \"\\uc644\\ud654\", \"\\uae30\\ud68c\", \"\\uc7a5\\ubcd1\", \"\\uc7a5\\uc560\\uc778\", \"\\ud2b8\\ub7fc\\ud504\", \"\\uacf5\\uc5f0\", \"\\ud68c\\ubcf4\", \"\\uacbd\\uc81c\", \"\\ub3d9\\ud5a5\", \"\\uae30\\uad6c\", \"\\uad6d\\ud68c\", \"WHO\", \"\\uc138\\uacc4\\uc801\", \"\\uae30\\uc220\", \"\\uae30\\uc5c5\", \"\\uc138\\uacc4\", \"\\uc704\\uae30\", \"\\uc2dc\\uc7a5\", \"\\uad6d\\uc81c\", \"\\uc601\\ud5a5\", \"\\ubcf4\\uac74\", \"\\ubbf8\\uad6d\", \"\\ubbf9\", \"\\uc9c0\\uc6d0\", \"\\ucf54\\ub85c\\ub098\", \"\\uc758\\ub8cc\", \"\\uc804\\ub9dd\", \"\\uc774\\ud6c4\", \"\\uc911\\uad6d\", \"\\uc790\\ub8cc\", \"\\ud655\\uc0b0\", \"\\uc11c\\ube44\\uc2a4\", \"\\uac1c\\uc694\", \"\\uc815\\ubcf4\", \"\\uc0c1\\ud669\", \"\\ub300\\uc751\", \"\\ud55c\\uad6d\", \"\\ud574\\uc678\", \"of\", \"the\", \"on\", \"\\ubaa9\\ucc28\", \"in\", \"\\ud45c\", \"\\uc81c\\uc9c0\", \"for\", \"Study\", \"\\uc11c\\ub860\", \"to\", \"The\", \"\\ubc30\\uacbd\", \"Korea\", \"study\", \"\\ubcf4\\uace0\\uc11c\", \"by\", \"\\ub17c\\ubb38\", \"\\ud544\\uc694\\uc131\", \"Analysis\", \"using\", \"\\ubc29\\uc804\", \"System\", \"Republic\", \"COVID-19situation\", \"As\", \"report\", \"Weekly\", \"\\ud50c\\ub77c\\uc988\\ub9c8\", \"\\ucd08\\ub85d\", \"\\uc5f0\\uad6c\", \"\\ubcf8\", \"A\", \"\\uc800\", \"COVID-19\", \"\\uc0b0\\uc5c5\", \"\\uc7a5\", \"\\uc694\\uc57d\", \"\\uac10\\uc5fc\\ubcd1\", \"\\ubb38\", \"\\uc81c\", \"gt\", \"lt\", \"\\uc778\\uc99d\", \"\\uc9c4\\ub8cc\\uc18c\", \"\\ub300\\uc804\", \"\\uc0c1\\uacf5\\uc778\", \"\\uc5ed\\ud559\", \"\\ubc30\\ucd9c\", \"\\uc790\\uae08\", \"ez\", \"bD\", \"\\ub300\\uae30\", \"\\uc785\\uae08\", \"\\ubab8\\uc0b4\", \"\\uac00\\ub798\", \"\\ud29c\\ube0c\", \"\\uc218\\uc785\", \"\\uc2e0\\uc6a9\", \"\\uc8fc\\uc694\\uad6d\", \"\\uae40\\ud3ec\\uc2dc\", \"\\uc911\\uc18c\\uae30\\uc5c5\", \"\\uc815\\uc758\", \"\\ud2b9\\ub840\", \"\\ub2e4\", \"\\uc874\", \"\\ubcf4\\uc99d\", \"\\uc720\\uc544\", \"KC\", \"bEaIOi\", \"\\uc7a5\\ub2f9\", \"\\ub9c1\\ud06c\", \"\\uc815\\ud655\", \"\\uc120\\ubcc4\", \"\\uc870\\uc0ac\", \"\\ud1b5\", \"\\ucd94\\uc11d\", \"\\uc18c\", \"\\uc5ec\\uc131\", \"\\uc785\\uad6d\", \"coupa\", \"\\ubcf4\\uac74\\uc18c\", \"\\uc0c1\\ud488\", \"\\uacb0\\uacfc\", \"\\uc548\\ub0b4\", \"\\uac80\\uc0ac\", \"\\ud3ec\", \"\\ud310\\uc815\", \"\\uc608\\uc0c1\", \"\\uc9c0\\uc6d0\", \"\\ucf54\\ub85c\\ub098\", \"\\ub300\\ube44\", \"\\uad00\\ub828\", \"A\", \"\\ub0b4\\uc6a9\", \"\\ud655\\uc778\", \"\\uc9c0\\uc5ed\", \"\\uc8fc\\uc694\", \"\\uc9c4\\uc790\", \"com\", \"kr\", \"\\uc774\\ub860\", \"http\", \"news\", \"naver\", \"www\", \"\\ub098\\ub77c\", \"\\ud64d\", \"\\uad6c\\uc131\", \"\\u318d\", \"article\", \"\\uac80\\ud1a0\", \"\\uc8fc\\uc2dd\", \"n\", \"\\ubc18\\uc751\", \"\\uac80\\uccb4\", \"\\ud3d0\", \"\\ubc30\\ub2ec\", \"\\ud544\\ub9ac\\ud540\", \"\\uae30\\ub2a5\", \"\\ucd95\\uc81c\", \"\\uc720\\ud1b5\", \"co\", \"\\u3147\", \"\\ucd95\\uc0b0\", \"B\", \"O\", \"\\ucf54\\ub9ac\\uc544\", \"\\ud1b5\\ud569\", \"https\", \"\\ud504\\ub791\\uc2a4\", \"\\uc77c\\ubcf8\", \"FDA\", \"\\ucd9c\\ucc98\", \"\\ub274\\uc2a4\", \"\\uae00\", \"\\uc2dc\\uc2a4\\ud15c\", \"\\uc785\\ub825\", \"\\ucf54\\ub85c\\ub098\", \"\\uae30\\uc0ac\", \"\\ud55c\\uad6d\", \"and\", \"\\uc9c0\\uc6d0\\uae08\", \"\\uace0\\uc6a9\", \"\\uc548\\uc815\", \"\\uc18c\\ub4dd\", \"a\", \"with\", \"\\uae08\\uc735\", \"from\", \"AI\", \"\\uac74\\uc124\", \"\\uc911\\uc694\\uc131\", \"Class\", \"coronavirus\", \"\\uc790\\uaca9\", \"Respiratory\", \"Satisfaction\", \"\\ud2b9\\uc218\", \"\\uc815\\uc2e0\", \"Stress\", \"Art\", \"ICT\", \"pandemic\", \"respiratory\", \"\\uc694\\uc778\", \"\\uc870\\uc2ec\", \"Clinical\", \"Physical\", \"\\ucf00\\uc5b4\", \"Middle\", \"Effect\", \"\\uae34\\uae09\", \"Coronavirus\", \"SARS-CoV\", \"\\uc7ac\\ub09c\", \"\\uac10\\uc18c\", \"\\ud65c\\uc6a9\", \"\\uc628\\ub77c\\uc778\", \"\\uc815\\ubcf4\", \"\\uae30\\uc220\", \"\\uc9c0\\uc6d0\", \"\\ubaa9\\uc801\", \"I\", \"s\", \"\\ubc29\\ud5a5\", \"as\", \"\\ubd80\\ubd84\", \"II\", \"\\uc8fc\\uc81c\", \"\\ubbfc\\uc0dd\", \"\\uc804\\ud658\", \"\\uc720\\uc0ac\", \"\\uc804\\uc790\", \"\\uc800\\ud76c\", \"\\uc911\\uc18c\", \"\\uac00\\uc815\", \"\\ud55c\\uacc4\", \"\\ud32c\", \"\\uc0c1\\uc778\", \"\\ud1b5\\uacc4\\uccad\", \"main\", \"\\uc11c\\uad6c\", \"\\uc608\\ubc30\", \"\\uc885\\uad50\", \"\\ud50c\\ub7ab\\ud3fc\", \"\\uba38\\ub9ac\\ub9d0\", \"\\uc704\\uae30\\uad00\\ub9ac\", \"\\uc120\\uc9c4\\uad6d\", \"\\uad11\\ud654\\ubb38\", \"\\ucd94\\ucc9c\", \"III\", \"\\ucc28\", \"\\uc0ac\\uc5c5\\uc790\", \"\\ubaa9\", \"\\uc9d1\\ud68c\", \"\\uad11\\uc8fc\", \"\\ubd84\\uc11d\", \"\\uc815\\ub9ac\", \"\\ub9ac\", \"\\uc0dd\\uba85\", \"\\ucc38\\uc5ec\", \"\\uc8fc\\uc694\", \"\\uc0b0\\uc5c5\", \"\\ud655\\uc0b0\", \"\\ubc1c\\ud45c\", \"\\uc11c\\uc6b8\"], \"Freq\": [1920.0, 795.0, 12044.0, 1185.0, 496.0, 1120.0, 580.0, 838.0, 832.0, 897.0, 422.0, 716.0, 415.0, 583.0, 496.0, 583.0, 474.0, 309.0, 373.0, 1040.0, 361.0, 537.0, 249.0, 391.0, 272.0, 348.0, 254.0, 462.0, 371.0, 618.0, 235.1932061967014, 146.57042993627823, 141.762257340177, 134.2298275166607, 130.10354434184197, 129.44125603116905, 125.65346610161485, 122.83040739083471, 120.26447662210103, 103.84400968375915, 99.25222400987211, 96.58164432304358, 89.9942597084579, 85.63144196199764, 85.08249412848252, 82.29406369269918, 82.0742967197383, 81.97940590733133, 79.42196506198026, 77.4581608843495, 73.80130679816355, 72.42275018271067, 68.38077725328334, 63.56801479235338, 60.04164021615387, 59.96633459575015, 58.09818532363081, 57.38373173997388, 57.146284501568715, 56.3511660333728, 461.6325372928309, 598.2315840534502, 230.7298412263805, 153.9950589576439, 164.57640067872615, 97.04901460525608, 245.23960845784984, 83.50680679828763, 127.33689055953502, 229.54116705358174, 231.83936808844493, 222.74441031597678, 5256.191371451595, 354.6681836186454, 108.04886709948391, 152.30841894124256, 129.2859859449054, 240.16017219727007, 313.61991345914504, 154.72762260911634, 385.7716334502702, 228.77408125115477, 177.3482912061801, 211.83415835064812, 164.7178958643015, 230.21006689208886, 194.79715317626133, 173.87073368943058, 181.4090321724851, 142.11860064935345, 135.0754875599937, 136.32104421945593, 1185.1642336175535, 582.4889934336944, 537.1708416039285, 461.54048473026495, 418.470763109819, 235.49727134975325, 221.31201925566725, 242.7559600789059, 201.1951699002027, 246.36587252469536, 141.7966724069656, 140.60103406119327, 106.12307293628317, 89.7414548856734, 89.02830832822742, 88.77831077756309, 86.05921161957893, 74.23189078509098, 62.30926198028965, 56.38695525055795, 55.883633709420266, 55.110287099986174, 52.06385573039426, 51.90503342336221, 47.3012731412375, 45.86811240700783, 44.12650845311876, 40.79958649266447, 40.23786385115279, 38.62323995038713, 1869.7145265511695, 83.08533391339738, 838.9710029487159, 443.114520237911, 493.8490722762489, 189.99005132601945, 237.87310298825045, 276.6102036103949, 530.9430331835281, 426.6810810360744, 426.2903681936112, 138.06140058518255, 249.83955085095, 189.36782475555782, 185.65762480897348, 2768.89005455688, 147.93490600239946, 184.49882445436256, 425.5061873575641, 262.098223006932, 212.2684788034156, 237.56661673622534, 222.72651384105393, 188.58398426170797, 473.41690247821487, 390.2055427071651, 370.76879576315264, 257.47887845938885, 229.66912171441157, 167.40337274577834, 156.06803314980803, 123.81755385306104, 121.87047851637733, 115.88585314512815, 100.66614954268913, 97.64145219268816, 91.78846422517162, 88.3116946931985, 86.88006918524952, 81.68666553000736, 81.03172202824057, 73.69678914791228, 72.62526696654392, 69.98065031362779, 66.23489895570543, 65.40257772802059, 65.14176081052182, 57.21581201404028, 56.29242540193334, 54.589135713231464, 54.211608303668925, 52.23384301212914, 51.88560265219064, 51.180788675235334, 541.7178711923856, 301.87667645392645, 125.7883775695127, 667.7729691046135, 660.1049809105782, 132.97977079811972, 527.3629408214589, 103.8760079368355, 694.5139140811307, 274.9028941018582, 153.98878169378256, 156.46906202781767, 1809.1767107842556, 140.85120269728424, 188.02612454971444, 100.19886986800168, 123.3600608452723, 142.59342020036473, 112.66953016367255, 112.6485314781594, 110.81798706166974, 105.08445928047176, 421.24011536724976, 372.3758647058259, 361.15549442188734, 296.4533631146306, 238.8848994117135, 182.12288966756535, 70.49599116939935, 64.08678726427652, 48.05955576112977, 44.09159134204654, 42.451630193242636, 40.65394497042553, 38.8191200387783, 36.41401560342957, 35.23126458110267, 34.79019426949813, 33.75814196805906, 33.383850593854916, 33.198170184327786, 32.30557313723617, 32.14930708694852, 31.272853481654057, 30.880848207261803, 30.884464251178173, 30.423558288441615, 29.986151170774423, 29.721400176070986, 28.961515930327298, 28.806941840407738, 28.066390916726444, 63.40500521481679, 124.94211519865891, 74.83978477875546, 72.11095918016142, 140.03418406654703, 115.11565186560003, 207.43669137512597, 52.281637031724074, 51.035668712042785, 58.58418033555041, 48.858501985789516, 283.7599971600126, 96.27472109917824, 68.07967590983246, 54.23686498231987, 63.10009690994079, 88.82288515329431, 799.1416143466613, 71.13139210591771, 74.41524598988995, 66.94940286085155, 63.76372982824955, 70.82313252262774, 57.73804419374334, 54.15768921632755, 176.09253786164493, 146.84300914646568, 109.4109869286695, 84.26613187264856, 76.87878158726905, 72.67365182153334, 69.53161085390524, 66.22518782338123, 60.33301911738612, 53.576523931343836, 52.127967975989165, 48.432836685865745, 48.39285947691775, 45.93942810138038, 37.720046734867026, 36.363564101856255, 33.860981427211904, 33.544668626622084, 32.83815528630853, 63.799043855831506, 30.626953855697494, 30.262024519822482, 29.70683850126879, 28.6565027363302, 27.946144877730244, 26.363482440985027, 26.14435393183319, 26.027126836885213, 25.87808490780969, 25.24703288530836, 332.7115499812094, 150.5172557413867, 52.715521658837524, 64.17823476471065, 44.71297256898446, 98.53422321417935, 225.059950479311, 142.46190595066983, 282.5652721980178, 162.46198616722376, 170.97567191244494, 91.43072412009927, 107.32595001404158, 135.37647320192053, 165.79816085523854, 75.515184427467, 149.6896292352445, 1072.2592749975213, 122.50119591386077, 76.05955954497475, 140.6964626849438, 142.59770705525239, 84.16996110318362, 197.82916964447185, 84.73892812995565, 82.07417832635295, 101.50732939988818, 110.71740771876861, 112.68919755432492, 100.79962006751373, 81.43306154286783, 794.7539973437179, 580.005837022785, 414.1747441844277, 286.878636612573, 272.4298016884728, 201.1449674036674, 162.80973784776967, 160.0116476207468, 156.03384462037315, 119.13059422399705, 117.77896615791025, 117.28267580201535, 86.21897442550829, 79.15423330074418, 70.7315522853713, 58.52580515362053, 55.03244893321879, 54.433851453215574, 52.69116810102903, 52.24963246666444, 49.67724695794545, 40.31935088198272, 40.027781633636124, 38.34060101830133, 37.23775216219634, 37.23773435230773, 35.54174852804613, 34.80647796288044, 33.903185346628, 31.55174219199965, 384.69043085345646, 51.8896091304718, 195.31868318883213, 246.47461039620188, 105.56480207280428, 109.62469441174072, 102.69189606572532, 66.5451527456887, 83.69830527132342, 59.852310590839714, 58.968056745507084, 309.0972587520516, 253.3392910606671, 82.47114093644184, 67.27214541847084, 61.37628972483322, 61.10437442898475, 55.9501935966336, 52.45626904174564, 41.44174497831215, 40.97895759994719, 40.97895759994719, 40.112121827029185, 38.74531508825536, 33.97196035989664, 33.74037417404436, 33.55829770859392, 32.464256635572504, 31.403462487377222, 30.43279274156264, 29.903913429669156, 28.934481162446115, 27.8268680165301, 26.662462006980306, 26.504885502294403, 26.10184612874678, 25.362286615480034, 24.098814627470137, 23.028036036621717, 23.028036036621717, 23.028036036621717, 23.25130044336437, 41.445599142404106, 67.49740036770005, 133.12417309737455, 50.25199179126374, 42.100231663374636, 82.42233562693058, 50.228651041214015, 50.11930447137801, 43.2684833756243, 46.63607088538177, 48.89907442758748, 91.10215854237755, 71.65951259366899, 109.33390313206259, 42.34609010231605, 66.8906847100725, 40.73896290571648, 72.34658609187015, 196.40735598668363, 56.20928142209043, 64.46754086138098, 53.10925582195682, 48.20197841046884, 48.28254355514837, 48.09052495400518, 44.806447153370705, 50.41305015879012, 157.09629479542545, 114.96058372055478, 98.14210220598764, 95.84326436642314, 91.92138541126708, 84.2087718181542, 69.08517258621178, 61.149232027474916, 57.04284069030002, 55.85136336263758, 50.7984948618895, 49.38676345605974, 47.18243777598028, 43.35338148849934, 41.843945777482475, 40.7968742839085, 40.36289352887247, 40.222625955899616, 40.025174054254116, 39.08559796781516, 35.13789960252849, 35.04165819848505, 34.38245029644823, 33.94813561832506, 33.11007215037653, 31.864403876001155, 30.303559910664184, 26.10204024640298, 25.148059751556282, 22.417815147419127, 258.2382745602283, 53.28006416034143, 95.39871733084405, 45.51500476617339, 65.8563509984139, 126.12375178187592, 64.27889833476658, 46.0681324589207, 38.175017536109486, 96.2723316817484, 39.736429965749565, 39.99607106709996, 495.98932406905783, 158.89336440848615, 161.45023506688193, 114.35211012932194, 83.35505125090627, 83.09576710028611, 61.84553709867923, 54.32488256677823, 53.83579989467978, 45.02328793597129, 42.11941135557421, 32.60987544601967, 32.381425675589185, 30.834405108868772, 26.998812550613668, 24.596263308293988, 24.582330367331423, 23.711202280075426, 23.37799847329996, 21.28849497215341, 21.28696244209448, 20.693918475317712, 20.468404496717593, 20.45576579607918, 20.419826097258234, 20.175800276909726, 20.112793667627297, 20.107503012535656, 19.99552864148215, 19.517334097068623, 21.96938374880181, 115.23279161025829, 44.17146598957959, 31.81825202791828, 48.51286199504762, 45.464261000833694, 28.226369127814568, 35.543742269114624, 29.620264399480476, 24.546764456329726, 22.78021674591419, 248.5392911858954, 117.60181424677445, 114.79707190156728, 75.04644742424561, 59.84530322082762, 58.39041261427795, 50.85326601638667, 42.8187271226087, 39.5291104968966, 38.35379336329024, 34.77361954290307, 34.22093108965835, 31.599190079905988, 30.25758282667317, 29.128096356440977, 27.768476549310165, 24.89812373760045, 23.28158873477992, 23.180057588845006, 22.051229820598678, 21.92926820250059, 19.895677108390455, 19.71751428711636, 19.1703873136466, 18.67106175420791, 18.66163776380446, 18.069368283100232, 18.056682914571653, 17.927313576782943, 17.858157901218277, 104.32122546680702, 23.87704194174916, 109.59736410996865, 37.30065473746023, 53.90104261787414, 55.15870821031489, 36.521854778141154, 35.40418477889927, 27.190995731483685, 37.974635396215774, 50.94271560394671, 37.61532149587805, 43.95951595496419, 27.964726898692028, 28.377186803157503], \"Total\": [1920.0, 795.0, 12044.0, 1185.0, 496.0, 1120.0, 580.0, 838.0, 832.0, 897.0, 422.0, 716.0, 415.0, 583.0, 496.0, 583.0, 474.0, 309.0, 373.0, 1040.0, 361.0, 537.0, 249.0, 391.0, 272.0, 348.0, 254.0, 462.0, 371.0, 618.0, 236.02001231070508, 147.39017679813372, 142.5820197627863, 135.04955367718725, 130.9234158112779, 130.26113869128315, 126.47341078778658, 123.65409275521291, 121.08421727407026, 104.66453178787098, 100.0720616717131, 97.40142734660485, 90.8140507686147, 86.45189680721633, 85.90247060697236, 83.1138412587002, 82.89422570809006, 82.79911859761496, 80.24177116188157, 78.27835072407194, 74.62108493831704, 73.2426397327103, 69.20057357179984, 64.38824321821431, 60.861381172480435, 60.786048521563984, 58.9180257638275, 58.20530252038637, 57.96709118783054, 57.17092079072063, 469.2131948413356, 618.924425313759, 241.71536181917614, 159.6455638840986, 172.8324460701038, 100.366795856708, 271.7853304260797, 86.20994253556917, 137.99244252198852, 280.4956151619708, 287.6527744803599, 274.48181383165195, 12044.224996904935, 555.5894341325674, 122.69669695750639, 201.48775034035688, 159.98158238758785, 408.4185517113618, 646.5284832910244, 217.9667727572615, 1040.667719920767, 462.0386342728908, 311.60009979498017, 473.63358755423457, 279.7362804994117, 684.3854026484236, 466.61260052029127, 407.45371781406124, 721.6573327725442, 309.5026405724045, 193.37667583736257, 257.2051064923851, 1185.9660425914728, 583.2895397591282, 537.9714456881462, 462.3410203247591, 419.2713110712128, 236.29781428360008, 222.11256645691128, 243.65639256437885, 201.99573225527806, 247.42101399993155, 142.59862402817623, 141.40165967616014, 106.92360724166016, 90.54201693887107, 89.82893995056253, 89.57974660907811, 86.85974121745816, 75.03242827219455, 63.1098134132868, 57.18821890937475, 56.68455923243119, 55.910818854639736, 52.864423715026206, 52.705596685042885, 48.10183440896281, 46.668860543583406, 44.95707862785686, 41.60053690295971, 41.03847445661818, 39.42376158996762, 1920.8313864005443, 85.21377856243484, 897.9882127640329, 471.76908978462535, 602.9196005285055, 220.05885659787398, 286.6787745809633, 343.4877364507428, 721.6573327725442, 583.9557367965213, 586.3749794882933, 160.33245950766764, 329.03336419050385, 244.0508640518743, 252.85172035393109, 12044.224996904935, 191.324937512154, 268.2593566298823, 1120.6973718827685, 646.5284832910244, 465.7111890527386, 684.3854026484236, 568.6503354500807, 716.6242211342702, 474.2316916937794, 391.01870968355905, 371.5819472839213, 258.2920556002857, 230.48234608313433, 168.21659169350886, 156.88121201114993, 124.63071781774498, 122.68393106563897, 116.69905180076113, 101.47928986675959, 98.45468924896579, 92.60224008210125, 89.12484621206598, 87.69342024547204, 82.50057454690676, 81.84489221891782, 74.50994645315997, 73.43845674148365, 70.79379671223928, 67.04808150641219, 66.21572896712338, 65.95559651638354, 58.029024666799465, 57.10571541785196, 55.40228605491004, 55.02481022822032, 53.04705242485579, 52.69880072045778, 51.9941129891748, 583.3226059721281, 328.5516647553762, 132.37385629954352, 838.7340657984653, 832.4534983310865, 149.02640432462192, 716.6242211342702, 113.99082775545078, 1120.6973718827685, 379.0777655583596, 192.63531088253913, 223.19211628720905, 12044.224996904935, 242.32381696049455, 555.5894341325674, 134.36250728567555, 321.03838438243594, 586.3749794882933, 240.29444047994664, 293.7224691450902, 496.2856574732944, 244.44971020108937, 422.073499374227, 373.2092471893644, 361.9888864783522, 297.2867699999222, 239.71863827878295, 182.95625892991725, 71.32978976551313, 64.92016220817172, 48.89294451957906, 44.92504552388779, 43.28517012019204, 41.48730354501725, 39.652807432786794, 37.24745942957938, 36.06481714271396, 35.62360944506776, 34.591819486782256, 34.21724103985481, 34.03272187056906, 33.13944209774999, 32.98281732001146, 32.106471253557096, 31.71422133416991, 31.718224482380094, 31.258208719674105, 30.8196438652829, 30.554792615465097, 29.794881739641166, 29.640355234200815, 28.899792318332835, 67.56257331342101, 141.40422587768165, 83.0355976449126, 80.16229017909258, 179.10921817393756, 150.9085875340736, 310.1227548110872, 62.31049378937739, 65.35906804886358, 80.37047252457418, 62.779801802507095, 1040.667719920767, 202.66249041446838, 113.67365645915329, 78.13688929027433, 103.59015168268874, 194.6023518543714, 12044.224996904935, 162.23650296780966, 246.5679357050106, 177.83705889485972, 234.5576599615823, 465.7111890527386, 257.2051064923851, 156.59889724252915, 176.94533059139206, 147.69573439001744, 110.26389722896585, 85.11884564774928, 77.73148166713321, 73.5264363994457, 70.38430987817361, 67.07837044709494, 61.27587251993193, 54.43687516333173, 52.980715890073945, 49.285591357364936, 49.2457155085267, 46.792102066824086, 38.57283155843337, 37.21628589952238, 34.713664966226034, 34.39745317547753, 33.69109867961194, 65.54832661451739, 31.479658916927317, 31.114754497986496, 30.559535656980533, 29.50925318595754, 28.798892621208434, 27.216253187529748, 26.997064413215163, 26.88086507535839, 26.73078647079029, 26.09976042077697, 348.69809733830175, 156.6453092630403, 57.02553531039295, 71.86875482862783, 48.631878607856834, 115.98271842247458, 292.3682361572854, 191.11836744632961, 442.45469772739136, 230.86006355580764, 268.9055185157727, 122.32704020917569, 152.8670807461514, 216.16194764445282, 321.03838438243594, 105.83311638509844, 359.119854103918, 12044.224996904935, 270.31987784023863, 113.92420672355179, 392.35228315971256, 408.4185517113618, 139.6579241530662, 1040.667719920767, 146.08254795878858, 138.64559914290203, 294.38944526217915, 407.45371781406124, 462.0386342728908, 305.21175803830585, 268.2593566298823, 795.654476046633, 580.9062898460371, 415.22113137814335, 287.7794284302558, 273.3302683537872, 202.04548896920343, 163.71021141141804, 160.91211814688566, 156.93429404773352, 120.0310694420535, 118.67943238832233, 118.18316311323035, 87.11951597565604, 80.05469586310704, 71.63199055669611, 59.426316142582074, 55.932960220682, 55.33444586183582, 53.59170412250324, 53.15009521376861, 50.577689674139314, 41.21982093813157, 40.92822774401315, 39.241014183919745, 38.13816336511373, 38.13814662963734, 36.4421597334632, 35.7068889297651, 34.80362153355051, 32.452285783295125, 496.2856574732944, 56.03521306510636, 249.23061444711675, 466.61260052029127, 176.58545112267552, 190.44247297867443, 238.6017064419117, 108.38224696763594, 196.32895685156268, 156.59889724252915, 223.19211628720905, 309.93641713578717, 254.17806970473097, 83.30984688745112, 68.11090741955259, 62.215060148900406, 61.94304837441661, 56.788875732460816, 53.29504680032129, 42.28048958773369, 41.81764166880534, 41.81764166880534, 40.95089425648544, 39.58410426525157, 34.810843240503814, 34.57930259059189, 34.397019991695196, 33.3030292421855, 32.24216359215203, 31.271835137706102, 30.74257649506227, 29.77317424223187, 28.665832275332995, 27.501138556913666, 27.343647755140264, 26.94055105380172, 26.20092690949776, 24.93780551605714, 23.86671764032407, 23.86671764032407, 23.86671764032407, 24.09882544180189, 43.25244656136868, 77.51590671714649, 189.37521704030058, 63.37923988912565, 52.19090312550559, 144.6410934922583, 70.80437593818155, 72.8589687150236, 58.02876757834192, 67.82583439492095, 75.97458016622699, 244.44971020108937, 181.52641070510714, 473.63358755423457, 62.71119330540857, 221.0886641123581, 58.08286263851925, 359.119854103918, 12044.224996904935, 189.60379773775975, 568.6503354500807, 249.23061444711675, 223.6961704314852, 258.25176080308944, 465.7111890527386, 177.22711636765106, 1920.8313864005443, 157.93091901745066, 115.79563040498662, 98.97708109764646, 96.67788845340985, 92.75598979696582, 85.04337523327989, 69.91978708531089, 61.98398413610451, 57.877582535639405, 56.68632202648485, 51.63330320231014, 50.221368139174785, 48.0173150066002, 44.188097601380825, 42.67857200634564, 41.63156202797568, 41.19756591655212, 41.05729744131043, 40.85993492139785, 39.92032641754793, 35.97272919574123, 35.87636860652211, 35.2171708695053, 34.78273926972206, 33.94475727347138, 32.69905115115195, 31.1382108919471, 26.936815269217895, 25.982719937532334, 23.25254299847464, 272.3287443328892, 57.161445001879365, 124.96555073020316, 52.44035762608085, 100.82070962785991, 382.9432252797015, 191.99644279312813, 111.1147751785636, 56.97221383158261, 12044.224996904935, 96.94343803031528, 305.21175803830585, 496.86818241321214, 159.77217299747934, 162.34840065635095, 115.23090808735643, 84.23383537263317, 83.97458937708802, 62.72432130241146, 55.20374711331152, 54.71459991285796, 45.90213002918627, 42.9982586007935, 33.48893367396635, 33.26017607739309, 31.71316011018796, 27.877639801307367, 25.474989708068847, 25.461163407989066, 24.590008020699837, 24.25699720123989, 22.167237739540784, 22.165731401223606, 21.572826549748196, 21.347233660541132, 21.334551983370137, 21.2987475571143, 21.05471313450401, 20.991531145935497, 20.986275249528422, 20.87449692225942, 20.39612967205984, 23.5259409123346, 219.50287637687282, 65.30092100673517, 50.75109530254493, 167.1717629138147, 184.17922317068036, 73.08778379150517, 177.83705889485972, 294.38944526217915, 292.3682361572854, 359.119854103918, 249.3960828691075, 118.45855643616613, 115.65396751275448, 75.90321573508224, 60.70213996061075, 59.24716185029267, 51.709968931007445, 43.68040863872758, 40.38575480417925, 39.210477715051624, 35.630459718140536, 35.077634641979316, 32.45596735863596, 31.114217948756625, 29.984846921391597, 28.62511633954094, 25.754827137609396, 24.138210353394417, 24.036797525808364, 22.908388293793283, 22.785923649914153, 20.752323522757372, 20.57421271546307, 20.02712533894777, 19.527700451704764, 19.51856714263879, 18.926169926095348, 18.91334882064437, 18.78425636342604, 18.714790334827864, 118.57209206129659, 25.46466408109915, 215.3343456846584, 50.398556806116446, 92.65337842534768, 104.85980903434537, 58.11629090434563, 58.20800577813304, 36.82426323483641, 83.92374233129757, 177.22711636765106, 190.44247297867443, 1040.667719920767, 179.20645609458649, 323.2732140113976], \"Category\": [\"Default\", \"Default\", \"Default\", \"Default\", \"Default\", \"Default\", \"Default\", \"Default\", \"Default\", \"Default\", \"Default\", \"Default\", \"Default\", \"Default\", \"Default\", \"Default\", \"Default\", \"Default\", \"Default\", \"Default\", \"Default\", \"Default\", \"Default\", \"Default\", \"Default\", \"Default\", \"Default\", \"Default\", \"Default\", \"Default\", \"Topic1\", \"Topic1\", \"Topic1\", \"Topic1\", \"Topic1\", \"Topic1\", \"Topic1\", \"Topic1\", \"Topic1\", \"Topic1\", \"Topic1\", \"Topic1\", \"Topic1\", \"Topic1\", \"Topic1\", \"Topic1\", \"Topic1\", \"Topic1\", \"Topic1\", \"Topic1\", \"Topic1\", \"Topic1\", \"Topic1\", \"Topic1\", \"Topic1\", \"Topic1\", \"Topic1\", \"Topic1\", \"Topic1\", \"Topic1\", \"Topic1\", \"Topic1\", \"Topic1\", \"Topic1\", \"Topic1\", \"Topic1\", \"Topic1\", \"Topic1\", \"Topic1\", \"Topic1\", \"Topic1\", \"Topic1\", \"Topic1\", \"Topic1\", \"Topic1\", \"Topic1\", \"Topic1\", \"Topic1\", \"Topic1\", \"Topic1\", \"Topic1\", \"Topic1\", \"Topic1\", \"Topic1\", \"Topic1\", \"Topic1\", \"Topic1\", \"Topic1\", \"Topic1\", \"Topic1\", \"Topic1\", \"Topic1\", \"Topic2\", \"Topic2\", \"Topic2\", \"Topic2\", \"Topic2\", \"Topic2\", \"Topic2\", \"Topic2\", \"Topic2\", \"Topic2\", \"Topic2\", \"Topic2\", \"Topic2\", \"Topic2\", \"Topic2\", \"Topic2\", \"Topic2\", \"Topic2\", \"Topic2\", \"Topic2\", \"Topic2\", \"Topic2\", \"Topic2\", \"Topic2\", \"Topic2\", \"Topic2\", \"Topic2\", \"Topic2\", \"Topic2\", \"Topic2\", \"Topic2\", \"Topic2\", \"Topic2\", \"Topic2\", \"Topic2\", \"Topic2\", \"Topic2\", \"Topic2\", \"Topic2\", \"Topic2\", \"Topic2\", \"Topic2\", \"Topic2\", \"Topic2\", \"Topic2\", \"Topic2\", \"Topic2\", \"Topic2\", \"Topic2\", \"Topic2\", \"Topic2\", \"Topic2\", \"Topic2\", \"Topic2\", \"Topic3\", \"Topic3\", \"Topic3\", \"Topic3\", \"Topic3\", \"Topic3\", \"Topic3\", \"Topic3\", \"Topic3\", \"Topic3\", \"Topic3\", \"Topic3\", \"Topic3\", \"Topic3\", \"Topic3\", \"Topic3\", \"Topic3\", \"Topic3\", \"Topic3\", \"Topic3\", \"Topic3\", \"Topic3\", \"Topic3\", \"Topic3\", \"Topic3\", \"Topic3\", \"Topic3\", \"Topic3\", \"Topic3\", \"Topic3\", \"Topic3\", \"Topic3\", \"Topic3\", \"Topic3\", \"Topic3\", \"Topic3\", \"Topic3\", \"Topic3\", \"Topic3\", \"Topic3\", \"Topic3\", \"Topic3\", \"Topic3\", \"Topic3\", \"Topic3\", \"Topic3\", \"Topic3\", \"Topic3\", \"Topic3\", \"Topic3\", \"Topic3\", \"Topic3\", \"Topic4\", \"Topic4\", \"Topic4\", \"Topic4\", \"Topic4\", \"Topic4\", \"Topic4\", \"Topic4\", \"Topic4\", \"Topic4\", \"Topic4\", \"Topic4\", \"Topic4\", \"Topic4\", \"Topic4\", \"Topic4\", \"Topic4\", \"Topic4\", \"Topic4\", \"Topic4\", \"Topic4\", \"Topic4\", \"Topic4\", \"Topic4\", \"Topic4\", \"Topic4\", \"Topic4\", \"Topic4\", \"Topic4\", \"Topic4\", \"Topic4\", \"Topic4\", \"Topic4\", \"Topic4\", \"Topic4\", \"Topic4\", \"Topic4\", \"Topic4\", \"Topic4\", \"Topic4\", \"Topic4\", \"Topic4\", \"Topic4\", \"Topic4\", \"Topic4\", \"Topic4\", \"Topic4\", \"Topic4\", \"Topic4\", \"Topic4\", \"Topic4\", \"Topic4\", \"Topic4\", \"Topic4\", \"Topic4\", \"Topic5\", \"Topic5\", \"Topic5\", \"Topic5\", \"Topic5\", \"Topic5\", \"Topic5\", \"Topic5\", \"Topic5\", \"Topic5\", \"Topic5\", \"Topic5\", \"Topic5\", \"Topic5\", \"Topic5\", \"Topic5\", \"Topic5\", \"Topic5\", \"Topic5\", \"Topic5\", \"Topic5\", \"Topic5\", \"Topic5\", \"Topic5\", \"Topic5\", \"Topic5\", \"Topic5\", \"Topic5\", \"Topic5\", \"Topic5\", \"Topic5\", \"Topic5\", \"Topic5\", \"Topic5\", \"Topic5\", \"Topic5\", \"Topic5\", \"Topic5\", \"Topic5\", \"Topic5\", \"Topic5\", \"Topic5\", \"Topic5\", \"Topic5\", \"Topic5\", \"Topic5\", \"Topic5\", \"Topic5\", \"Topic5\", \"Topic5\", \"Topic5\", \"Topic5\", \"Topic5\", \"Topic5\", \"Topic5\", \"Topic5\", \"Topic5\", \"Topic5\", \"Topic5\", \"Topic5\", \"Topic5\", \"Topic6\", \"Topic6\", \"Topic6\", \"Topic6\", \"Topic6\", \"Topic6\", \"Topic6\", \"Topic6\", \"Topic6\", \"Topic6\", \"Topic6\", \"Topic6\", \"Topic6\", \"Topic6\", \"Topic6\", \"Topic6\", \"Topic6\", \"Topic6\", \"Topic6\", \"Topic6\", \"Topic6\", \"Topic6\", \"Topic6\", \"Topic6\", \"Topic6\", \"Topic6\", \"Topic6\", \"Topic6\", \"Topic6\", \"Topic6\", \"Topic6\", \"Topic6\", \"Topic6\", \"Topic6\", \"Topic6\", \"Topic6\", \"Topic6\", \"Topic6\", \"Topic6\", \"Topic6\", \"Topic6\", \"Topic7\", \"Topic7\", \"Topic7\", \"Topic7\", \"Topic7\", \"Topic7\", \"Topic7\", \"Topic7\", \"Topic7\", \"Topic7\", \"Topic7\", \"Topic7\", \"Topic7\", \"Topic7\", \"Topic7\", \"Topic7\", \"Topic7\", \"Topic7\", \"Topic7\", \"Topic7\", \"Topic7\", \"Topic7\", \"Topic7\", \"Topic7\", \"Topic7\", \"Topic7\", \"Topic7\", \"Topic7\", \"Topic7\", \"Topic7\", \"Topic7\", \"Topic7\", \"Topic7\", \"Topic7\", \"Topic7\", \"Topic7\", \"Topic7\", \"Topic7\", \"Topic7\", \"Topic7\", \"Topic7\", \"Topic7\", \"Topic7\", \"Topic7\", \"Topic7\", \"Topic7\", \"Topic7\", \"Topic7\", \"Topic7\", \"Topic7\", \"Topic7\", \"Topic7\", \"Topic7\", \"Topic7\", \"Topic7\", \"Topic7\", \"Topic7\", \"Topic7\", \"Topic8\", \"Topic8\", \"Topic8\", \"Topic8\", \"Topic8\", \"Topic8\", \"Topic8\", \"Topic8\", \"Topic8\", \"Topic8\", \"Topic8\", \"Topic8\", \"Topic8\", \"Topic8\", \"Topic8\", \"Topic8\", \"Topic8\", \"Topic8\", \"Topic8\", \"Topic8\", \"Topic8\", \"Topic8\", \"Topic8\", \"Topic8\", \"Topic8\", \"Topic8\", \"Topic8\", \"Topic8\", \"Topic8\", \"Topic8\", \"Topic8\", \"Topic8\", \"Topic8\", \"Topic8\", \"Topic8\", \"Topic8\", \"Topic8\", \"Topic8\", \"Topic8\", \"Topic8\", \"Topic8\", \"Topic8\", \"Topic9\", \"Topic9\", \"Topic9\", \"Topic9\", \"Topic9\", \"Topic9\", \"Topic9\", \"Topic9\", \"Topic9\", \"Topic9\", \"Topic9\", \"Topic9\", \"Topic9\", \"Topic9\", \"Topic9\", \"Topic9\", \"Topic9\", \"Topic9\", \"Topic9\", \"Topic9\", \"Topic9\", \"Topic9\", \"Topic9\", \"Topic9\", \"Topic9\", \"Topic9\", \"Topic9\", \"Topic9\", \"Topic9\", \"Topic9\", \"Topic9\", \"Topic9\", \"Topic9\", \"Topic9\", \"Topic9\", \"Topic9\", \"Topic9\", \"Topic9\", \"Topic9\", \"Topic9\", \"Topic9\", \"Topic10\", \"Topic10\", \"Topic10\", \"Topic10\", \"Topic10\", \"Topic10\", \"Topic10\", \"Topic10\", \"Topic10\", \"Topic10\", \"Topic10\", \"Topic10\", \"Topic10\", \"Topic10\", \"Topic10\", \"Topic10\", \"Topic10\", \"Topic10\", \"Topic10\", \"Topic10\", \"Topic10\", \"Topic10\", \"Topic10\", \"Topic10\", \"Topic10\", \"Topic10\", \"Topic10\", \"Topic10\", \"Topic10\", \"Topic10\", \"Topic10\", \"Topic10\", \"Topic10\", \"Topic10\", \"Topic10\", \"Topic10\", \"Topic10\", \"Topic10\", \"Topic10\", \"Topic10\", \"Topic10\", \"Topic10\", \"Topic10\", \"Topic10\", \"Topic10\"], \"logprob\": [30.0, 29.0, 28.0, 27.0, 26.0, 25.0, 24.0, 23.0, 22.0, 21.0, 20.0, 19.0, 18.0, 17.0, 16.0, 15.0, 14.0, 13.0, 12.0, 11.0, 10.0, 9.0, 8.0, 7.0, 6.0, 5.0, 4.0, 3.0, 2.0, 1.0, -5.2667999267578125, -5.739699840545654, -5.773099899291992, -5.827700138092041, -5.85890007019043, -5.863999843597412, -5.893700122833252, -5.916399955749512, -5.9375, -6.0843000411987305, -6.1296000480651855, -6.156799793243408, -6.227499961853027, -6.277200222015381, -6.283599853515625, -6.31689977645874, -6.3196001052856445, -6.320799827575684, -6.352399826049805, -6.377500057220459, -6.42579984664917, -6.444699764251709, -6.502099990844727, -6.575099945068359, -6.632199764251709, -6.633399963378906, -6.66510009765625, -6.677499771118164, -6.681600093841553, -6.6956000328063965, -4.59250020980835, -4.333199977874756, -5.285999774932861, -5.690299987792969, -5.623799800872803, -6.1519999504089355, -5.224999904632568, -6.302299976348877, -5.88040018081665, -5.291100025177002, -5.281199932098389, -5.321199893951416, -2.160099983215332, -4.855999946594238, -6.044600009918213, -5.701300144195557, -5.865200042724609, -5.2459001541137695, -4.979000091552734, -5.6855998039245605, -4.771999835968018, -5.29449987411499, -5.549099922180176, -5.371399879455566, -5.623000144958496, -5.2881999015808105, -5.4552998542785645, -5.568900108337402, -5.526500225067139, -5.770599842071533, -5.821400165557861, -5.81220006942749, -3.3798000812530518, -4.090199947357178, -4.171199798583984, -4.32289981842041, -4.420899868011475, -4.995800018310547, -5.0578999519348145, -4.965400218963623, -5.153200149536133, -4.950699806213379, -5.5030999183654785, -5.511600017547607, -5.792900085449219, -5.9604997634887695, -5.968500137329102, -5.97130012512207, -6.002399921417236, -6.150300025939941, -6.325399875640869, -6.42519998550415, -6.434199810028076, -6.4481000900268555, -6.505000114440918, -6.5081000328063965, -6.600900173187256, -6.631700038909912, -6.670400142669678, -6.748799800872803, -6.762700080871582, -6.803599834442139, -2.9238998889923096, -6.037600040435791, -3.7253000736236572, -4.363699913024902, -4.255300045013428, -5.2104997634887695, -4.9857001304626465, -4.83489990234375, -4.182799816131592, -4.401400089263916, -4.402400016784668, -5.529799938201904, -4.936699867248535, -5.213799953460693, -5.23360013961792, -2.5313000679016113, -5.460700035095215, -5.239799976348877, -4.404200077056885, -4.888800144195557, -5.099599838256836, -4.986999988555908, -5.051499843597412, -5.217899799346924, -3.9300999641418457, -4.1234002113342285, -4.174499988555908, -4.539100170135498, -4.65339994430542, -4.969600200653076, -5.039700031280518, -5.271200180053711, -5.287099838256836, -5.337399959564209, -5.4781999588012695, -5.508699893951416, -5.5706000328063965, -5.6092000007629395, -5.625500202178955, -5.687099933624268, -5.695199966430664, -5.79010009765625, -5.804699897766113, -5.841800212860107, -5.8968000411987305, -5.9095001220703125, -5.91349983215332, -6.0432000160217285, -6.059500217437744, -6.090199947357178, -6.097099781036377, -6.134300231933594, -6.140999794006348, -6.154699802398682, -3.795300006866455, -4.380000114440918, -5.25540018081665, -3.5861001014709473, -3.597599983215332, -5.19980001449585, -3.8220999240875244, -5.446800231933594, -3.546799898147583, -4.473599910736084, -5.053199768066406, -5.037199974060059, -2.589400053024292, -5.142300128936768, -4.853499889373779, -5.482900142669678, -5.274899959564209, -5.130000114440918, -5.365600109100342, -5.365799903869629, -5.3821001052856445, -5.435299873352051, -3.6103999614715576, -3.7337000370025635, -3.7643001079559326, -3.961699962615967, -4.177599906921387, -4.44890022277832, -5.3979997634887695, -5.493299961090088, -5.781099796295166, -5.867300033569336, -5.905200004577637, -5.948500156402588, -5.994699954986572, -6.058599948883057, -6.091700077056885, -6.1041998863220215, -6.134399890899658, -6.145500183105469, -6.151100158691406, -6.178299903869629, -6.183199882507324, -6.2108001708984375, -6.223400115966797, -6.223299980163574, -6.238399982452393, -6.252799987792969, -6.26170015335083, -6.287600040435791, -6.293000221252441, -6.318999767303467, -5.504000186920166, -4.825699806213379, -5.338200092315674, -5.375400066375732, -4.711699962615967, -4.907599925994873, -4.31879997253418, -5.696899890899658, -5.721099853515625, -5.583099842071533, -5.764699935913086, -4.005499839782715, -5.086400032043457, -5.4328999519348145, -5.660200119018555, -5.508900165557861, -5.166900157928467, -2.9700000286102295, -5.389100074768066, -5.343900203704834, -5.4496002197265625, -5.4984002113342285, -5.393400192260742, -5.597700119018555, -5.6616997718811035, -4.478799819946289, -4.660399913787842, -4.954699993133545, -5.215799808502197, -5.307600021362305, -5.363800048828125, -5.4079999923706055, -5.4567999839782715, -5.549900054931641, -5.668700218200684, -5.696100234985352, -5.769599914550781, -5.770500183105469, -5.822500228881836, -6.019599914550781, -6.05620002746582, -6.127500057220459, -6.136899948120117, -6.158199787139893, -5.494100093841553, -6.22790002822876, -6.2399001121521, -6.258399963378906, -6.294400215148926, -6.319499969482422, -6.377799987792969, -6.386199951171875, -6.390699863433838, -6.396399974822998, -6.42110013961792, -3.8424999713897705, -4.635700225830078, -5.684899806976318, -5.488100051879883, -5.8495001792907715, -5.0594000816345215, -4.233399868011475, -4.690700054168701, -4.005899906158447, -4.5594000816345215, -4.508299827575684, -5.134200096130371, -4.973899841308594, -4.741799831390381, -4.539000034332275, -5.325500011444092, -4.641200065612793, -2.672300100326538, -4.841700077056885, -5.318299770355225, -4.703199863433838, -4.689799785614014, -5.2170000076293945, -4.362400054931641, -5.21019983291626, -5.242199897766113, -5.029699802398682, -4.942800045013428, -4.92519998550415, -5.0366997718811035, -5.25, -2.9574999809265137, -3.2725000381469727, -3.6092000007629395, -3.9765000343322754, -4.02810001373291, -4.331500053405762, -4.542900085449219, -4.560299873352051, -4.585400104522705, -4.855299949645996, -4.866700172424316, -4.8709001541137695, -5.178599834442139, -5.264100074768066, -5.3765997886657715, -5.565999984741211, -5.627600193023682, -5.638500213623047, -5.67110013961792, -5.679500102996826, -5.730000019073486, -5.938700199127197, -5.945899963378906, -5.988999843597412, -6.018199920654297, -6.018199920654297, -6.064799785614014, -6.085700035095215, -6.111999988555908, -6.183899879455566, -3.6830999851226807, -5.686399936676025, -4.360899925231934, -4.128300189971924, -4.976200103759766, -4.938499927520752, -5.003799915313721, -5.437600135803223, -5.2083001136779785, -5.543600082397461, -5.558499813079834, -3.3808000087738037, -3.579699993133545, -4.702000141143799, -4.905700206756592, -4.997399806976318, -5.001800060272217, -5.090000152587891, -5.154399871826172, -5.390100002288818, -5.401400089263916, -5.401400089263916, -5.422699928283691, -5.457399845123291, -5.588900089263916, -5.595699787139893, -5.601099967956543, -5.634300231933594, -5.667500019073486, -5.69890022277832, -5.716400146484375, -5.7494001388549805, -5.788400173187256, -5.831200122833252, -5.837100028991699, -5.852399826049805, -5.881199836730957, -5.932300090789795, -5.977700233459473, -5.977700233459473, -5.977700233459473, -5.968100070953369, -5.389999866485596, -4.902299880981445, -4.223100185394287, -5.197400093078613, -5.3744001388549805, -4.702600002288818, -5.197800159454346, -5.199999809265137, -5.3470001220703125, -5.271999835968018, -5.224699974060059, -4.602399826049805, -4.84250020980835, -4.420000076293945, -5.368500232696533, -4.911399841308594, -5.407199859619141, -4.833000183105469, -3.834199905395508, -5.085299968719482, -4.948299884796143, -5.142099857330322, -5.238999843597412, -5.237299919128418, -5.241300106048584, -5.312099933624268, -5.194200038909912, -3.995300054550171, -4.307600021362305, -4.465700149536133, -4.4893999099731445, -4.531199932098389, -4.618800163269043, -4.816800117492676, -4.938799858093262, -5.008299827575684, -5.0295000076293945, -5.124300003051758, -5.152500152587891, -5.1981000900268555, -5.282800197601318, -5.31820011138916, -5.343500137329102, -5.3541998863220215, -5.357699871063232, -5.362599849700928, -5.38640022277832, -5.4928998947143555, -5.49560022354126, -5.514599800109863, -5.527299880981445, -5.552299976348877, -5.590700149536133, -5.640900135040283, -5.79010009765625, -5.827400207519531, -5.942299842834473, -3.498300075531006, -5.076600074768066, -4.494100093841553, -5.234099864959717, -4.864699840545654, -4.214900016784668, -4.888899803161621, -5.2220001220703125, -5.409999847412109, -4.485000133514404, -5.369900226593018, -5.363399982452393, -2.6017000675201416, -3.740000009536743, -3.724100112915039, -4.068999767303467, -4.3850998878479, -4.388299942016602, -4.683599948883057, -4.813300132751465, -4.822299957275391, -5.001100063323975, -5.067699909210205, -5.323599815368652, -5.330699920654297, -5.3796000480651855, -5.512499809265137, -5.6057000160217285, -5.606200218200684, -5.642300128936768, -5.656499862670898, -5.750100135803223, -5.750199794769287, -5.77839994430542, -5.789400100708008, -5.789999961853027, -5.7916998863220215, -5.803800106048584, -5.8069000244140625, -5.807199954986572, -5.812699794769287, -5.836900234222412, -5.718599796295166, -4.061299800872803, -5.020199775695801, -5.348199844360352, -4.926400184631348, -4.991300106048584, -5.4679999351501465, -5.237500190734863, -5.4197998046875, -5.607699871063232, -5.682400226593018, -3.141400098800659, -3.889699935913086, -3.913800001144409, -4.338900089263916, -4.565199851989746, -4.589799880981445, -4.728000164031982, -4.900000095367432, -4.980000019073486, -5.0100998878479, -5.108099937438965, -5.124199867248535, -5.20389986038208, -5.247200012207031, -5.285299777984619, -5.333099842071533, -5.442200183868408, -5.509300231933594, -5.513700008392334, -5.563600063323975, -5.569200038909912, -5.666500091552734, -5.67549991607666, -5.70359992980957, -5.730000019073486, -5.730500221252441, -5.762800216674805, -5.763500213623047, -5.770699977874756, -5.774499893188477, -4.009500026702881, -5.484099864959717, -3.960200071334839, -5.038000106811523, -4.6697998046875, -4.6468000411987305, -5.059100151062012, -5.090199947357178, -5.354100227355957, -5.020100116729736, -4.72629976272583, -5.029600143432617, -4.873700141906738, -5.326000213623047, -5.311399936676025], \"loglift\": [30.0, 29.0, 28.0, 27.0, 26.0, 25.0, 24.0, 23.0, 22.0, 21.0, 20.0, 19.0, 18.0, 17.0, 16.0, 15.0, 14.0, 13.0, 12.0, 11.0, 10.0, 9.0, 8.0, 7.0, 6.0, 5.0, 4.0, 3.0, 2.0, 1.0, 1.3752, 1.3731, 1.3729, 1.3726, 1.3724, 1.3724, 1.3722, 1.372, 1.3719, 1.3708, 1.3705, 1.3703, 1.3696, 1.3692, 1.3691, 1.3688, 1.3688, 1.3688, 1.3684, 1.3682, 1.3677, 1.3675, 1.3668, 1.3659, 1.3651, 1.3651, 1.3647, 1.3645, 1.3644, 1.3643, 1.3624, 1.3447, 1.3322, 1.3427, 1.3298, 1.3451, 1.2759, 1.3469, 1.2983, 1.1782, 1.163, 1.1698, 0.5495, 0.9299, 1.2516, 1.0989, 1.1657, 0.8477, 0.6553, 1.036, 0.3863, 0.6758, 0.8151, 0.5741, 0.8491, 0.2892, 0.5052, 0.5271, -0.0021, 0.6004, 1.0199, 0.7438, 1.6478, 1.6471, 1.647, 1.6467, 1.6465, 1.6451, 1.6448, 1.6447, 1.6445, 1.6442, 1.6428, 1.6428, 1.6409, 1.6396, 1.6395, 1.6395, 1.6392, 1.6377, 1.6357, 1.6343, 1.6342, 1.634, 1.6332, 1.6331, 1.6317, 1.6311, 1.6298, 1.629, 1.6287, 1.6279, 1.6215, 1.6232, 1.5805, 1.5858, 1.4489, 1.5015, 1.4618, 1.4319, 1.3416, 1.3347, 1.3296, 1.4989, 1.3731, 1.3948, 1.3396, 0.1783, 1.3912, 1.2741, 0.68, 0.7456, 0.8627, 0.5904, 0.7111, 0.3134, 2.0142, 2.0138, 2.0137, 2.0127, 2.0124, 2.011, 2.0107, 2.0093, 2.0092, 2.0089, 2.0078, 2.0076, 2.0071, 2.0067, 2.0066, 2.006, 2.0059, 2.0049, 2.0048, 2.0043, 2.0037, 2.0035, 2.0035, 2.0018, 2.0015, 2.0011, 2.001, 2.0004, 2.0003, 2.0001, 1.9419, 1.9312, 1.9649, 1.7879, 1.7839, 1.902, 1.7092, 1.923, 1.5374, 1.6946, 1.792, 1.6607, 0.1202, 1.4733, 0.9324, 1.7225, 1.0594, 0.6019, 1.2585, 1.0575, 0.5166, 1.1716, 2.4504, 2.4501, 2.45, 2.4495, 2.4489, 2.4478, 2.4406, 2.4394, 2.4352, 2.4336, 2.4329, 2.4321, 2.4311, 2.4297, 2.429, 2.4287, 2.428, 2.4277, 2.4275, 2.4269, 2.4268, 2.426, 2.4257, 2.4257, 2.4253, 2.4249, 2.4247, 2.424, 2.4238, 2.4231, 2.3888, 2.3286, 2.3484, 2.3465, 2.2062, 2.1816, 2.0502, 2.2769, 2.205, 2.1362, 2.2016, 1.1529, 1.708, 1.9397, 2.0872, 1.9566, 1.668, -0.2605, 1.6278, 1.2544, 1.4754, 1.1498, 0.569, 0.9584, 1.3906, 2.4513, 2.4503, 2.4484, 2.4461, 2.4451, 2.4445, 2.4439, 2.4433, 2.4406, 2.4402, 2.4399, 2.4387, 2.4386, 2.4377, 2.4338, 2.4329, 2.4312, 2.431, 2.4305, 2.4291, 2.4287, 2.4283, 2.4278, 2.4268, 2.4261, 2.4243, 2.424, 2.4238, 2.4237, 2.4229, 2.4092, 2.4162, 2.3775, 2.3429, 2.3721, 2.2931, 2.1945, 2.1623, 2.0077, 2.1048, 2.0033, 2.165, 2.1024, 1.9882, 1.7953, 2.1186, 1.581, 0.0373, 1.6646, 2.0521, 1.4306, 1.4039, 1.9498, 0.7959, 1.9115, 1.9318, 1.3913, 1.1532, 1.0451, 1.3482, 1.2639, 2.4693, 2.4689, 2.4679, 2.4673, 2.4671, 2.4659, 2.4649, 2.4648, 2.4647, 2.4629, 2.4628, 2.4628, 2.46, 2.4591, 2.4578, 2.4551, 2.4542, 2.454, 2.4535, 2.4533, 2.4525, 2.4483, 2.4482, 2.4472, 2.4465, 2.4465, 2.4454, 2.4449, 2.4442, 2.4423, 2.2157, 2.3936, 2.2267, 1.8322, 1.9559, 1.9181, 1.6274, 1.9826, 1.6178, 1.5086, 1.1394, 2.9888, 2.9882, 2.9814, 2.9791, 2.9779, 2.9779, 2.9766, 2.9756, 2.9715, 2.9713, 2.9713, 2.9708, 2.9701, 2.9671, 2.967, 2.9668, 2.966, 2.9652, 2.9643, 2.9639, 2.9629, 2.9618, 2.9605, 2.9604, 2.9599, 2.959, 2.9573, 2.9557, 2.9557, 2.9557, 2.9557, 2.9488, 2.8531, 2.6391, 2.7594, 2.7767, 2.4291, 2.6482, 2.6174, 2.698, 2.6169, 2.5509, 2.0045, 2.062, 1.5255, 2.5988, 1.796, 2.6368, 1.3893, -1.1246, 1.7757, 0.8144, 1.4455, 1.4566, 1.3146, 0.721, 1.6164, -0.6488, 3.0485, 3.0465, 3.0453, 3.0451, 3.0447, 3.0439, 3.0418, 3.0402, 3.0393, 3.0389, 3.0375, 3.037, 3.0362, 3.0347, 3.034, 3.0335, 3.0333, 3.0332, 3.0331, 3.0327, 3.0303, 3.0302, 3.0298, 3.0295, 3.0289, 3.0279, 3.0266, 3.0223, 3.0211, 3.0172, 3.0007, 2.9835, 2.7838, 2.9122, 2.6279, 1.9432, 1.9595, 2.1733, 2.6534, -1.7754, 2.1619, 1.0216, 3.2959, 3.2922, 3.2921, 3.29, 3.2872, 3.2872, 3.2836, 3.2816, 3.2815, 3.2784, 3.277, 3.2711, 3.2709, 3.2696, 3.2657, 3.2626, 3.2626, 3.2613, 3.2608, 3.2572, 3.2572, 3.2561, 3.2556, 3.2556, 3.2555, 3.255, 3.2549, 3.2549, 3.2547, 3.2536, 3.2292, 2.6533, 2.9068, 2.8308, 2.0605, 1.8987, 2.3463, 1.6876, 1.0012, 0.8202, 0.5399, 3.4455, 3.4417, 3.4415, 3.4376, 3.4347, 3.4344, 3.4322, 3.429, 3.4275, 3.4268, 3.4246, 3.4242, 3.4222, 3.421, 3.42, 3.4186, 3.4151, 3.4128, 3.4126, 3.4108, 3.4106, 3.4068, 3.4064, 3.4052, 3.4041, 3.404, 3.4026, 3.4026, 3.4022, 3.4021, 3.3209, 3.3846, 2.7736, 3.148, 2.9072, 2.8065, 2.9844, 2.9517, 3.1457, 2.656, 2.2022, 1.827, 0.2846, 1.5913, 1.016]}, \"token.table\": {\"Topic\": [6, 7, 9, 6, 9, 6, 8, 2, 3, 4, 6, 6, 9, 9, 5, 6, 9, 3, 6, 9, 5, 8, 10, 9, 10, 10, 3, 7, 6, 9, 8, 9, 4, 6, 9, 3, 9, 9, 9, 6, 6, 6, 5, 10, 6, 9, 4, 9, 8, 10, 7, 7, 6, 8, 8, 9, 1, 7, 2, 7, 6, 9, 7, 8, 7, 8, 6, 4, 8, 7, 10, 8, 8, 2, 3, 8, 1, 6, 6, 9, 1, 3, 4, 5, 6, 9, 10, 6, 6, 6, 6, 3, 9, 8, 8, 8, 7, 1, 10, 5, 1, 1, 2, 3, 9, 1, 2, 3, 4, 1, 2, 3, 5, 6, 2, 3, 1, 4, 5, 6, 3, 6, 2, 5, 4, 1, 1, 3, 8, 9, 9, 1, 2, 5, 7, 8, 8, 8, 4, 1, 2, 3, 4, 7, 8, 10, 2, 1, 9, 2, 5, 8, 10, 9, 1, 4, 5, 3, 5, 4, 10, 1, 2, 3, 5, 6, 7, 8, 9, 10, 3, 1, 2, 6, 8, 2, 4, 10, 10, 4, 9, 8, 2, 3, 6, 9, 5, 2, 2, 5, 1, 5, 7, 4, 1, 4, 5, 7, 8, 10, 1, 4, 6, 7, 8, 5, 9, 4, 4, 5, 6, 8, 5, 6, 1, 2, 8, 3, 5, 9, 3, 5, 9, 2, 1, 5, 1, 3, 5, 7, 9, 3, 4, 1, 2, 3, 4, 5, 7, 7, 8, 1, 1, 2, 4, 5, 6, 7, 5, 4, 6, 2, 2, 1, 2, 3, 4, 8, 10, 4, 7, 4, 5, 1, 2, 1, 1, 2, 3, 7, 3, 2, 1, 2, 3, 5, 7, 1, 2, 4, 5, 7, 8, 7, 2, 5, 4, 3, 4, 3, 4, 3, 5, 7, 1, 1, 2, 1, 3, 10, 7, 1, 8, 10, 3, 1, 1, 2, 4, 10, 10, 6, 1, 7, 2, 2, 1, 4, 6, 10, 3, 3, 5, 8, 3, 5, 6, 10, 1, 10, 2, 3, 1, 2, 3, 4, 6, 3, 1, 2, 4, 8, 8, 2, 3, 6, 7, 1, 7, 1, 2, 3, 5, 8, 10, 1, 2, 4, 5, 6, 1, 4, 10, 6, 8, 7, 3, 4, 1, 2, 3, 7, 1, 2, 3, 5, 1, 7, 6, 7, 1, 5, 6, 10, 5, 2, 2, 5, 10, 1, 4, 3, 9, 10, 1, 2, 1, 2, 3, 4, 5, 2, 8, 2, 4, 10, 1, 4, 5, 6, 9, 4, 1, 6, 8, 10, 3, 7, 10, 1, 7, 1, 2, 3, 4, 5, 6, 7, 4, 5, 3, 10, 3, 1, 4, 10, 6, 5, 8, 9, 10, 1, 2, 3, 4, 7, 8, 10, 7, 8, 10, 1, 2, 3, 5, 8, 1, 3, 5, 6, 2, 3, 2, 4, 5, 7, 10, 1, 9, 2, 3, 2, 3, 8, 9, 2, 4, 4, 9, 7, 5, 2, 3, 3, 1, 2, 3, 4, 5, 6, 8, 4, 5, 6, 5, 8, 1, 2, 3, 5, 7, 1, 2, 4, 3, 3, 8, 3, 5, 8, 2, 7, 2, 3, 1, 3, 7, 1, 2, 4, 7, 1, 3, 9, 5, 5, 1, 2, 7, 7, 3, 6, 3, 4, 4, 7, 1, 2, 2, 3, 3, 4, 5, 6, 4, 1, 4, 6, 10, 6, 7, 9, 1, 2, 4, 8, 1, 2, 3, 10, 3, 1, 3, 4, 5, 9, 10, 5, 2, 3, 5, 6, 9, 1, 1, 2, 4, 5, 7, 5, 1, 2, 1, 2, 4, 5, 9, 1, 5, 9, 10, 10, 10, 7, 2, 8, 1, 5, 6, 3, 4, 2, 3, 8, 1, 2, 3, 4, 1, 2, 4, 5, 6, 9, 4, 7, 1, 7, 1, 2, 4, 7, 8, 1, 5, 6, 8, 2, 1, 3, 2, 7, 7, 3, 8, 9, 7, 2, 3, 5, 9, 1, 2, 6, 5, 7, 5, 5, 2, 5, 6, 9, 1, 6, 8, 10, 10, 1, 2, 3, 4, 5, 8, 3, 5, 4, 10, 10, 4, 1, 2, 4, 10, 1, 2, 5, 7, 9, 9, 2, 7, 5, 1, 7, 3, 6, 8, 1, 3, 3, 4, 4, 6, 3, 5, 7, 9, 1, 2, 3, 4, 5, 7, 10, 3, 1, 8, 1, 2, 3, 4, 7, 9, 10, 7, 10, 1, 5, 6, 10, 7, 2, 9, 1, 7, 1, 5, 1, 1, 2, 4, 5, 6, 7, 1, 5, 7, 9, 9, 1, 2, 4, 7, 8, 10, 3, 7, 8, 7, 2, 7, 5, 1, 3, 4, 7, 10, 2, 3, 2, 2, 10, 1, 6, 10, 1, 1, 4, 5, 8, 10, 4, 3, 1, 8, 6, 5, 1, 2, 5, 7, 3, 7, 10, 4, 8, 8, 2, 3, 8, 5, 1, 2, 3, 3, 5, 1, 9, 1, 2, 3, 4, 5, 6, 7, 8, 9, 10, 8, 4, 4, 1, 4, 6, 7, 2, 10, 8, 2, 5, 7, 5, 3, 7, 9, 1, 2, 4, 7, 8, 10, 8, 4, 2, 7, 6, 4, 6, 3, 8, 6, 10, 8, 6, 5, 4, 10, 1, 2, 3, 4, 5, 6, 8, 10, 3, 2, 3, 5, 2, 1, 2, 3, 5, 2, 5, 6, 10, 8, 2, 5, 1, 2, 4, 5, 8, 10, 1, 2, 3, 7, 1, 2, 3, 8, 3, 9, 5, 3], \"Freq\": [0.7824078933183237, 0.21265445305574954, 0.9803466630282155, 0.97836137058376, 0.9474083945112114, 0.9701572643083584, 0.9634464903620567, 0.07361874898158388, 0.26049711178098917, 0.06229278759980175, 0.6002759532344533, 0.9701568385918958, 0.9621115632562862, 0.9527651823470017, 0.9885375244234174, 0.30627439386248767, 0.6738036664974728, 0.9939324719899719, 0.042506270152013435, 0.9351379433442956, 0.11441569568961027, 0.877187000287012, 0.9961289716001795, 0.9734468476614678, 0.986270172934068, 0.9618061264892905, 0.9934964847333358, 0.9636850926304292, 0.986825309224701, 0.9805781940775515, 0.9652217509807686, 0.9530037971101811, 0.9835369176850005, 0.9683745639676079, 0.9813546653595545, 0.3546721483092284, 0.6305282636608505, 0.9818875751826657, 0.9473440149261932, 0.9940465909417521, 0.9773205976613799, 0.9899887337412286, 0.9253189736480779, 0.06168793157653853, 0.9802030098126011, 0.9883942346807839, 0.9773560943558149, 0.9982526906653683, 0.9756803093099714, 0.9884330278789781, 0.9804474466714064, 0.9636850926304292, 0.9833200278154235, 0.9774963304743677, 0.994105530296143, 0.9775121713600893, 0.24125964731370964, 0.7410117738921081, 0.9856679478394642, 0.9804474466714064, 0.9943315757856531, 0.9869395021804769, 0.9969786798710495, 0.9929881748116941, 0.04773642250598806, 0.9473843851188399, 0.9951331099852236, 0.9813571612942555, 0.9931290118443679, 0.9953651795920101, 0.9603469138839681, 0.9841004050874816, 0.9877312579560978, 0.8607115516331263, 0.13721488504296217, 0.9918496929565346, 0.9962568354499356, 0.9991774368569069, 0.9970590818099976, 0.9368895435369033, 0.20840051086519826, 0.7254448163029054, 0.05539760415404005, 0.010551924600769532, 0.9878668076563755, 0.9374464491023579, 0.9943454813802012, 0.9911772582084551, 0.9984398691116302, 0.9942750620335021, 0.9885781719595885, 0.9920926764684167, 0.9884523054634692, 0.9868451103235107, 0.9721677999975056, 0.9877345983496597, 0.9832471291439666, 0.9844185925796733, 0.9671551792819394, 0.981690308934628, 0.9903487064699504, 0.36377610268184574, 0.07058342290841783, 0.3149106560529411, 0.24432723314452326, 0.4856707911794475, 0.40524123340450713, 0.052588557006691766, 0.057228723801399865, 0.44313381681021, 0.11205682723936344, 0.01528047644173138, 0.005093492147243793, 0.4278533403684786, 0.26373655037901383, 0.7353923917975677, 0.05301222502128106, 0.7620507346809152, 0.17228973131916345, 0.013253056255320266, 0.9291599441731517, 0.07028700684704654, 0.40390751921581586, 0.5914360102803018, 0.997456605601113, 0.9910457589066611, 0.806342818184354, 0.0812593537705163, 0.03750431712485367, 0.0687579147288984, 0.9767837434985082, 0.44760339125173304, 0.14357089908074455, 0.14568223583193196, 0.23013570587942878, 0.0316700512678113, 0.9709311487242267, 0.9788135799250673, 0.985826249090057, 0.09408888225344889, 0.04908985161049507, 0.42953620159183187, 0.004090820967541256, 0.3722647080462543, 0.024544925805247534, 0.02045410483770628, 0.9971594415717607, 0.9203402568931489, 0.07246773676324007, 0.9792226627785401, 0.9549808345438957, 0.002867810313945633, 0.04014934439523886, 0.9916944013559754, 0.20707296975698397, 0.7805058090840166, 0.972661243185312, 0.9806373948778812, 0.9839237232522597, 0.8981779317824253, 0.08732285447884691, 0.22861148916250335, 0.39215663140952495, 0.0386880981659621, 0.10199589516480918, 0.021102598999615692, 0.11254719466461703, 0.03517099833269282, 0.021102598999615692, 0.04748084774913531, 0.9843682103519703, 0.06382331485338798, 0.7598013673022378, 0.14588186252202967, 0.027352849222880563, 0.3345803523503161, 0.07555040214361976, 0.5828173879650667, 0.9517087730308539, 0.8839905542011754, 0.11315079093775046, 0.987892634378992, 0.7264975739103904, 0.24387125133611695, 0.023875507123815646, 0.005116180097960495, 0.9739154726166672, 0.9958020350318532, 0.2370694161357198, 0.7439074782189828, 0.06957126239243436, 0.8905121586231597, 0.02782850495697374, 0.973405148065121, 0.5680357615946163, 0.10269573090976114, 0.1989729786376622, 0.02888317431837032, 0.019255449545580214, 0.08023103977325088, 0.5468851322059917, 0.052084298305332545, 0.052084298305332545, 0.01041685966106651, 0.3333395091541283, 0.9946574990804643, 0.978194467291492, 0.9956716203687014, 0.9774794617643541, 0.9294081977752291, 0.05260801119482429, 0.9729592605985428, 0.9763788536719948, 0.01525591958862492, 0.4126117333232143, 0.17535998666236607, 0.4126117333232143, 0.14365445628438667, 0.7695774443806429, 0.08550860493118255, 0.1412737057184324, 0.7429950448895334, 0.10987954889211408, 0.9981942430291935, 0.9956782804105514, 0.9722596062384669, 0.15033971556409606, 0.12756097078165726, 0.132116719738145, 0.05922473643434087, 0.5239111299960924, 0.2142013406545723, 0.7803048838130848, 0.006449059183736163, 0.11285853571538285, 0.0515924734698893, 0.6674776255166928, 0.08061323979670203, 0.08061323979670203, 0.9758453395999018, 0.9841251873396218, 0.9910360702807011, 0.25480990528382, 0.11175873038764035, 0.05364419058606737, 0.18775466705123578, 0.17434361940471896, 0.21457676234426948, 0.9641728011044203, 0.9644260903900165, 0.9758839933959439, 0.9892511122004285, 0.9945077177817546, 0.03394759103129402, 0.297694259812886, 0.24285584353156492, 0.06267247575008127, 0.32903049768792664, 0.03133623787504063, 0.9702021416037385, 0.9874322636753663, 0.9972681855291949, 0.9673184502396035, 0.9947103024199307, 0.9991854382361893, 0.9865986069007054, 0.11882768828810988, 0.774428727119061, 0.1024376623173361, 0.9767796461164008, 0.992738818493675, 0.9866124903345772, 0.1529505228587762, 0.1845954586226609, 0.12130558709489146, 0.23733701822913547, 0.2953527337962575, 0.4956295491617856, 0.24023965046706636, 0.0021643211753789764, 0.24456829281782433, 0.006492963526136929, 0.010821605876894881, 0.9804699996111491, 0.939018705532914, 0.05935106942420224, 0.9655374380815983, 0.9944252596106246, 0.9665088720497073, 0.9808802779387394, 0.9703092279267137, 0.9855115173411226, 0.9639611981386519, 0.03191924497147854, 0.9947728526046798, 0.9556695042527246, 0.04137097421007466, 0.9958786297332547, 0.3779548827674272, 0.6012918589481797, 0.9544033610909575, 0.9846270417783652, 0.014918591542096443, 0.9729768257655399, 0.9813754881848783, 0.9870686030646468, 0.40866680937591654, 0.055727292187624976, 0.023219705078177076, 0.5108335117198957, 0.9984118320362098, 0.9972915769743955, 0.9795189446920596, 0.976707164635404, 0.9855642030688074, 0.9935281508262341, 0.21711519428737253, 0.34483001445641515, 0.38314446050712797, 0.05108592806761706, 0.995381741058407, 0.3831317561499956, 0.5170721261861729, 0.09656166211910458, 0.0377953530674186, 0.7181117082809534, 0.0377953530674186, 0.2078744418708023, 0.9833165479237714, 0.9904482457725582, 0.3801204595352278, 0.6201495760023082, 0.6389610352368483, 0.014399121920830385, 0.33837936513951405, 0.0017998902401037981, 0.0071995609604151925, 0.9940296030044982, 0.212375400968512, 0.11584112780100654, 0.6081659209552843, 0.05792056390050327, 0.9848297302044232, 0.9343107048337911, 0.021158406903268215, 0.03340801089989718, 0.010022403269969154, 0.880219294227649, 0.11410250110358412, 0.09486265378200033, 0.27342764913635387, 0.2678474930315303, 0.17856499535435355, 0.027900780524117742, 0.15624437093505936, 0.2508115580349109, 0.7358062835167829, 0.008314195293974947, 0.004157097646987473, 0.9704069326268436, 0.5547456851794781, 0.4376327071971438, 0.9881004286006189, 0.9871496534029313, 0.9789540800039915, 0.9757004284999806, 0.9974027638486574, 0.9733215339940886, 0.8124399824054379, 0.14208591620543534, 0.01821614310326094, 0.025502600344565318, 0.16191563955358437, 0.17116796181378918, 0.037009289040819286, 0.6245317525638254, 0.2948728928795556, 0.6929512982669556, 0.9928261388177048, 0.9541647166283103, 0.9826508147283756, 0.035691842514745754, 0.9279879053833896, 0.035691842514745754, 0.9814891914237481, 0.9977891944373618, 0.9862402391076933, 0.9747040834788763, 0.9789498465184876, 0.9546818537363821, 0.04628760502964278, 0.44821748611620876, 0.01907308451558335, 0.5245098241785422, 0.9836691663499902, 0.99507052825245, 0.8199771674405235, 0.01782559059653312, 0.04634653555098611, 0.08556283486335897, 0.032086063073759614, 0.9740208848876143, 0.011735191384188125, 0.9949909792378762, 0.039270103733362746, 0.9424824896007059, 0.4136790929783788, 0.30012012627843165, 0.23928496554631715, 0.04055677382140969, 0.004055677382140969, 0.9967598680941824, 0.12602230807351203, 0.5776022453369302, 0.09451673105513403, 0.19953532111639405, 0.997907231979666, 0.9847755575619022, 0.9528461167281875, 0.3422197259019247, 0.6449525603536272, 0.4270423667588271, 0.22333824928191534, 0.00736279942687633, 0.03926826361000709, 0.2724235787944242, 0.004908532951250886, 0.024542664756254433, 0.6910948271743058, 0.294355204166834, 0.24440407517741836, 0.7332122255322551, 0.9927677069113046, 0.7543882928031047, 0.23822788193782252, 0.9655083699046313, 0.9914099787092936, 0.5818627973546805, 0.23959056361663317, 0.10952711479617516, 0.06845444674760948, 0.222721824386791, 0.4763772354939696, 0.05877381476873651, 0.03712030406446516, 0.061867173440775275, 0.05568045609669775, 0.08661404281708539, 0.8643387252693985, 0.1161052019018595, 0.951064059463064, 0.10848568282028759, 0.11978627478073421, 0.12882674834909152, 0.6396135049612789, 0.0022601183920893247, 0.025865922447793517, 0.051731844895587034, 0.8535754407771861, 0.06035381904485154, 0.9770937133167316, 0.9931559949049146, 0.20049627183959434, 0.11061863273908652, 0.0829639745543149, 0.5669204927878184, 0.02765465818477163, 0.9858468349569772, 0.9853522593720809, 0.24560422893744366, 0.7442552392043748, 0.8634053768042509, 0.06816358237928297, 0.04998662707814084, 0.013632716475856593, 0.5395618244047514, 0.45734287973355126, 0.7341004494151765, 0.26128999046980855, 0.9608735519910323, 0.9945398359543653, 0.997306072877996, 0.9952769686564729, 0.9943829347067558, 0.2519385058125948, 0.2961979730499425, 0.384716907524638, 0.006809148805745805, 0.0034045744028729026, 0.010213723208618708, 0.044259467237347735, 0.7816459779531972, 0.1172468966929796, 0.09491415446574539, 0.5759810061006806, 0.4139863481348642, 0.2677520357239408, 0.0037187782739436224, 0.04834411756126709, 0.6359110848443594, 0.044625339287323464, 0.3606816326413557, 0.03518845196501031, 0.5982036834051754, 0.9949976951583629, 0.9518495836132448, 0.04532617064824975, 0.9191857244882772, 0.03652393607238187, 0.042611258751112185, 0.9992624052165661, 0.9614739380438357, 0.20661814785429794, 0.7928370789757945, 0.9014467396599802, 0.04783186781869283, 0.04783186781869283, 0.15424752735009176, 0.3470569365377064, 0.09915912472505897, 0.3966364989002359, 0.9646368884499839, 0.03131937949512935, 0.9893178999646234, 0.9919746465604256, 0.9830718853858526, 0.9892871031754097, 0.2824684171704551, 0.7061710429261377, 0.9861086221150547, 0.22366151092321868, 0.7757628982471999, 0.14443795021785413, 0.8345303790364905, 0.9324689234044512, 0.04440328206687863, 0.9922283810008286, 0.9942566964019801, 0.0789537209020718, 0.9123541082017185, 0.13737424628963943, 0.10466609241115385, 0.6999544929995913, 0.04579141542987981, 0.9824944901771009, 0.8065279412621842, 0.05562261663877132, 0.1355801280570051, 0.9637475041321344, 0.20660138730906608, 0.7058880733059758, 0.06886712910302203, 0.4588006090590389, 0.5072654621286558, 0.016154951023205594, 0.012923960818564477, 0.07317394262371388, 0.7735531077364038, 0.07317394262371388, 0.078400652811122, 0.9822670694069375, 0.14057812334143707, 0.0337387496019449, 0.37674937055505137, 0.163070623076067, 0.2024324976116694, 0.08434687400486225, 0.9827425932215771, 0.1476256531641918, 0.0738128265820959, 0.15685225648695378, 0.6181824226250531, 0.939022350791679, 0.9973527625340451, 0.5287608860286235, 0.023327686148321626, 0.22550096610044237, 0.19050943687795993, 0.0311035815310955, 0.9928401752454622, 0.9830339302727871, 0.978711280691094, 0.5158646279973049, 0.08953022469374715, 0.272854018114277, 0.055423472429462516, 0.06395016049553368, 0.1299488509962567, 0.7017237953797862, 0.043316283665418905, 0.11695396589663104, 0.9734321101108919, 0.9823055968649332, 0.962394224485659, 0.9913619895036584, 0.9654381416947022, 0.3551348157116911, 0.45501648263060424, 0.1886653708468359, 0.9896769096273239, 0.9828913455388377, 0.2026864138851472, 0.796438379266343, 0.9901282086033381, 0.7111175618157892, 0.12387209141307297, 0.05505426285025465, 0.1101085257005093, 0.094303006731679, 0.37211456710338203, 0.132533955406684, 0.359370917545047, 0.015292379470002001, 0.02548729911667, 0.9882541523941539, 0.9842774061363877, 0.9664550827993482, 0.02989036338554685, 0.5898412594370183, 0.18231457109871474, 0.04647234165261356, 0.12869263842262216, 0.050047137164353064, 0.9916768170976014, 0.20805733938734214, 0.024006616083154863, 0.7602095092999039, 0.9824145667169228, 0.9939702778207733, 0.9984338655626974, 0.30195321712622014, 0.6862573116505003, 0.985243969110997, 0.31594348875419126, 0.6669918095921816, 0.9685181454541137, 0.9697144096433268, 0.2864141096366267, 0.08592423289098801, 0.601469630236916, 0.021481058222747002, 0.41072631651047475, 0.15926122476936777, 0.43168174082223365, 0.9847628934546876, 0.9636850926304292, 0.9553115126042763, 0.9630676729160561, 0.4905134609501908, 0.12561930097504886, 0.08374620065003258, 0.293111702275114, 0.4179055597353509, 0.5272039368969041, 0.03428968695264417, 0.01928794891086235, 0.9859512010966256, 0.33606795105498993, 0.34775727109168525, 0.14319417044951746, 0.0569854351788896, 0.1139708703577792, 0.0014611650045869128, 0.32477733279095033, 0.6671101970841141, 0.9818426973978448, 0.9692785829780651, 0.969128717996033, 0.9970021593483808, 0.9929469010141855, 0.994013641873728, 0.3613444642323127, 0.6366545322188366, 0.13587443654570072, 0.4042264487234597, 0.34647981319153687, 0.013587443654570073, 0.10190582740927555, 0.9481800162315376, 0.9907720167796844, 0.9767726166490569, 0.9952894076941977, 0.02312007942905961, 0.9479232565914439, 0.6989494189806211, 0.2643462546144657, 0.03136311495425864, 0.9892124487507845, 0.9940097902255914, 0.9887871995979268, 0.9597478943544778, 0.9656167386768604, 0.9956617769576193, 0.14257409402337046, 0.14785461602423602, 0.702309426115121, 0.949906079091832, 0.04934312205257537, 0.3157959811364824, 0.01973724882103015, 0.4736939717047236, 0.13816074174721105, 0.9650879058886588, 0.9720906591467529, 0.9802618170662922, 0.9845246292061974, 0.973112723428408, 0.2877663477534803, 0.07335220629010282, 0.05642477406930987, 0.02256990962772395, 0.2539114833118944, 0.01692743222079296, 0.2877663477534803, 0.9593296929295786, 0.9844230248770082, 0.5876324642804502, 0.35013100996710156, 0.06121171502921356, 0.9641894277853398, 0.9740311786730769, 0.9969678081050558, 0.9854001420670364, 0.9661922773476721, 0.03231412298821646, 0.6981193539263253, 0.2999327594646435, 0.990318381184491, 0.22975612893827851, 0.45521775079359855, 0.1524550014450259, 0.04938683145402248, 0.010736267707396191, 0.10306816999100345, 0.3174427665227665, 0.41768785068785064, 0.2004901683301683, 0.06404547043880376, 0.9951670370190714, 0.05805085780810543, 0.8193463930629737, 0.02322034312324217, 0.06136804968285431, 0.02322034312324217, 0.014927363436369967, 0.7994380640520402, 0.051911562600781835, 0.14535237528218914, 0.9836897280972992, 0.9735367785218267, 0.026030395147642424, 0.9794413823224837, 0.2288858614046459, 0.4702564061586361, 0.10403902791120268, 0.12068527237699511, 0.07074653897961783, 0.8301974931624541, 0.16743478853696553, 0.9901019597179578, 0.23810205609982193, 0.7341480063077843, 0.016867375494784113, 0.10120425296870468, 0.8771035257287739, 0.9959180002937635, 0.36938295575076147, 0.047662316871066, 0.023831158435533, 0.1072402129598985, 0.452792010275127, 0.9794091355256186, 0.9867397225192165, 0.974365572339207, 0.023199180293790644, 0.9860630531138753, 0.9884452731587442, 0.003954887072155343, 0.7356089954208938, 0.20565412775207784, 0.0553684190101748, 0.17244384482784927, 0.8047379425299632, 0.9582492727818053, 0.9947732920671298, 0.9786216686251668, 0.9755725386776524, 0.2479649279624959, 0.08926737406649853, 0.6546274098209892, 0.979178223541135, 0.1485615423673728, 0.268236118163312, 0.5818660409388767, 0.9973947290543118, 0.9851493516216046, 0.9792922213579388, 0.9581069222642244, 0.4363917148135858, 0.22990271276994276, 0.15019646348892252, 0.06633884705784913, 0.08900531169713927, 0.0025738476330329453, 0.0162733592282083, 0.007970624928102023, 0.0001660546860021255, 0.0010793554590138158, 0.9621779421132588, 0.9688650939625596, 0.9704749052656965, 0.9894942415439782, 0.9817367407843174, 0.18933644551421816, 0.7889018563092423, 0.987923356171401, 0.9568662370810773, 0.9461330746251364, 0.983648290205791, 0.9868554884733818, 0.988457721285418, 0.9672307765063008, 0.9816398764147564, 0.9817775341963912, 0.9760061883589802, 0.280430479097252, 0.27138433461024386, 0.0768922281395691, 0.30304584031477233, 0.06784608365256097, 0.9706918189131569, 0.9742482455689688, 0.9783958313204717, 0.31892233181719865, 0.6697368968161173, 0.9948254772995065, 0.9032270752204923, 0.08430119368724594, 0.05248292795784581, 0.9271983939219426, 0.9769098301228272, 0.948713291520163, 0.9769459195317757, 0.9889590351306858, 0.9794872026530214, 0.9696550315752986, 0.9781619633567238, 0.055699033711101006, 0.1802027561241503, 0.18347916987186214, 0.03276413747711824, 0.3309177885188942, 0.04259337872025371, 0.13105654990847296, 0.03931696497254188, 0.9949393068676109, 0.6859033821283073, 0.007455471544872905, 0.30194659756735265, 0.9746951008689186, 0.9936508406762109, 0.020130660828836387, 0.8924592967450798, 0.08723286359162434, 0.8064334490140456, 0.04075836926424779, 0.07860542643819217, 0.07278280225758534, 0.9848372634586281, 0.9837094345370305, 0.990589634322608, 0.37091570403412605, 0.12203703215630572, 0.27290170970386474, 0.19026245958227192, 0.0019218430260835547, 0.0422805465738382, 0.35236933028845924, 0.31364742586115607, 0.1432710463810219, 0.18586514125105544, 0.12672193342247312, 0.7312198050188652, 0.136996684781052, 0.005137375679289451, 0.6020157913874797, 0.3831009581556689, 0.9578631986253217, 0.9873789828552468], \"Term\": [\"A\", \"A\", \"AI\", \"Analysis\", \"Art\", \"As\", \"B\", \"COVID-19\", \"COVID-19\", \"COVID-19\", \"COVID-19\", \"COVID-19situation\", \"Class\", \"Clinical\", \"Corona\", \"Coronavirus\", \"Coronavirus\", \"Disease\", \"Effect\", \"Effect\", \"FDA\", \"FDA\", \"I\", \"ICT\", \"II\", \"III\", \"Infectious\", \"KC\", \"Korea\", \"Middle\", \"O\", \"Physical\", \"Post\", \"Republic\", \"Respiratory\", \"SARS-CoV\", \"SARS-CoV\", \"Satisfaction\", \"Stress\", \"Study\", \"System\", \"The\", \"WHO\", \"WHO\", \"Weekly\", \"a\", \"after\", \"and\", \"article\", \"as\", \"bD\", \"bEaIOi\", \"by\", \"co\", \"com\", \"coronavirus\", \"coupa\", \"coupa\", \"der\", \"ez\", \"for\", \"from\", \"gt\", \"http\", \"https\", \"https\", \"in\", \"is\", \"kr\", \"lt\", \"main\", \"n\", \"naver\", \"nbsp\", \"nbsp\", \"news\", \"ng\", \"of\", \"on\", \"pandemic\", \"quot\", \"quot\", \"quot\", \"quot\", \"report\", \"respiratory\", \"s\", \"study\", \"the\", \"to\", \"using\", \"v\", \"with\", \"www\", \"\\u3147\", \"\\u318d\", \"\\uac00\\ub798\", \"\\uac00\\uc694\", \"\\uac00\\uc815\", \"\\uac01\\uad6d\", \"\\uac10\\uae30\", \"\\uac10\\uc18c\", \"\\uac10\\uc18c\", \"\\uac10\\uc18c\", \"\\uac10\\uc18c\", \"\\uac10\\uc5fc\", \"\\uac10\\uc5fc\", \"\\uac10\\uc5fc\", \"\\uac10\\uc5fc\", \"\\uac10\\uc5fc\\ubcd1\", \"\\uac10\\uc5fc\\ubcd1\", \"\\uac10\\uc5fc\\ubcd1\", \"\\uac10\\uc5fc\\ubcd1\", \"\\uac10\\uc5fc\\ubcd1\", \"\\uac10\\uc5fc\\uc99d\", \"\\uac10\\uc5fc\\uc99d\", \"\\uac15\\ud654\", \"\\uac15\\ud654\", \"\\uac15\\ud654\", \"\\uac15\\ud654\", \"\\uac1c\\ubc1c\", \"\\uac1c\\ubc1c\", \"\\uac1c\\uc694\", \"\\uac1c\\uc694\", \"\\uac70\\ub9ac\", \"\\uac71\\uc815\", \"\\uac74\\uac15\", \"\\uac74\\uac15\", \"\\uac74\\uac15\", \"\\uac74\\uac15\", \"\\uac74\\uc124\", \"\\uac80\\uc0ac\", \"\\uac80\\uc0ac\", \"\\uac80\\uc0ac\", \"\\uac80\\uc0ac\", \"\\uac80\\uc0ac\", \"\\uac80\\uccb4\", \"\\uac80\\ud1a0\", \"\\uaca9\\uc0c1\", \"\\uacb0\\uacfc\", \"\\uacb0\\uacfc\", \"\\uacb0\\uacfc\", \"\\uacb0\\uacfc\", \"\\uacb0\\uacfc\", \"\\uacb0\\uacfc\", \"\\uacb0\\uacfc\", \"\\uacbd\\ub85c\", \"\\uacbd\\uc6b0\", \"\\uacbd\\uc6b0\", \"\\uacbd\\uc7c1\", \"\\uacbd\\uc81c\", \"\\uacbd\\uc81c\", \"\\uacbd\\uc81c\", \"\\uace0\\uc6a9\", \"\\uacf5\\uac04\", \"\\uacf5\\uac04\", \"\\uacf5\\uc5f0\", \"\\uacf5\\uc815\", \"\\uacfc\\uc81c\", \"\\uad00\\uacc4\", \"\\uad00\\uacc4\", \"\\uad00\\ub828\", \"\\uad00\\ub828\", \"\\uad00\\ub828\", \"\\uad00\\ub828\", \"\\uad00\\ub828\", \"\\uad00\\ub828\", \"\\uad00\\ub828\", \"\\uad00\\ub828\", \"\\uad00\\ub828\", \"\\uad00\\ub828\\uc8fc\", \"\\uad00\\ub9ac\", \"\\uad00\\ub9ac\", \"\\uad00\\ub9ac\", \"\\uad00\\ub9ac\", \"\\uad11\\uc8fc\", \"\\uad11\\uc8fc\", \"\\uad11\\uc8fc\", \"\\uad11\\ud654\\ubb38\", \"\\uad50\\uc721\", \"\\uad50\\uc721\", \"\\uad6c\\uc131\", \"\\uad6d\\ub0b4\", \"\\uad6d\\ub0b4\", \"\\uad6d\\ub0b4\", \"\\uad6d\\ub0b4\", \"\\uad6d\\ub0b4\\uc678\", \"\\uad6d\\ubb38\", \"\\uad6d\\uc81c\", \"\\uad6d\\uc81c\", \"\\uad6d\\ud68c\", \"\\uad6d\\ud68c\", \"\\uad6d\\ud68c\", \"\\uadf8\\ub3d9\\uc548\", \"\\uadf9\\ubcf5\", \"\\uadf9\\ubcf5\", \"\\uadf9\\ubcf5\", \"\\uadf9\\ubcf5\", \"\\uadf9\\ubcf5\", \"\\uadf9\\ubcf5\", \"\\uae00\", \"\\uae00\", \"\\uae00\", \"\\uae00\", \"\\uae00\", \"\\uae00\\ub85c\\ubc8c\", \"\\uae08\\uc735\", \"\\uae30\", \"\\uae30\\uac00\", \"\\uae30\\uad6c\", \"\\uae30\\uad6c\", \"\\uae30\\ub2a5\", \"\\uae30\\ubcf8\", \"\\uae30\\ubcf8\", \"\\uae30\\uc0ac\", \"\\uae30\\uc0ac\", \"\\uae30\\uc0ac\", \"\\uae30\\uc220\", \"\\uae30\\uc220\", \"\\uae30\\uc220\", \"\\uae30\\uc5c5\", \"\\uae30\\uc5c5\", \"\\uae30\\uc5c5\", \"\\uae30\\uc900\", \"\\uae30\\uce68\", \"\\uae30\\ud68c\", \"\\uae34\\uae09\", \"\\uae34\\uae09\", \"\\uae34\\uae09\", \"\\uae34\\uae09\", \"\\uae34\\uae09\", \"\\uae38\", \"\\uae38\", \"\\uae40\", \"\\uae40\", \"\\uae40\", \"\\uae40\", \"\\uae40\", \"\\uae40\", \"\\uae40\\ud3ec\\uc2dc\", \"\\ub098\\ub77c\", \"\\ub0a0\", \"\\ub0b4\\uc6a9\", \"\\ub0b4\\uc6a9\", \"\\ub0b4\\uc6a9\", \"\\ub0b4\\uc6a9\", \"\\ub0b4\\uc6a9\", \"\\ub0b4\\uc6a9\", \"\\ub178\\ub3d9\", \"\\ub178\\uba40\", \"\\ub17c\\ubb38\", \"\\ub204\\uacc4\", \"\\ub204\\uc801\", \"\\ub274\\uc2a4\", \"\\ub274\\uc2a4\", \"\\ub274\\uc2a4\", \"\\ub274\\uc2a4\", \"\\ub274\\uc2a4\", \"\\ub274\\uc2a4\", \"\\ub2c8\", \"\\ub2e4\", \"\\ub2e8\\uacc4\", \"\\ub2e8\\uacc4\\ubcc4\", \"\\ub2f5\", \"\\ub2f5\\ubcc0\", \"\\ub2f9\", \"\\ub300\", \"\\ub300\", \"\\ub300\", \"\\ub300\\uae30\", \"\\ub300\\ub7c9\", \"\\ub300\\ubcf8\", \"\\ub300\\ube44\", \"\\ub300\\ube44\", \"\\ub300\\ube44\", \"\\ub300\\ube44\", \"\\ub300\\ube44\", \"\\ub300\\uc751\", \"\\ub300\\uc751\", \"\\ub300\\uc751\", \"\\ub300\\uc751\", \"\\ub300\\uc751\", \"\\ub300\\uc751\", \"\\ub300\\uc804\", \"\\ub300\\ucc45\", \"\\ub300\\ucc45\", \"\\ub300\\ucd9c\", \"\\ub370\\uc774\\ud130\", \"\\ub3c4\\uc11c\\uad00\", \"\\ub3d9\\ubb3c\", \"\\ub3d9\\ubc18\", \"\\ub3d9\\uc2dc\", \"\\ub3d9\\ud5a5\", \"\\ub3d9\\ud5a5\", \"\\ub514\\uc9c0\\ud138\", \"\\ub54c\", \"\\ub54c\", \"\\ub7ec\\uc2dc\\uc544\", \"\\ub9ac\", \"\\ub9ac\", \"\\ub9c1\\ud06c\", \"\\ub9c8\\uc2a4\\ud06c\", \"\\ub9c8\\uc2a4\\ud06c\", \"\\uba38\\ub9ac\\ub9d0\", \"\\uba74\\uc5ed\", \"\\uba74\\uc5ed\\ub825\", \"\\ubaa9\", \"\\ubaa9\", \"\\ubaa9\", \"\\ubaa9\", \"\\ubaa9\\uc801\", \"\\ubaa9\\ucc28\", \"\\ubab8\", \"\\ubab8\\uc0b4\", \"\\ubb34\\uae30\\ub825\", \"\\ubb34\\uc5ed\", \"\\ubb38\", \"\\ubb38\", \"\\ubb38\", \"\\ubb38\", \"\\ubb3c\\uc9c8\", \"\\ubbf8\\uad6d\", \"\\ubbf8\\uad6d\", \"\\ubbf8\\uad6d\", \"\\ubbf9\", \"\\ubbf9\", \"\\ubbf9\", \"\\ubbf9\", \"\\ubbfc\\uac04\", \"\\ubbfc\\uc0dd\", \"\\ubc14\", \"\\ubc14\", \"\\ubc14\\uc774\\ub7ec\\uc2a4\", \"\\ubc14\\uc774\\ub7ec\\uc2a4\", \"\\ubc14\\uc774\\ub7ec\\uc2a4\", \"\\ubc14\\uc774\\ub7ec\\uc2a4\", \"\\ubc14\\uc774\\ub7ec\\uc2a4\", \"\\ubc14\\uc774\\uc624\", \"\\ubc15\", \"\\ubc15\", \"\\ubc15\", \"\\ubc15\", \"\\ubc18\\uc751\", \"\\ubc1c\\uc0dd\", \"\\ubc1c\\uc0dd\", \"\\ubc1c\\uc0dd\", \"\\ubc1c\\uc0dd\", \"\\ubc1c\\uc5f4\", \"\\ubc1c\\uc5f4\", \"\\ubc1c\\ud45c\", \"\\ubc1c\\ud45c\", \"\\ubc1c\\ud45c\", \"\\ubc1c\\ud45c\", \"\\ubc1c\\ud45c\", \"\\ubc1c\\ud45c\", \"\\ubc29\\uc5ed\", \"\\ubc29\\uc5ed\", \"\\ubc29\\uc5ed\", \"\\ubc29\\uc5ed\", \"\\ubc29\\uc804\", \"\\ubc29\\uc9c0\", \"\\ubc29\\uc9c0\", \"\\ubc29\\ud5a5\", \"\\ubc30\\uacbd\", \"\\ubc30\\ub2ec\", \"\\ubc30\\ucd9c\", \"\\ubc31\\uc2e0\", \"\\ubcd1\\uc11d\", \"\\ubcd1\\uc6d0\", \"\\ubcd1\\uc6d0\", \"\\ubcd1\\uc6d0\", \"\\ubcd1\\uc6d0\", \"\\ubcf4\\uac74\", \"\\ubcf4\\uac74\", \"\\ubcf4\\uac74\", \"\\ubcf4\\uac74\", \"\\ubcf4\\uac74\\uc18c\", \"\\ubcf4\\uac74\\uc18c\", \"\\ubcf4\\uace0\\uc11c\", \"\\ubcf4\\uc99d\", \"\\ubcf4\\ud5d8\", \"\\ubcf8\", \"\\ubcf8\", \"\\ubcf8\", \"\\ubcf8\\ubb38\", \"\\ubcf8\\ubd80\", \"\\ubcf8\\ubd80\\uc7a5\", \"\\ubd09\\uc1c4\", \"\\ubd80\\ubd84\", \"\\ubd84\", \"\\ubd84\", \"\\ubd84\\uc11d\", \"\\ubd84\\uc11d\", \"\\ubd84\\uc11d\", \"\\ubd88\\uc548\", \"\\ube0c\\ub9ac\\ud551\", \"\\uc0ac\\ub78c\", \"\\uc0ac\\ub78c\", \"\\uc0ac\\ub78c\", \"\\uc0ac\\ub78c\", \"\\uc0ac\\ub78c\", \"\\uc0ac\\ub9dd\", \"\\uc0ac\\ub9dd\", \"\\uc0ac\\ub9dd\\uc790\", \"\\uc0ac\\uc5c5\\uc790\", \"\\uc0ac\\uc5c5\\uc790\", \"\\uc0ac\\ud0dc\", \"\\uc0ac\\ud0dc\", \"\\uc0ac\\ud0dc\", \"\\uc0ac\\ud0dc\", \"\\uc0ac\\ud0dc\", \"\\uc0ac\\ud68c\\uc801\", \"\\uc0b0\\uc5c5\", \"\\uc0b0\\uc5c5\", \"\\uc0b0\\uc5c5\", \"\\uc0b0\\uc5c5\", \"\\uc0c1\", \"\\uc0c1\\uacf5\\uc778\", \"\\uc0c1\\uc778\", \"\\uc0c1\\ud488\", \"\\uc0c1\\ud488\", \"\\uc0c1\\ud669\", \"\\uc0c1\\ud669\", \"\\uc0c1\\ud669\", \"\\uc0c1\\ud669\", \"\\uc0c1\\ud669\", \"\\uc0c1\\ud669\", \"\\uc0c1\\ud669\", \"\\uc0dd\\uac01\", \"\\uc0dd\\uac01\", \"\\uc0dd\\uba85\", \"\\uc0dd\\uba85\", \"\\uc0dd\\uc0b0\", \"\\uc0dd\\ud65c\", \"\\uc0dd\\ud65c\", \"\\uc11c\\uad6c\", \"\\uc11c\\ub860\", \"\\uc11c\\ube44\\uc2a4\", \"\\uc11c\\ube44\\uc2a4\", \"\\uc11c\\ube44\\uc2a4\", \"\\uc11c\\ube44\\uc2a4\", \"\\uc11c\\uc6b8\", \"\\uc11c\\uc6b8\", \"\\uc11c\\uc6b8\", \"\\uc11c\\uc6b8\", \"\\uc11c\\uc6b8\", \"\\uc11c\\uc6b8\", \"\\uc11c\\uc6b8\", \"\\uc120\\ubcc4\", \"\\uc120\\ubcc4\", \"\\uc120\\uc9c4\\uad6d\", \"\\uc138\\uacc4\", \"\\uc138\\uacc4\", \"\\uc138\\uacc4\", \"\\uc138\\uacc4\", \"\\uc138\\uacc4\", \"\\uc138\\uacc4\\uc801\", \"\\uc138\\uacc4\\uc801\", \"\\uc138\\uacc4\\uc801\", \"\\uc138\\uacc4\\uc801\", \"\\uc138\\uc885\", \"\\uc140\", \"\\uc18c\", \"\\uc18c\", \"\\uc18c\", \"\\uc18c\", \"\\uc18c\", \"\\uc18c\\ub3c5\", \"\\uc18c\\ub4dd\", \"\\uc18c\\ube44\", \"\\uc18c\\ube44\", \"\\uc218\", \"\\uc218\", \"\\uc218\", \"\\uc218\", \"\\uc218\\ub3c4\\uad8c\", \"\\uc218\\ub3c4\\uad8c\", \"\\uc218\\uc5c5\", \"\\uc218\\uc5c5\", \"\\uc218\\uc785\", \"\\uc218\\ucd9c\", \"\\uc2a4\\uac10\", \"\\uc2a4\\ud2b8\\ub77c\", \"\\uc2b9\\uc778\", \"\\uc2dc\\uac04\", \"\\uc2dc\\uac04\", \"\\uc2dc\\uac04\", \"\\uc2dc\\uac04\", \"\\uc2dc\\uac04\", \"\\uc2dc\\uac04\", \"\\uc2dc\\uac04\", \"\\uc2dc\\ub300\", \"\\uc2dc\\ub300\", \"\\uc2dc\\ub300\", \"\\uc2dc\\uc2a4\\ud15c\", \"\\uc2dc\\uc2a4\\ud15c\", \"\\uc2dc\\uc7a5\", \"\\uc2dc\\uc7a5\", \"\\uc2dc\\uc7a5\", \"\\uc2dc\\uc7a5\", \"\\uc2dc\\uc7a5\", \"\\uc2dc\\ud589\", \"\\uc2dc\\ud589\", \"\\uc2dc\\ud589\", \"\\uc2dc\\ud5d8\", \"\\uc2dd\\ud488\", \"\\uc2dd\\ud488\", \"\\uc2e0\", \"\\uc2e0\", \"\\uc2e0\", \"\\uc2e0\\uaddc\", \"\\uc2e0\\uc6a9\", \"\\uc2e0\\uc885\", \"\\uc2e0\\uc885\", \"\\uc2e0\\uccad\", \"\\uc2e0\\uccad\", \"\\uc2e0\\uccad\", \"\\uc548\\ub0b4\", \"\\uc548\\ub0b4\", \"\\uc548\\ub0b4\", \"\\uc548\\ub0b4\", \"\\uc548\\ub155\", \"\\uc548\\ub155\", \"\\uc548\\uc815\", \"\\uc5c5\\uacc4\", \"\\uc5ec\\uac74\", \"\\uc5ec\\ub984\", \"\\uc5ec\\uc131\", \"\\uc5ec\\uc131\", \"\\uc5ed\\ud559\", \"\\uc5f0\\uad6c\", \"\\uc5f0\\uad6c\", \"\\uc5f0\\uae30\", \"\\uc5f0\\uae30\", \"\\uc5f0\\uc7a5\", \"\\uc5f0\\uc7a5\", \"\\uc5f4\", \"\\uc5fc\\uc99d\", \"\\uc601\\uad6d\", \"\\uc601\\uad6d\", \"\\uc601\\ud5a5\", \"\\uc601\\ud5a5\", \"\\uc601\\ud5a5\", \"\\uc601\\ud5a5\", \"\\uc601\\ud654\", \"\\uc608\\ubc29\", \"\\uc608\\ubc29\", \"\\uc608\\ubc29\", \"\\uc608\\ubc30\", \"\\uc608\\uc0c1\", \"\\uc608\\uc0c1\", \"\\uc608\\uc0c1\", \"\\uc624\\ub298\", \"\\uc624\\ub298\", \"\\uc624\\ub298\", \"\\uc624\\ub298\", \"\\uc624\\uc804\", \"\\uc624\\uc804\", \"\\uc624\\uc804\", \"\\uc624\\uc804\", \"\\uc628\", \"\\uc628\\ub77c\\uc778\", \"\\uc628\\ub77c\\uc778\", \"\\uc628\\ub77c\\uc778\", \"\\uc628\\ub77c\\uc778\", \"\\uc628\\ub77c\\uc778\", \"\\uc628\\ub77c\\uc778\", \"\\uc644\\ud654\", \"\\uc694\\uc57d\", \"\\uc694\\uc57d\", \"\\uc694\\uc57d\", \"\\uc694\\uc57d\", \"\\uc694\\uc778\", \"\\uc694\\uc998\", \"\\uc6b0\\ub9ac\", \"\\uc6b0\\ub9ac\", \"\\uc6b0\\ub9ac\", \"\\uc6b0\\ub9ac\", \"\\uc6b0\\ub9ac\", \"\\uc6b0\\ub9ac\\ub098\\ub77c\", \"\\uc6b4\\ub3d9\", \"\\uc6d4\\ub4dc\", \"\\uc704\", \"\\uc704\", \"\\uc704\", \"\\uc704\", \"\\uc704\", \"\\uc704\\uae30\", \"\\uc704\\uae30\", \"\\uc704\\uae30\", \"\\uc704\\uae30\", \"\\uc704\\uae30\\uad00\\ub9ac\", \"\\uc720\\uc0ac\", \"\\uc720\\uc544\", \"\\uc720\\uc785\", \"\\uc720\\ud1b5\", \"\\uc758\\ub8cc\", \"\\uc758\\ub8cc\", \"\\uc758\\ub8cc\", \"\\uc758\\uc57d\\ud488\", \"\\uc774\\ub4dc\", \"\\uc774\\ub7ec\\uc2a4\", \"\\uc774\\ub7ec\\uc2a4\", \"\\uc774\\ub860\", \"\\uc774\\uc0c1\", \"\\uc774\\uc0c1\", \"\\uc774\\uc0c1\", \"\\uc774\\uc0c1\", \"\\uc774\\ud6c4\", \"\\uc774\\ud6c4\", \"\\uc774\\ud6c4\", \"\\uc774\\ud6c4\", \"\\uc774\\ud6c4\", \"\\uc774\\ud6c4\", \"\\uc778\\uc0ac\\ub9d0\", \"\\uc778\\uc99d\", \"\\uc778\\ud6c4\", \"\\uc778\\ud6c4\", \"\\uc77c\", \"\\uc77c\", \"\\uc77c\", \"\\uc77c\", \"\\uc77c\", \"\\uc77c\\ubc18\", \"\\uc77c\\ubcf8\", \"\\uc77c\\ubcf8\", \"\\uc77c\\ubcf8\", \"\\uc77c\\uc77c\", \"\\uc784\", \"\\uc784\\uc0c1\", \"\\uc785\\uad6d\", \"\\uc785\\uad6d\", \"\\uc785\\uae08\", \"\\uc785\\ub825\", \"\\uc785\\ub825\", \"\\uc790\\uaca9\", \"\\uc790\\uae08\", \"\\uc790\\ub8cc\", \"\\uc790\\ub8cc\", \"\\uc790\\ub8cc\", \"\\uc790\\ub8cc\", \"\\uc7a5\", \"\\uc7a5\", \"\\uc7a5\", \"\\uc7a5\\uad00\", \"\\uc7a5\\ub2f9\", \"\\uc7a5\\ubcd1\", \"\\uc7a5\\uc560\\uc778\", \"\\uc7ac\\ub09c\", \"\\uc7ac\\ub09c\", \"\\uc7ac\\ub09c\", \"\\uc7ac\\ub09c\", \"\\uc800\", \"\\uc800\", \"\\uc800\", \"\\uc800\", \"\\uc800\\ud76c\", \"\\uc804\", \"\\uc804\", \"\\uc804\", \"\\uc804\", \"\\uc804\", \"\\uc804\", \"\\uc804\\ub9dd\", \"\\uc804\\ub9dd\", \"\\uc804\\uc5ed\", \"\\uc804\\uc790\", \"\\uc804\\ud658\", \"\\uc808\", \"\\uc815\\ub3c4\", \"\\uc815\\ub840\", \"\\uc815\\ub9ac\", \"\\uc815\\ub9ac\", \"\\uc815\\ubcf4\", \"\\uc815\\ubcf4\", \"\\uc815\\ubcf4\", \"\\uc815\\ubcf4\", \"\\uc815\\ubcf4\", \"\\uc815\\uc2e0\", \"\\uc815\\uc740\", \"\\uc815\\uc758\", \"\\uc815\\ucc45\", \"\\uc815\\ud655\", \"\\uc815\\ud655\", \"\\uc81c\", \"\\uc81c\", \"\\uc81c\", \"\\uc81c\\uac00\", \"\\uc81c\\uc57d\", \"\\uc81c\\uc57d\\uc0ac\", \"\\uc81c\\uc678\", \"\\uc81c\\uc870\", \"\\uc81c\\uc9c0\", \"\\uc870\\uc0ac\", \"\\uc870\\uc0ac\", \"\\uc870\\uc0ac\", \"\\uc870\\uc2ec\", \"\\uc870\\uce58\", \"\\uc870\\uce58\", \"\\uc870\\uce58\", \"\\uc870\\uce58\", \"\\uc870\\uce58\", \"\\uc874\", \"\\uc885\\uad50\", \"\\uc8fc\\uac00\", \"\\uc8fc\\uc138\", \"\\uc8fc\\uc2dd\", \"\\uc8fc\\uc694\", \"\\uc8fc\\uc694\", \"\\uc8fc\\uc694\", \"\\uc8fc\\uc694\", \"\\uc8fc\\uc694\", \"\\uc8fc\\uc694\", \"\\uc8fc\\uc694\", \"\\uc8fc\\uc694\\uad6d\", \"\\uc8fc\\uc81c\", \"\\uc911\\uad6d\", \"\\uc911\\uad6d\", \"\\uc911\\uad6d\", \"\\uc911\\uc18c\", \"\\uc911\\uc18c\\uae30\\uc5c5\", \"\\uc911\\uc559\", \"\\uc911\\uc694\\uc131\", \"\\uc99d\\uc0c1\", \"\\uc99d\\uc0c1\", \"\\uc9c0\\uae08\", \"\\uc9c0\\uae08\", \"\\uc9c0\\uae09\", \"\\uc9c0\\uc5ed\", \"\\uc9c0\\uc5ed\", \"\\uc9c0\\uc5ed\", \"\\uc9c0\\uc5ed\", \"\\uc9c0\\uc5ed\", \"\\uc9c0\\uc5ed\", \"\\uc9c0\\uc6d0\", \"\\uc9c0\\uc6d0\", \"\\uc9c0\\uc6d0\", \"\\uc9c0\\uc6d0\", \"\\uc9c0\\uc6d0\\uae08\", \"\\uc9c4\", \"\\uc9c4\", \"\\uc9c4\", \"\\uc9c4\", \"\\uc9c4\", \"\\uc9c4\", \"\\uc9c4\\ub2e8\", \"\\uc9c4\\ub2e8\", \"\\uc9c4\\ub2e8\", \"\\uc9c4\\ub8cc\\uc18c\", \"\\uc9c4\\uc790\", \"\\uc9c4\\uc790\", \"\\uc9c4\\ucd9c\", \"\\uc9c4\\ud589\", \"\\uc9c4\\ud589\", \"\\uc9c4\\ud589\", \"\\uc9c4\\ud589\", \"\\uc9c4\\ud589\", \"\\uc9c8\\ubcd1\", \"\\uc9c8\\ubcd1\", \"\\uc9d1\\uacc4\", \"\\uc9d1\\ud68c\", \"\\uc9d1\\ud68c\", \"\\ucc28\", \"\\ucc28\", \"\\ucc28\", \"\\ucc29\\uc6a9\", \"\\ucc38\\uc5ec\", \"\\ucc38\\uc5ec\", \"\\ucc38\\uc5ec\", \"\\ucc38\\uc5ec\", \"\\ucc38\\uc5ec\", \"\\ucca0\", \"\\uccb4\", \"\\ucd08\\uae30\", \"\\ucd08\\uae30\", \"\\ucd08\\ub85d\", \"\\ucd5c\\uc2e0\", \"\\ucd94\\uac00\", \"\\ucd94\\uac00\", \"\\ucd94\\uac00\", \"\\ucd94\\uac00\", \"\\ucd94\\uc11d\", \"\\ucd94\\uc11d\", \"\\ucd94\\ucc9c\", \"\\ucd95\\uc0ac\", \"\\ucd95\\uc0b0\", \"\\ucd95\\uc81c\", \"\\ucd9c\\ucc98\", \"\\ucd9c\\ucc98\", \"\\ucd9c\\ucc98\", \"\\ucda9\\uaca9\", \"\\uce58\\ub8cc\", \"\\uce58\\ub8cc\", \"\\uce58\\ub8cc\", \"\\uce58\\ub8cc\\uc81c\", \"\\uce68\\uccb4\", \"\\uce74\\ud398\", \"\\ucf00\\uc5b4\", \"\\ucf54\\ub85c\\ub098\", \"\\ucf54\\ub85c\\ub098\", \"\\ucf54\\ub85c\\ub098\", \"\\ucf54\\ub85c\\ub098\", \"\\ucf54\\ub85c\\ub098\", \"\\ucf54\\ub85c\\ub098\", \"\\ucf54\\ub85c\\ub098\", \"\\ucf54\\ub85c\\ub098\", \"\\ucf54\\ub85c\\ub098\", \"\\ucf54\\ub85c\\ub098\", \"\\ucf54\\ub9ac\\uc544\", \"\\ucf55\", \"\\ucf58\\ud150\\uce20\", \"\\ud0c8\", \"\\ud0dd\\ud2b8\", \"\\ud1b5\", \"\\ud1b5\", \"\\ud1b5\\uacc4\", \"\\ud1b5\\uacc4\\uccad\", \"\\ud1b5\\ud569\", \"\\ud1f4\\uc6d0\", \"\\ud22c\\uc790\", \"\\ud29c\\ube0c\", \"\\ud2b8\\ub7fc\\ud504\", \"\\ud2b8\\ub9ac\", \"\\ud2b9\\ub840\", \"\\ud2b9\\uc218\", \"\\ud310\\uc815\", \"\\ud310\\uc815\", \"\\ud310\\uc815\", \"\\ud310\\uc815\", \"\\ud310\\uc815\", \"\\ud32c\", \"\\ud3d0\", \"\\ud3d0\\uc1c4\", \"\\ud3ec\", \"\\ud3ec\", \"\\ud45c\", \"\\ud45c\\uc9c0\", \"\\ud45c\\uc9c0\", \"\\ud504\\ub791\\uc2a4\", \"\\ud504\\ub791\\uc2a4\", \"\\ud50c\\ub77c\\uc988\\ub9c8\", \"\\ud50c\\ub7ab\\ud3fc\", \"\\ud544\\ub9ac\\ud540\", \"\\ud544\\uc694\\uc131\", \"\\ud559\\uc2b5\", \"\\ud55c\\uac15\", \"\\ud55c\\uacc4\", \"\\ud55c\\uad6d\", \"\\ud55c\\uad6d\", \"\\ud55c\\uad6d\", \"\\ud55c\\uad6d\", \"\\ud55c\\uad6d\", \"\\ud55c\\uad6d\", \"\\ud55c\\uad6d\", \"\\ud55c\\uad6d\", \"\\ud56d\\uccb4\", \"\\ud574\\uc678\", \"\\ud574\\uc678\", \"\\ud574\\uc678\", \"\\ud574\\uc81c\", \"\\ud601\\uba85\", \"\\ud604\\uc9c0\", \"\\ud604\\uc9c0\", \"\\ud604\\uc9c0\", \"\\ud604\\ud669\", \"\\ud604\\ud669\", \"\\ud604\\ud669\", \"\\ud604\\ud669\", \"\\ud64d\", \"\\ud654\\uc131\", \"\\ud655\\ubcf4\", \"\\ud655\\uc0b0\", \"\\ud655\\uc0b0\", \"\\ud655\\uc0b0\", \"\\ud655\\uc0b0\", \"\\ud655\\uc0b0\", \"\\ud655\\uc0b0\", \"\\ud655\\uc778\", \"\\ud655\\uc778\", \"\\ud655\\uc778\", \"\\ud655\\uc778\", \"\\ud658\\uc790\", \"\\ud658\\uc790\", \"\\ud658\\uc790\", \"\\ud658\\uc790\", \"\\ud65c\\uc6a9\", \"\\ud65c\\uc6a9\", \"\\ud68c\\ubcf4\", \"\\ud6c4\\ubcf4\"]}, \"R\": 30, \"lambda.step\": 0.01, \"plot.opts\": {\"xlab\": \"PC1\", \"ylab\": \"PC2\"}, \"topic.order\": [6, 1, 8, 7, 4, 3, 10, 2, 9, 5]};\n",
       "\n",
       "function LDAvis_load_lib(url, callback){\n",
       "  var s = document.createElement('script');\n",
       "  s.src = url;\n",
       "  s.async = true;\n",
       "  s.onreadystatechange = s.onload = callback;\n",
       "  s.onerror = function(){console.warn(\"failed to load library \" + url);};\n",
       "  document.getElementsByTagName(\"head\")[0].appendChild(s);\n",
       "}\n",
       "\n",
       "if(typeof(LDAvis) !== \"undefined\"){\n",
       "   // already loaded: just create the visualization\n",
       "   !function(LDAvis){\n",
       "       new LDAvis(\"#\" + \"ldavis_el2038013936602447608882074904\", ldavis_el2038013936602447608882074904_data);\n",
       "   }(LDAvis);\n",
       "}else if(typeof define === \"function\" && define.amd){\n",
       "   // require.js is available: use it to load d3/LDAvis\n",
       "   require.config({paths: {d3: \"https://cdnjs.cloudflare.com/ajax/libs/d3/3.5.5/d3.min\"}});\n",
       "   require([\"d3\"], function(d3){\n",
       "      window.d3 = d3;\n",
       "      LDAvis_load_lib(\"https://cdn.rawgit.com/bmabey/pyLDAvis/files/ldavis.v1.0.0.js\", function(){\n",
       "        new LDAvis(\"#\" + \"ldavis_el2038013936602447608882074904\", ldavis_el2038013936602447608882074904_data);\n",
       "      });\n",
       "    });\n",
       "}else{\n",
       "    // require.js not available: dynamically load d3 & LDAvis\n",
       "    LDAvis_load_lib(\"https://cdnjs.cloudflare.com/ajax/libs/d3/3.5.5/d3.min.js\", function(){\n",
       "         LDAvis_load_lib(\"https://cdn.rawgit.com/bmabey/pyLDAvis/files/ldavis.v1.0.0.js\", function(){\n",
       "                 new LDAvis(\"#\" + \"ldavis_el2038013936602447608882074904\", ldavis_el2038013936602447608882074904_data);\n",
       "            })\n",
       "         });\n",
       "}\n",
       "</script>"
      ],
      "text/plain": [
       "<IPython.core.display.HTML object>"
      ]
     },
     "execution_count": 107,
     "metadata": {},
     "output_type": "execute_result"
    }
   ],
   "source": [
    "import pyLDAvis.gensim\n",
    "pyLDAvis.enable_notebook()\n",
    "vis = pyLDAvis.gensim.prepare(ldamodel, corpus, dictionary)\n",
    "pyLDAvis.display(vis)"
   ]
  },
  {
   "cell_type": "markdown",
   "metadata": {},
   "source": [
    "### 4) 문서 별 토픽 분포 보기"
   ]
  },
  {
   "cell_type": "code",
   "execution_count": 111,
   "metadata": {},
   "outputs": [
    {
     "name": "stdout",
     "output_type": "stream",
     "text": [
      "0 번째 문서의 topic 비율은 [(0, 0.5988462), (1, 0.07242479), (7, 0.2787134)]\n",
      "1 번째 문서의 topic 비율은 [(0, 0.3555784), (5, 0.61364484)]\n",
      "2 번째 문서의 topic 비율은 [(0, 0.32259503), (4, 0.09963785), (6, 0.5365697)]\n",
      "3 번째 문서의 topic 비율은 [(3, 0.96249276)]\n",
      "4 번째 문서의 topic 비율은 [(0, 0.9181714)]\n",
      "5 번째 문서의 topic 비율은 [(0, 0.9526264)]\n",
      "6 번째 문서의 topic 비율은 [(3, 0.13341309), (5, 0.34385896), (6, 0.13490443), (8, 0.2916547), (9, 0.07435253)]\n",
      "7 번째 문서의 topic 비율은 [(0, 0.8941634), (9, 0.06580475)]\n",
      "8 번째 문서의 topic 비율은 [(0, 0.82597345), (6, 0.074877776), (7, 0.06413243)]\n",
      "9 번째 문서의 topic 비율은 [(0, 0.3230273), (1, 0.10138529), (3, 0.13662522), (5, 0.13003086), (6, 0.27766448)]\n"
     ]
    }
   ],
   "source": [
    "for i, topic_list in enumerate(ldamodel[corpus]):\n",
    "    if i==10:\n",
    "        break\n",
    "    print(i,'번째 문서의 topic 비율은',topic_list)"
   ]
  },
  {
   "cell_type": "code",
   "execution_count": 109,
   "metadata": {},
   "outputs": [
    {
     "data": {
      "text/html": [
       "<div>\n",
       "<style scoped>\n",
       "    .dataframe tbody tr th:only-of-type {\n",
       "        vertical-align: middle;\n",
       "    }\n",
       "\n",
       "    .dataframe tbody tr th {\n",
       "        vertical-align: top;\n",
       "    }\n",
       "\n",
       "    .dataframe thead th {\n",
       "        text-align: right;\n",
       "    }\n",
       "</style>\n",
       "<table border=\"1\" class=\"dataframe\">\n",
       "  <thead>\n",
       "    <tr style=\"text-align: right;\">\n",
       "      <th></th>\n",
       "      <th>문서 번호</th>\n",
       "      <th>가장 비중이 높은 토픽</th>\n",
       "      <th>가장 높은 토픽의 비중</th>\n",
       "      <th>각 토픽의 비중</th>\n",
       "    </tr>\n",
       "  </thead>\n",
       "  <tbody>\n",
       "    <tr>\n",
       "      <th>0</th>\n",
       "      <td>0</td>\n",
       "      <td>0.0</td>\n",
       "      <td>0.5989</td>\n",
       "      <td>[(0, 0.59888595), (1, 0.07243015), (7, 0.27866...</td>\n",
       "    </tr>\n",
       "    <tr>\n",
       "      <th>1</th>\n",
       "      <td>1</td>\n",
       "      <td>5.0</td>\n",
       "      <td>0.6136</td>\n",
       "      <td>[(0, 0.35557935), (5, 0.6136438)]</td>\n",
       "    </tr>\n",
       "    <tr>\n",
       "      <th>2</th>\n",
       "      <td>2</td>\n",
       "      <td>6.0</td>\n",
       "      <td>0.5366</td>\n",
       "      <td>[(0, 0.32259536), (4, 0.099638864), (6, 0.5365...</td>\n",
       "    </tr>\n",
       "    <tr>\n",
       "      <th>3</th>\n",
       "      <td>3</td>\n",
       "      <td>3.0</td>\n",
       "      <td>0.9625</td>\n",
       "      <td>[(3, 0.96249276)]</td>\n",
       "    </tr>\n",
       "    <tr>\n",
       "      <th>4</th>\n",
       "      <td>4</td>\n",
       "      <td>0.0</td>\n",
       "      <td>0.9182</td>\n",
       "      <td>[(0, 0.9181714)]</td>\n",
       "    </tr>\n",
       "    <tr>\n",
       "      <th>5</th>\n",
       "      <td>5</td>\n",
       "      <td>0.0</td>\n",
       "      <td>0.9526</td>\n",
       "      <td>[(0, 0.952626)]</td>\n",
       "    </tr>\n",
       "    <tr>\n",
       "      <th>6</th>\n",
       "      <td>6</td>\n",
       "      <td>5.0</td>\n",
       "      <td>0.3438</td>\n",
       "      <td>[(3, 0.13340315), (5, 0.3438459), (6, 0.134929...</td>\n",
       "    </tr>\n",
       "    <tr>\n",
       "      <th>7</th>\n",
       "      <td>7</td>\n",
       "      <td>0.0</td>\n",
       "      <td>0.8941</td>\n",
       "      <td>[(0, 0.89414394), (9, 0.06582428)]</td>\n",
       "    </tr>\n",
       "    <tr>\n",
       "      <th>8</th>\n",
       "      <td>8</td>\n",
       "      <td>0.0</td>\n",
       "      <td>0.8259</td>\n",
       "      <td>[(0, 0.82589376), (6, 0.07495206), (7, 0.06413...</td>\n",
       "    </tr>\n",
       "    <tr>\n",
       "      <th>9</th>\n",
       "      <td>9</td>\n",
       "      <td>0.0</td>\n",
       "      <td>0.3230</td>\n",
       "      <td>[(0, 0.3230433), (1, 0.101383135), (3, 0.13667...</td>\n",
       "    </tr>\n",
       "  </tbody>\n",
       "</table>\n",
       "</div>"
      ],
      "text/plain": [
       "   문서 번호  가장 비중이 높은 토픽  가장 높은 토픽의 비중  \\\n",
       "0      0           0.0        0.5989   \n",
       "1      1           5.0        0.6136   \n",
       "2      2           6.0        0.5366   \n",
       "3      3           3.0        0.9625   \n",
       "4      4           0.0        0.9182   \n",
       "5      5           0.0        0.9526   \n",
       "6      6           5.0        0.3438   \n",
       "7      7           0.0        0.8941   \n",
       "8      8           0.0        0.8259   \n",
       "9      9           0.0        0.3230   \n",
       "\n",
       "                                            각 토픽의 비중  \n",
       "0  [(0, 0.59888595), (1, 0.07243015), (7, 0.27866...  \n",
       "1                  [(0, 0.35557935), (5, 0.6136438)]  \n",
       "2  [(0, 0.32259536), (4, 0.099638864), (6, 0.5365...  \n",
       "3                                  [(3, 0.96249276)]  \n",
       "4                                   [(0, 0.9181714)]  \n",
       "5                                    [(0, 0.952626)]  \n",
       "6  [(3, 0.13340315), (5, 0.3438459), (6, 0.134929...  \n",
       "7                 [(0, 0.89414394), (9, 0.06582428)]  \n",
       "8  [(0, 0.82589376), (6, 0.07495206), (7, 0.06413...  \n",
       "9  [(0, 0.3230433), (1, 0.101383135), (3, 0.13667...  "
      ]
     },
     "execution_count": 109,
     "metadata": {},
     "output_type": "execute_result"
    }
   ],
   "source": [
    "def make_topictable_per_doc(ldamodel, corpus):\n",
    "    topic_table = pd.DataFrame()\n",
    "\n",
    "    # 몇 번째 문서인지를 의미하는 문서 번호와 해당 문서의 토픽 비중을 한 줄씩 꺼내온다.\n",
    "    for i, topic_list in enumerate(ldamodel[corpus]):\n",
    "        doc = topic_list[0] if ldamodel.per_word_topics else topic_list            \n",
    "        doc = sorted(doc, key=lambda x: (x[1]), reverse=True)\n",
    "        # 각 문서에 대해서 비중이 높은 토픽순으로 토픽을 정렬한다.\n",
    "        # EX) 정렬 전 0번 문서 : (2번 토픽, 48.5%), (8번 토픽, 25%), (10번 토픽, 5%), (12번 토픽, 21.5%), \n",
    "        # Ex) 정렬 후 0번 문서 : (2번 토픽, 48.5%), (8번 토픽, 25%), (12번 토픽, 21.5%), (10번 토픽, 5%)\n",
    "        # 48 > 25 > 21 > 5 순으로 정렬이 된 것.\n",
    "\n",
    "        # 모든 문서에 대해서 각각 아래를 수행\n",
    "        for j, (topic_num, prop_topic) in enumerate(doc): #  몇 번 토픽인지와 비중을 나눠서 저장한다.\n",
    "            if j == 0:  # 정렬을 한 상태이므로 가장 앞에 있는 것이 가장 비중이 높은 토픽\n",
    "                topic_table = topic_table.append(pd.Series([int(topic_num), round(prop_topic,4), topic_list]), ignore_index=True)\n",
    "                # 가장 비중이 높은 토픽과, 가장 비중이 높은 토픽의 비중과, 전체 토픽의 비중을 저장한다.\n",
    "            else:\n",
    "                break\n",
    "    return(topic_table)\n",
    "\n",
    "\n",
    "topictable = make_topictable_per_doc(ldamodel, corpus)\n",
    "topictable = topictable.reset_index() # 문서 번호을 의미하는 열(column)로 사용하기 위해서 인덱스 열을 하나 더 만든다.\n",
    "topictable.columns = ['문서 번호', '가장 비중이 높은 토픽', '가장 높은 토픽의 비중', '각 토픽의 비중']\n",
    "topictable[:10]"
   ]
  },
  {
   "cell_type": "code",
   "execution_count": null,
   "metadata": {},
   "outputs": [],
   "source": []
  },
  {
   "cell_type": "code",
   "execution_count": null,
   "metadata": {},
   "outputs": [],
   "source": []
  }
 ],
 "metadata": {
  "kernelspec": {
   "display_name": "Python 3",
   "language": "python",
   "name": "python3"
  },
  "language_info": {
   "codemirror_mode": {
    "name": "ipython",
    "version": 3
   },
   "file_extension": ".py",
   "mimetype": "text/x-python",
   "name": "python",
   "nbconvert_exporter": "python",
   "pygments_lexer": "ipython3",
   "version": "3.6.8"
  }
 },
 "nbformat": 4,
 "nbformat_minor": 2
}
