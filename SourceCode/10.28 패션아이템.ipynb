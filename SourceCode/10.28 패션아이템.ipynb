{
 "cells": [
  {
   "cell_type": "code",
   "execution_count": 1,
   "metadata": {},
   "outputs": [],
   "source": [
    "import pandas as pd"
   ]
  },
  {
   "cell_type": "code",
   "execution_count": 2,
   "metadata": {},
   "outputs": [
    {
     "data": {
      "text/html": [
       "<div>\n",
       "<style scoped>\n",
       "    .dataframe tbody tr th:only-of-type {\n",
       "        vertical-align: middle;\n",
       "    }\n",
       "\n",
       "    .dataframe tbody tr th {\n",
       "        vertical-align: top;\n",
       "    }\n",
       "\n",
       "    .dataframe thead th {\n",
       "        text-align: right;\n",
       "    }\n",
       "</style>\n",
       "<table border=\"1\" class=\"dataframe\">\n",
       "  <thead>\n",
       "    <tr style=\"text-align: right;\">\n",
       "      <th></th>\n",
       "      <th>text</th>\n",
       "    </tr>\n",
       "  </thead>\n",
       "  <tbody>\n",
       "    <tr>\n",
       "      <th>0</th>\n",
       "      <td>마이 셔링 앞리본 블라우스\\t더욱 사랑스럽게 만들어줘요~ 셔링 앞리본 블라우스에 스...</td>\n",
       "    </tr>\n",
       "    <tr>\n",
       "      <th>1</th>\n",
       "      <td>피치리본 블라우스&amp;amp; 뉴 피치 풀스커트 - 에흐드쥬 (aire de...\\tK...</td>\n",
       "    </tr>\n",
       "    <tr>\n",
       "      <th>2</th>\n",
       "      <td>레븐리본 블라우스~ ♡\\t더 자세히 보기</td>\n",
       "    </tr>\n",
       "    <tr>\n",
       "      <th>3</th>\n",
       "      <td>번개장터 호호네 프릴 카라블라우스\\t폴리 #프릴블라우스#카라블라우스#레이스블라우스#...</td>\n",
       "    </tr>\n",
       "    <tr>\n",
       "      <th>4</th>\n",
       "      <td>[헬로마켓] A라인블라우스15,000원\\t특성상 교환및 반품이 불가하오니 신중하게 ...</td>\n",
       "    </tr>\n",
       "    <tr>\n",
       "      <th>5</th>\n",
       "      <td>[쁘띠지우]리나 옷만들기\\t레이스로 카라를 달고리본으로 소매를 만든 '화이트 퓨어블...</td>\n",
       "    </tr>\n",
       "    <tr>\n",
       "      <th>6</th>\n",
       "      <td>[오늘의코디] 빨간블라우스코디\\t빨간리본블라우스에 검정빨강체크무늬치마를 입고 검정숄...</td>\n",
       "    </tr>\n",
       "    <tr>\n",
       "      <th>7</th>\n",
       "      <td>아더띵즈_랄라이어머프\\t: : + #랄라이어머프_진베이지 #리본블라우스_바이올렛 #...</td>\n",
       "    </tr>\n",
       "    <tr>\n",
       "      <th>8</th>\n",
       "      <td>아더띵즈_하이디스커트_블랙\\t#허그니트_베이지 #하이디스커트_블랙 #캔디비니_베이지...</td>\n",
       "    </tr>\n",
       "    <tr>\n",
       "      <th>9</th>\n",
       "      <td>띠어리 캐시미어 오버사이즈 100%스카프153달러부터...\\tblog.naver.c...</td>\n",
       "    </tr>\n",
       "  </tbody>\n",
       "</table>\n",
       "</div>"
      ],
      "text/plain": [
       "                                                text\n",
       "0  마이 셔링 앞리본 블라우스\\t더욱 사랑스럽게 만들어줘요~ 셔링 앞리본 블라우스에 스...\n",
       "1  피치리본 블라우스&amp; 뉴 피치 풀스커트 - 에흐드쥬 (aire de...\\tK...\n",
       "2                             레븐리본 블라우스~ ♡\\t더 자세히 보기\n",
       "3  번개장터 호호네 프릴 카라블라우스\\t폴리 #프릴블라우스#카라블라우스#레이스블라우스#...\n",
       "4  [헬로마켓] A라인블라우스15,000원\\t특성상 교환및 반품이 불가하오니 신중하게 ...\n",
       "5  [쁘띠지우]리나 옷만들기\\t레이스로 카라를 달고리본으로 소매를 만든 '화이트 퓨어블...\n",
       "6  [오늘의코디] 빨간블라우스코디\\t빨간리본블라우스에 검정빨강체크무늬치마를 입고 검정숄...\n",
       "7  아더띵즈_랄라이어머프\\t: : + #랄라이어머프_진베이지 #리본블라우스_바이올렛 #...\n",
       "8  아더띵즈_하이디스커트_블랙\\t#허그니트_베이지 #하이디스커트_블랙 #캔디비니_베이지...\n",
       "9  띠어리 캐시미어 오버사이즈 100%스카프153달러부터...\\tblog.naver.c..."
      ]
     },
     "execution_count": 2,
     "metadata": {},
     "output_type": "execute_result"
    }
   ],
   "source": [
    "# original = pd.read_(\"../BLOUSE_TIED_2019.txt\", header=None)\n",
    "original  = pd.read_csv('../BLOUSE_TIED_2019.txt', sep = \"\\n\", engine='python', encoding = \"utf8\")\n",
    "df = original.dropna(axis = 0).reset_index()\n",
    "del(df['index'])\n",
    "df.columns = ['text']\n",
    "df.head(10)"
   ]
  },
  {
   "cell_type": "code",
   "execution_count": 3,
   "metadata": {},
   "outputs": [],
   "source": [
    "from konlpy.tag import Kkma\n",
    "from collections import Counter\n",
    "kkma = Kkma()\n",
    "\"\"\"\n",
    "@ REFERENCE: http://kkma.snu.ac.kr/documents/?doc=postag\n",
    "NNB: 일반 의존 명사\n",
    "NNM: 단위 의존 명사\n",
    "VXV: 보조 동사\n",
    "VXA: 보조 형용사\n",
    "MDT: 일반 관형사\n",
    "MDN: 수 관형사\n",
    "MAG: 일반 부사\n",
    "MAC: 접속 부사\n",
    "IC: 감탄사\n",
    "JKS: 주격 조사\n",
    "JKC: 보격 조사\n",
    "JKG: 관형격 조사\n",
    "JKO: 목적격 조사\n",
    "JKM: 부사격 조사\n",
    "JKI: 호격 조사\n",
    "JKQ: 인용격 조사\n",
    "JX: 보조사\n",
    "JC: 접속 조사\n",
    "EPH: 존칭 선어말 어미\n",
    "EPT: 시제 선어말 어미\n",
    "EPP: 공손 선어말 어미\n",
    "EFN: 평서형 종결 어미\n",
    "EFQ: 의문형 종결 어미\n",
    "EFO: 명령형 종결 어미\n",
    "EFA: 청유형 종결 어미\n",
    "EFI: 감탄형 종결 어미\n",
    "EFR: 존칭형 종결 어미\n",
    "ECE: 대등 연결 어미\n",
    "ECD: 의존적 연결 어미\n",
    "ECS: 보조적 연결 어미\n",
    "ETN: 명사형 전성 어미\n",
    "ETD: 관형형 전성 어미\n",
    "XPN: 체언 접두사\n",
    "XPV: 용언 접두사\n",
    "XSN: 명사 파생 접미사\n",
    "XSV: 동사 파생 접미사\n",
    "XSA: 형용사 파생 접미사\n",
    "SF: 마침표, 물음표, 느낌표\n",
    "SP: 쉼표, 가운뎃점, 콜론, 빗금\n",
    "SS: 따옴표, 괄호표, 줄표\n",
    "SE: 줄임표\n",
    "SO: 붙임표(물결, 숨김, 빠짐)\n",
    "SW: 기타기호(논리수학기호, 화폐기호)\n",
    "\"\"\"\n",
    "\n",
    "POS_STOPWORD = ['NNB', 'NNM', 'VXV', 'VXA', 'MDT', 'MDN', 'MAG', 'MAC', \n",
    "                'IC', 'JKS', 'JKC', 'JKG', 'JKO', 'JKM', 'JKI', 'JKQ', \n",
    "                'JX', 'JC', 'EPH', 'EPT', 'EPP', 'EFN', 'EFQ', 'EFO', \n",
    "                'EFA', 'EFI', 'EFR', 'ECE', 'ECD', 'ECS', 'ETN', 'ETD', \n",
    "                'XPN', 'XPV', 'XSN', 'XSV', 'XSA', 'SF', 'SP', 'SS', 'SE', \n",
    "                'SO', 'SW']\n",
    "\n",
    "POS_PASSWORD = ['NNG', 'NNP', 'NP', 'UN', 'OL', 'OH']\n",
    "\n",
    "def preprocess(string):\n",
    "    rst = \"\"\n",
    "    try:\n",
    "        vocab_pos = kkma.pos(string)\n",
    "        for key, tag in vocab_pos:\n",
    "            # if not(tag in POS_STOPWORD):\n",
    "            if tag in POS_PASSWORD:\n",
    "                rst = rst + key + \" \"\n",
    "        return rst\n",
    "    \n",
    "    except: return None\n",
    "    \n",
    "    "
   ]
  },
  {
   "cell_type": "code",
   "execution_count": 4,
   "metadata": {},
   "outputs": [
    {
     "data": {
      "text/html": [
       "<div>\n",
       "<style scoped>\n",
       "    .dataframe tbody tr th:only-of-type {\n",
       "        vertical-align: middle;\n",
       "    }\n",
       "\n",
       "    .dataframe tbody tr th {\n",
       "        vertical-align: top;\n",
       "    }\n",
       "\n",
       "    .dataframe thead th {\n",
       "        text-align: right;\n",
       "    }\n",
       "</style>\n",
       "<table border=\"1\" class=\"dataframe\">\n",
       "  <thead>\n",
       "    <tr style=\"text-align: right;\">\n",
       "      <th></th>\n",
       "      <th>text</th>\n",
       "    </tr>\n",
       "  </thead>\n",
       "  <tbody>\n",
       "    <tr>\n",
       "      <th>0</th>\n",
       "      <td>마이 셔링 앞 리본 블라우스 사랑 셔링 앞 리본 블라우스 스커트 스키 니 매치 결혼...</td>\n",
       "    </tr>\n",
       "    <tr>\n",
       "      <th>1</th>\n",
       "      <td>피치 리본 블라우스 amp 뉴 피치 스커트 드쥬 aire de KBS 내편 방송 배...</td>\n",
       "    </tr>\n",
       "    <tr>\n",
       "      <th>2</th>\n",
       "      <td>레 리본 블라우스</td>\n",
       "    </tr>\n",
       "    <tr>\n",
       "      <th>3</th>\n",
       "      <td>번개 장터 프릴 블라우스 폴리 프릴 블라우스 블라우스 레이스 블라우스 리본 블라우스...</td>\n",
       "    </tr>\n",
       "    <tr>\n",
       "      <th>4</th>\n",
       "      <td>로 마켓 A 라인 블라우스 특성 교환 반품 불가 하오 신중 선택 주세 로 마켓 구경...</td>\n",
       "    </tr>\n",
       "  </tbody>\n",
       "</table>\n",
       "</div>"
      ],
      "text/plain": [
       "                                                text\n",
       "0  마이 셔링 앞 리본 블라우스 사랑 셔링 앞 리본 블라우스 스커트 스키 니 매치 결혼...\n",
       "1  피치 리본 블라우스 amp 뉴 피치 스커트 드쥬 aire de KBS 내편 방송 배...\n",
       "2                                         레 리본 블라우스 \n",
       "3  번개 장터 프릴 블라우스 폴리 프릴 블라우스 블라우스 레이스 블라우스 리본 블라우스...\n",
       "4  로 마켓 A 라인 블라우스 특성 교환 반품 불가 하오 신중 선택 주세 로 마켓 구경..."
      ]
     },
     "execution_count": 4,
     "metadata": {},
     "output_type": "execute_result"
    }
   ],
   "source": [
    "df2 = pd.DataFrame()\n",
    "for i in range(len(df)):\n",
    "    df['text'][i] = preprocess(df['text'][i])\n",
    "df.head()\n"
   ]
  },
  {
   "cell_type": "code",
   "execution_count": 5,
   "metadata": {},
   "outputs": [
    {
     "data": {
      "text/plain": [
       "'마이 셔링 앞 리본 블라우스 사랑 셔링 앞 리본 블라우스 스커트 스키 니 매치 결혼 신 하객 룩 완성 오빠 날 리본 블라우스 결혼식 하객 룩 '"
      ]
     },
     "execution_count": 5,
     "metadata": {},
     "output_type": "execute_result"
    }
   ],
   "source": [
    "df['text'][0]"
   ]
  },
  {
   "cell_type": "code",
   "execution_count": 6,
   "metadata": {},
   "outputs": [
    {
     "ename": "AttributeError",
     "evalue": "'NoneType' object has no attribute 'split'",
     "output_type": "error",
     "traceback": [
      "\u001b[1;31m---------------------------------------------------------------------------\u001b[0m",
      "\u001b[1;31mAttributeError\u001b[0m                            Traceback (most recent call last)",
      "\u001b[1;32m<ipython-input-6-0a75da399436>\u001b[0m in \u001b[0;36m<module>\u001b[1;34m\u001b[0m\n\u001b[0;32m      1\u001b[0m \u001b[0mtokenized_doc\u001b[0m \u001b[1;33m=\u001b[0m \u001b[1;33m[\u001b[0m\u001b[1;33m]\u001b[0m\u001b[1;33m\u001b[0m\u001b[1;33m\u001b[0m\u001b[0m\n\u001b[0;32m      2\u001b[0m \u001b[1;32mfor\u001b[0m \u001b[0mi\u001b[0m \u001b[1;32min\u001b[0m \u001b[0mrange\u001b[0m\u001b[1;33m(\u001b[0m\u001b[0mlen\u001b[0m\u001b[1;33m(\u001b[0m\u001b[0mdf\u001b[0m\u001b[1;33m)\u001b[0m\u001b[1;33m)\u001b[0m\u001b[1;33m:\u001b[0m\u001b[1;33m\u001b[0m\u001b[1;33m\u001b[0m\u001b[0m\n\u001b[1;32m----> 3\u001b[1;33m     \u001b[0mtokenized_doc\u001b[0m\u001b[1;33m.\u001b[0m\u001b[0mappend\u001b[0m\u001b[1;33m(\u001b[0m\u001b[1;33m[\u001b[0m\u001b[0mx\u001b[0m \u001b[1;32mfor\u001b[0m \u001b[0mx\u001b[0m \u001b[1;32min\u001b[0m \u001b[0mdf\u001b[0m\u001b[1;33m[\u001b[0m\u001b[1;34m'text'\u001b[0m\u001b[1;33m]\u001b[0m\u001b[1;33m[\u001b[0m\u001b[0mi\u001b[0m\u001b[1;33m]\u001b[0m\u001b[1;33m.\u001b[0m\u001b[0msplit\u001b[0m\u001b[1;33m(\u001b[0m\u001b[1;33m)\u001b[0m\u001b[1;33m]\u001b[0m\u001b[1;33m)\u001b[0m\u001b[1;33m\u001b[0m\u001b[1;33m\u001b[0m\u001b[0m\n\u001b[0m\u001b[0;32m      4\u001b[0m \u001b[1;33m\u001b[0m\u001b[0m\n\u001b[0;32m      5\u001b[0m \u001b[0mtokenized_doc\u001b[0m\u001b[1;33m[\u001b[0m\u001b[1;36m0\u001b[0m\u001b[1;33m]\u001b[0m\u001b[1;33m\u001b[0m\u001b[1;33m\u001b[0m\u001b[0m\n",
      "\u001b[1;31mAttributeError\u001b[0m: 'NoneType' object has no attribute 'split'"
     ]
    }
   ],
   "source": [
    "tokenized_doc = []\n",
    "for i in range(len(df)):\n",
    "    tokenized_doc.append([x for x in df['text'][i].split()])\n",
    "    \n",
    "tokenized_doc[0]"
   ]
  },
  {
   "cell_type": "code",
   "execution_count": null,
   "metadata": {},
   "outputs": [],
   "source": [
    "from gensim import corpora\n",
    "dictionary = corpora.Dictionary(tokenized_doc)\n",
    "corpus = [dictionary.doc2bow(text) for text in tokenized_doc]\n",
    "print(corpus[0]) # 수행된 결과에서 두번째 뉴스 출력. 첫번째 문서의 인덱스는 0"
   ]
  },
  {
   "cell_type": "code",
   "execution_count": null,
   "metadata": {},
   "outputs": [],
   "source": [
    "dictionary[5]"
   ]
  },
  {
   "cell_type": "code",
   "execution_count": null,
   "metadata": {},
   "outputs": [],
   "source": [
    "len(dictionary)"
   ]
  },
  {
   "cell_type": "code",
   "execution_count": null,
   "metadata": {},
   "outputs": [],
   "source": [
    "import gensim\n",
    "NUM_TOPICS = 10 # 10개의 토픽, k=0\n",
    "ldamodel = gensim.models.ldamodel.LdaModel(corpus, num_topics = NUM_TOPICS, id2word=dictionary, passes=15)\n",
    "topics = ldamodel.print_topics(num_words=4)\n",
    "for topic in topics:\n",
    "    print(topic)"
   ]
  },
  {
   "cell_type": "code",
   "execution_count": null,
   "metadata": {},
   "outputs": [],
   "source": [
    "print(ldamodel.print_topics())"
   ]
  },
  {
   "cell_type": "code",
   "execution_count": null,
   "metadata": {},
   "outputs": [],
   "source": [
    "ldamodel.print_topics()"
   ]
  },
  {
   "cell_type": "code",
   "execution_count": null,
   "metadata": {},
   "outputs": [],
   "source": [
    "import pyLDAvis.gensim\n",
    "pyLDAvis.enable_notebook()\n",
    "vis = pyLDAvis.gensim.prepare(ldamodel, corpus, dictionary)\n",
    "pyLDAvis.display(vis)"
   ]
  },
  {
   "cell_type": "code",
   "execution_count": null,
   "metadata": {},
   "outputs": [],
   "source": [
    "for i, topic_list in enumerate(ldamodel[corpus]):\n",
    "    if i==10:\n",
    "        break\n",
    "    print(i,'번째 문서의 topic 비율은',topic_list)"
   ]
  },
  {
   "cell_type": "code",
   "execution_count": null,
   "metadata": {},
   "outputs": [],
   "source": [
    "def make_topictable_per_doc(ldamodel, corpus):\n",
    "    topic_table = pd.DataFrame()\n",
    "\n",
    "    # 몇 번째 문서인지를 의미하는 문서 번호와 해당 문서의 토픽 비중을 한 줄씩 꺼내온다.\n",
    "    for i, topic_list in enumerate(ldamodel[corpus]):\n",
    "        doc = topic_list[0] if ldamodel.per_word_topics else topic_list            \n",
    "        doc = sorted(doc, key=lambda x: (x[1]), reverse=True)\n",
    "        # 각 문서에 대해서 비중이 높은 토픽순으로 토픽을 정렬한다.\n",
    "        # EX) 정렬 전 0번 문서 : (2번 토픽, 48.5%), (8번 토픽, 25%), (10번 토픽, 5%), (12번 토픽, 21.5%), \n",
    "        # Ex) 정렬 후 0번 문서 : (2번 토픽, 48.5%), (8번 토픽, 25%), (12번 토픽, 21.5%), (10번 토픽, 5%)\n",
    "        # 48 > 25 > 21 > 5 순으로 정렬이 된 것.\n",
    "\n",
    "        # 모든 문서에 대해서 각각 아래를 수행\n",
    "        for j, (topic_num, prop_topic) in enumerate(doc): #  몇 번 토픽인지와 비중을 나눠서 저장한다.\n",
    "            if j == 0:  # 정렬을 한 상태이므로 가장 앞에 있는 것이 가장 비중이 높은 토픽\n",
    "                topic_table = topic_table.append(pd.Series([int(topic_num), round(prop_topic,4), topic_list]), ignore_index=True)\n",
    "                # 가장 비중이 높은 토픽과, 가장 비중이 높은 토픽의 비중과, 전체 토픽의 비중을 저장한다.\n",
    "            else:\n",
    "                break\n",
    "    return(topic_table)\n",
    "\n",
    "\n",
    "topictable = make_topictable_per_doc(ldamodel, corpus)\n",
    "topictable = topictable.reset_index() # 문서 번호을 의미하는 열(column)로 사용하기 위해서 인덱스 열을 하나 더 만든다.\n",
    "topictable.columns = ['문서 번호', '가장 비중이 높은 토픽', '가장 높은 토픽의 비중', '각 토픽의 비중']\n",
    "topictable[:10]"
   ]
  },
  {
   "cell_type": "code",
   "execution_count": null,
   "metadata": {},
   "outputs": [],
   "source": []
  }
 ],
 "metadata": {
  "kernelspec": {
   "display_name": "Python 3",
   "language": "python",
   "name": "python3"
  },
  "language_info": {
   "codemirror_mode": {
    "name": "ipython",
    "version": 3
   },
   "file_extension": ".py",
   "mimetype": "text/x-python",
   "name": "python",
   "nbconvert_exporter": "python",
   "pygments_lexer": "ipython3",
   "version": "3.6.8"
  }
 },
 "nbformat": 4,
 "nbformat_minor": 2
}
