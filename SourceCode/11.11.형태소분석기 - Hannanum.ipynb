{
 "cells": [
  {
   "cell_type": "code",
   "execution_count": 1,
   "metadata": {},
   "outputs": [],
   "source": [
    "import pandas as pd\n",
    "original  = pd.read_csv('../TOP_ZIPUP_2019.txt', sep = \"\\n\", engine='python', encoding = \"utf8\")\n",
    "df = original.dropna(axis = 0).reset_index()\n",
    "del(df['index'])\n",
    "df.columns = ['text']\n",
    "\n",
    "import time\n",
    "Morph = []\n",
    "run_time = []"
   ]
  },
  {
   "cell_type": "code",
   "execution_count": 2,
   "metadata": {},
   "outputs": [
    {
     "data": {
      "text/html": [
       "<div>\n",
       "<style scoped>\n",
       "    .dataframe tbody tr th:only-of-type {\n",
       "        vertical-align: middle;\n",
       "    }\n",
       "\n",
       "    .dataframe tbody tr th {\n",
       "        vertical-align: top;\n",
       "    }\n",
       "\n",
       "    .dataframe thead th {\n",
       "        text-align: right;\n",
       "    }\n",
       "</style>\n",
       "<table border=\"1\" class=\"dataframe\">\n",
       "  <thead>\n",
       "    <tr style=\"text-align: right;\">\n",
       "      <th></th>\n",
       "      <th>text</th>\n",
       "    </tr>\n",
       "  </thead>\n",
       "  <tbody>\n",
       "    <tr>\n",
       "      <th>0</th>\n",
       "      <td>나이키 배색반집업후리스 봉봉빈티지 ♥제품명: 나이키 배색반집업후리스 ​ ♥가격: 3...</td>\n",
       "    </tr>\n",
       "    <tr>\n",
       "      <th>1</th>\n",
       "      <td>어커버 하프집업후리스 HALF ZIP UP SILKY FLEECE HALF ZIP ...</td>\n",
       "    </tr>\n",
       "    <tr>\n",
       "      <th>2</th>\n",
       "      <td>[18DAY] 남미배낭여행 (볼리비아 라파즈 시간반 이동 후 라파즈 도착 도둑 아입...</td>\n",
       "    </tr>\n",
       "    <tr>\n",
       "      <th>3</th>\n",
       "      <td>Made U 스윗서브 후리스반집업후드-뽀글 양털 후드티 리 것 상품명 Made U ...</td>\n",
       "    </tr>\n",
       "    <tr>\n",
       "      <th>4</th>\n",
       "      <td>choiroom 터틀 원피스 니트 세트 뒷면 초이룸 베스트상품 함께보 [무배]반폴라...</td>\n",
       "    </tr>\n",
       "  </tbody>\n",
       "</table>\n",
       "</div>"
      ],
      "text/plain": [
       "                                                text\n",
       "0  나이키 배색반집업후리스 봉봉빈티지 ♥제품명: 나이키 배색반집업후리스 ​ ♥가격: 3...\n",
       "1  어커버 하프집업후리스 HALF ZIP UP SILKY FLEECE HALF ZIP ...\n",
       "2  [18DAY] 남미배낭여행 (볼리비아 라파즈 시간반 이동 후 라파즈 도착 도둑 아입...\n",
       "3  Made U 스윗서브 후리스반집업후드-뽀글 양털 후드티 리 것 상품명 Made U ...\n",
       "4  choiroom 터틀 원피스 니트 세트 뒷면 초이룸 베스트상품 함께보 [무배]반폴라..."
      ]
     },
     "execution_count": 2,
     "metadata": {},
     "output_type": "execute_result"
    }
   ],
   "source": [
    "from konlpy.tag import Hannanum\n",
    "hannanum = Hannanum()\n",
    "\n",
    "POS_PASSWORD4 = ['F', 'N']\n",
    "\"\"\"\n",
    "@ REFERENCE: https://www.sketchengine.eu/wp-content/uploads/Original-HanNanum-manual.pdf\n",
    "F: 외국어\n",
    "N: 체언\n",
    "\"\"\"\n",
    "\n",
    "def preprocess4(string):\n",
    "    rst = \"\"\n",
    "    try:\n",
    "        vocab_pos = hannanum.pos(string)\n",
    "        for key, tag in vocab_pos:\n",
    "            # if not(tag in POS_STOPWORD):\n",
    "            if tag in POS_PASSWORD4:\n",
    "                rst = rst + key + \" \"\n",
    "        return rst\n",
    "    \n",
    "    except: return None\n",
    "\n",
    "# https://konlpy-ko.readthedocs.io/ko/v0.4.3/api/konlpy.tag/\n",
    "df_Hannanum = pd.DataFrame()\n",
    "start = time.time()\n",
    "for i in range(len(df)):\n",
    "    # get_morphes_by_tags(): 입력 문장에서 주어진 품사들만 추출합니다.\n",
    "    df_Hannanum = df_Hannanum.append({'text' : preprocess4(df['text'][i])}, \n",
    "                             ignore_index=True)\n",
    "Morph.append('Hannanum')\n",
    "run_time.append(time.time()-start)\n",
    "df_Hannanum.head()"
   ]
  },
  {
   "cell_type": "code",
   "execution_count": 3,
   "metadata": {},
   "outputs": [
    {
     "data": {
      "text/plain": [
       "[13424.830045700073]"
      ]
     },
     "execution_count": 3,
     "metadata": {},
     "output_type": "execute_result"
    }
   ],
   "source": [
    "run_time"
   ]
  },
  {
   "cell_type": "code",
   "execution_count": 4,
   "metadata": {},
   "outputs": [],
   "source": [
    "df_Hannanum.to_csv(\"df_Hannanum.csv\", header=False, index=False)"
   ]
  },
  {
   "cell_type": "code",
   "execution_count": null,
   "metadata": {},
   "outputs": [],
   "source": []
  }
 ],
 "metadata": {
  "kernelspec": {
   "display_name": "Python 3",
   "language": "python",
   "name": "python3"
  },
  "language_info": {
   "codemirror_mode": {
    "name": "ipython",
    "version": 3
   },
   "file_extension": ".py",
   "mimetype": "text/x-python",
   "name": "python",
   "nbconvert_exporter": "python",
   "pygments_lexer": "ipython3",
   "version": "3.6.8"
  }
 },
 "nbformat": 4,
 "nbformat_minor": 2
}
