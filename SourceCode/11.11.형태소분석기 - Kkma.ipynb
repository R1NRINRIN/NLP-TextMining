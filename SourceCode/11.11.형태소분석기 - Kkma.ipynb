{
 "cells": [
  {
   "cell_type": "code",
   "execution_count": 1,
   "metadata": {},
   "outputs": [],
   "source": [
    "import pandas as pd\n",
    "original  = pd.read_csv('../TOP_ZIPUP_2019.txt', sep = \"\\n\", engine='python', encoding = \"utf8\")\n",
    "df = original.dropna(axis = 0).reset_index()\n",
    "del(df['index'])\n",
    "df.columns = ['text']\n",
    "\n",
    "import time\n",
    "Morph = []\n",
    "run_time = []"
   ]
  },
  {
   "cell_type": "code",
   "execution_count": 2,
   "metadata": {},
   "outputs": [
    {
     "data": {
      "text/html": [
       "<div>\n",
       "<style scoped>\n",
       "    .dataframe tbody tr th:only-of-type {\n",
       "        vertical-align: middle;\n",
       "    }\n",
       "\n",
       "    .dataframe tbody tr th {\n",
       "        vertical-align: top;\n",
       "    }\n",
       "\n",
       "    .dataframe thead th {\n",
       "        text-align: right;\n",
       "    }\n",
       "</style>\n",
       "<table border=\"1\" class=\"dataframe\">\n",
       "  <thead>\n",
       "    <tr style=\"text-align: right;\">\n",
       "      <th></th>\n",
       "      <th>text</th>\n",
       "    </tr>\n",
       "  </thead>\n",
       "  <tbody>\n",
       "    <tr>\n",
       "      <th>0</th>\n",
       "      <td>나이키 배색 반집 업 후 리스 봉 봉 빈티지 제품명 나이키 배색 반집 업 후 리스 ...</td>\n",
       "    </tr>\n",
       "    <tr>\n",
       "      <th>1</th>\n",
       "      <td>커버 하프 집 업 후 리스 HALF ZIP UP SILKY FLEECE HALF Z...</td>\n",
       "    </tr>\n",
       "    <tr>\n",
       "      <th>2</th>\n",
       "      <td>DAY 남미 배낭여행 볼 리비아 라 파 즈 데스 로드 리 리 야경 라 파 즈 시간 ...</td>\n",
       "    </tr>\n",
       "    <tr>\n",
       "      <th>3</th>\n",
       "      <td>Made U 스윗 서브 후 리스 반집 업 후드 양털 후드 티 털 상품명 Made U...</td>\n",
       "    </tr>\n",
       "    <tr>\n",
       "      <th>4</th>\n",
       "      <td>choiroom 터틀 골지 원피스 니트 세트 뒷면 이룸 베스트 상품 보기 무 배 반...</td>\n",
       "    </tr>\n",
       "  </tbody>\n",
       "</table>\n",
       "</div>"
      ],
      "text/plain": [
       "                                                text\n",
       "0  나이키 배색 반집 업 후 리스 봉 봉 빈티지 제품명 나이키 배색 반집 업 후 리스 ...\n",
       "1  커버 하프 집 업 후 리스 HALF ZIP UP SILKY FLEECE HALF Z...\n",
       "2  DAY 남미 배낭여행 볼 리비아 라 파 즈 데스 로드 리 리 야경 라 파 즈 시간 ...\n",
       "3  Made U 스윗 서브 후 리스 반집 업 후드 양털 후드 티 털 상품명 Made U...\n",
       "4  choiroom 터틀 골지 원피스 니트 세트 뒷면 이룸 베스트 상품 보기 무 배 반..."
      ]
     },
     "execution_count": 2,
     "metadata": {},
     "output_type": "execute_result"
    }
   ],
   "source": [
    "from konlpy.tag import Kkma\n",
    "from collections import Counter\n",
    "kkma = Kkma()\n",
    "POS_PASSWORD1 = ['NNG', 'NNP', 'NP', 'UN', 'OL', 'OH']\n",
    "\"\"\"\n",
    "@ REFERENCE: http://kkma.snu.ac.kr/documents/?doc=postag\n",
    "NNG: 보통 명사\n",
    "NNP: 고유 명사\n",
    "NP: 대명사\n",
    "UN: 명사추정범주\n",
    "OL: 외국어\n",
    "OH: 한자\n",
    "\"\"\"\n",
    "\n",
    "def preprocess(string):\n",
    "    rst = \"\"\n",
    "    try:\n",
    "        vocab_pos = kkma.pos(string)\n",
    "        for key, tag in vocab_pos:\n",
    "            # if not(tag in POS_STOPWORD):\n",
    "            if tag in POS_PASSWORD1:\n",
    "                rst = rst + key + \" \"\n",
    "        return rst\n",
    "    \n",
    "    except: return None\n",
    "    \n",
    "    \n",
    "df_Kkma = pd.DataFrame()\n",
    "start = time.time()\n",
    "for i in range(len(df)):\n",
    "    df_Kkma = df_Kkma.append({'text' : preprocess(df['text'][i])}, \n",
    "                             ignore_index=True)\n",
    "Morph.append('Kkma')\n",
    "run_time.append(time.time()-start)\n",
    "df_Kkma.head()"
   ]
  },
  {
   "cell_type": "code",
   "execution_count": 3,
   "metadata": {},
   "outputs": [
    {
     "data": {
      "text/plain": [
       "[18989.071476221085]"
      ]
     },
     "execution_count": 3,
     "metadata": {},
     "output_type": "execute_result"
    }
   ],
   "source": [
    "run_time"
   ]
  },
  {
   "cell_type": "code",
   "execution_count": 4,
   "metadata": {},
   "outputs": [],
   "source": [
    "df_Kkma.to_csv(\"df_Kkma.csv\", header=False, index=False)"
   ]
  },
  {
   "cell_type": "code",
   "execution_count": null,
   "metadata": {},
   "outputs": [],
   "source": []
  }
 ],
 "metadata": {
  "kernelspec": {
   "display_name": "Python 3",
   "language": "python",
   "name": "python3"
  },
  "language_info": {
   "codemirror_mode": {
    "name": "ipython",
    "version": 3
   },
   "file_extension": ".py",
   "mimetype": "text/x-python",
   "name": "python",
   "nbconvert_exporter": "python",
   "pygments_lexer": "ipython3",
   "version": "3.6.8"
  }
 },
 "nbformat": 4,
 "nbformat_minor": 2
}
