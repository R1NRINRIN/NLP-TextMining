{
 "cells": [
  {
   "cell_type": "code",
   "execution_count": 1,
   "metadata": {},
   "outputs": [],
   "source": [
    "import pandas as pd\n",
    "original  = pd.read_csv('../TOP_ZIPUP_2019.txt', sep = \"\\n\", engine='python', encoding = \"utf8\")\n",
    "df = original.dropna(axis = 0).reset_index()\n",
    "del(df['index'])\n",
    "df.columns = ['text']\n",
    "\n",
    "import time\n",
    "Morph = []\n",
    "run_time = []"
   ]
  },
  {
   "cell_type": "code",
   "execution_count": 2,
   "metadata": {},
   "outputs": [
    {
     "data": {
      "text/html": [
       "<div>\n",
       "<style scoped>\n",
       "    .dataframe tbody tr th:only-of-type {\n",
       "        vertical-align: middle;\n",
       "    }\n",
       "\n",
       "    .dataframe tbody tr th {\n",
       "        vertical-align: top;\n",
       "    }\n",
       "\n",
       "    .dataframe thead th {\n",
       "        text-align: right;\n",
       "    }\n",
       "</style>\n",
       "<table border=\"1\" class=\"dataframe\">\n",
       "  <thead>\n",
       "    <tr style=\"text-align: right;\">\n",
       "      <th></th>\n",
       "      <th>text</th>\n",
       "    </tr>\n",
       "  </thead>\n",
       "  <tbody>\n",
       "    <tr>\n",
       "      <th>0</th>\n",
       "      <td>나이키</td>\n",
       "    </tr>\n",
       "    <tr>\n",
       "      <th>1</th>\n",
       "      <td>어</td>\n",
       "    </tr>\n",
       "    <tr>\n",
       "      <th>2</th>\n",
       "      <td></td>\n",
       "    </tr>\n",
       "    <tr>\n",
       "      <th>3</th>\n",
       "      <td>Made</td>\n",
       "    </tr>\n",
       "    <tr>\n",
       "      <th>4</th>\n",
       "      <td></td>\n",
       "    </tr>\n",
       "  </tbody>\n",
       "</table>\n",
       "</div>"
      ],
      "text/plain": [
       "    text\n",
       "0   나이키 \n",
       "1     어 \n",
       "2       \n",
       "3  Made \n",
       "4       "
      ]
     },
     "execution_count": 2,
     "metadata": {},
     "output_type": "execute_result"
    }
   ],
   "source": [
    "# PyKomoran 불러오기\n",
    "# from PyKomoran import *\n",
    "from konlpy.tag import Komoran\n",
    "\n",
    "# Komoran 객체 생성\n",
    "komoran = Komoran()\n",
    "\n",
    "POS_PASSWORD2 = ['NNG', 'NNP', 'NP', 'SL', 'SH', 'NF']\n",
    "\"\"\"\n",
    "@ REFERENCE: https://komorandocs.readthedocs.io/ko/latest/firststep/postypes.html\n",
    "NNG: 일반명사\n",
    "NNP: 고유명사\n",
    "NP: 대명사\n",
    "SL: 외국어\n",
    "SH: 한자\n",
    "NF: 명사추정범주\n",
    "\"\"\"\n",
    "def preprocess2(string):\n",
    "    rst = \"\"\n",
    "    try:\n",
    "        vocab_pos = komoran.pos(string)\n",
    "        for key, tag in vocab_pos:\n",
    "            if tag in POS_PASSWORD2:\n",
    "                rst = rst + key + \" \"\n",
    "            return rst\n",
    "    except: return None\n",
    "\n",
    "\n",
    "df_Komoran = pd.DataFrame()\n",
    "start = time.time()\n",
    "for i in range(len(df)):\n",
    "    df_Komoran = df_Komoran.append({'text' : preprocess2(df['text'][i])}, \n",
    "                             ignore_index=True)\n",
    "Morph.append('Komoran')\n",
    "run_time.append(time.time()-start)\n",
    "df_Komoran.head()\n",
    "\n",
    "\n",
    "# df_Komoran = pd.DataFrame()\n",
    "# start = time.time()\n",
    "# for i in range(len(df)):\n",
    "#     # get_morphes_by_tags(): 입력 문장에서 주어진 품사들만 추출합니다.\n",
    "#     df_Komoran = df_Komoran.append({'text' :\n",
    "#         komoran.get_morphes_by_tags(df['text'][i], tag_list=POS_PASSWORD2)},\n",
    "#     ignore_index=True)\n",
    "# run_time.append(time.time()-start)\n",
    "# df_Komoran.head()\n",
    "# \"\"\"\n",
    "# # 분석할 문장 준비\n",
    "# str_to_analyze = \"① 대한민국은 민주공화국이다. ② 대한민국의 주권은 국민에게 있고, 모든 권력은 국민으로부터 나온다.\"\n",
    "\n",
    "# # get_nouns(): 입력 문장에서 명사만 추출합니다.\n",
    "# print(komoran.get_nouns(str_to_analyze))\n",
    "# # # 실행 결과\n",
    "# # ['대한민국', '민주공화국', '대한민국', '주권', '국민', '권력', '국민']\n",
    "\n",
    "# # get_morphes_by_tags(): 입력 문장에서 주어진 품사들만 추출합니다.\n",
    "# print(komoran.get_morphes_by_tags(str_to_analyze, tag_list=['NNP', 'NNG', 'SF']))\n",
    "# # # 실행 결과\n",
    "# # ['대한민국', '민주공화국', '.', '대한민국', '주권', '국민', '권력', '국민', '.']\n",
    "\n",
    "# # get_plain_text(): 입력 문장 내에 형태소/품사 형태로 태그를 합니다.\n",
    "# print(komoran.get_plain_text(str_to_analyze))\n",
    "# # # 실행 결과\n",
    "# # ①/SW 대한민국/NNP 은/JX 민주공화국/NNP 이/VCP 다/EF ./SF ②/SW 대한민국/NNP 의/JKG 주권/NNP 은/JX 국민/NNG 에게/JKB 있/VV 고/EC ,/SP 모든/MM 권력/NNG 은/JX 국민/NNG 으로부터/JKB 나오/VV ㄴ다/EF ./SF\n",
    "\n",
    "# # get_token_list(): 입력 문장에 대해서 형태소/품사/시작지점/종료지점을 갖는 Token 자료형들을 반환받습니다.\n",
    "# print(komoran.get_token_list(str_to_analyze))\n",
    "# # # 실행 결과\n",
    "# # [①/SW(0,1), 대한민국/NNP(2,6), 은/JX(6,7), 민주공화국/NNP(8,13), 이/VCP(13,14), 다/EF(14,15), ./SF(15,16), ②/SW(17,18), 대한민국/NNP(19,23), 의/JKG(23,24), 주권/NNP(25,27), 은/JX(27,28), 국민/NNG(29,31), 에게/JKB(31,33), 있/VV(34,35), 고/EC(35,36), ,/SP(36,37), 모든/MM(38,40), 권력/NNG(41,43), 은/JX(43,44), 국민/NNG(45,47), 으로부터/JKB(47,51), 나오/VV(52,54), ㄴ다/EF(53,55), ./SF(55,56)]\n",
    "\n",
    "# # get_token_list(flatten=False): 입력 문장에 대해서 Token 자료형들을 반환받습니다. 이 때, 어절 단위로 나누어 반환받습니다.\n",
    "# print(komoran.get_token_list(str_to_analyze, flatten=False))\n",
    "# # # 실행 결과\n",
    "# # [[①/SW(0,1)], [대한민국/NNP(2,6), 은/JX(6,7)], [민주공화국/NNP(8,13), 이/VCP(13,14), 다/EF(14,15), ./SF(15,16)], [②/SW(17,18)], [대한민국/NNP(19,23), 의/JKG(23,24)], [주권/NNP(25,27), 은/JX(27,28)], [국민/NNG(29,31), 에게/JKB(31,33)], [있/VV(34,35), 고/EC(35,36), ,/SP(36,37)], [모든/MM(38,40)], [권력/NNG(41,43), 은/JX(43,44)], [국민/NNG(45,47), 으로부터/JKB(47,51)], [나오/VV(52,54), ㄴ다/EF(53,55), ./SF(55,56)]]\n",
    "\n",
    "# # get_token_list(flatten=False): 입력 문장에 대해서 Token 자료형들을 반환받습니다. 이 때, 품사 기호 대신 이름을 사용합니다.\n",
    "# print(komoran.get_token_list(str_to_analyze, use_pos_name=True))\n",
    "# # # 실행 결과\n",
    "# # [①/기타기호(논리수학기호,화폐기호)(0,1), 대한민국/고유 명사(2,6), 은/보조사(6,7), 민주공화국/고유 명사(8,13), 이/긍정 지정사(13,14), 다/종결 어미(14,15), ./마침표,물음표,느낌표(15,16), ②/기타기호(논리수학기호,화폐기호)(17,18), 대한민국/고유 명사(19,23), 의/관형격 조사(23,24), 주권/고유 명사(25,27), 은/보조사(27,28), 국민/일반 명사(29,31), 에게/부사격 조사(31,33), 있/동사(34,35), 고/연결 어미(35,36), ,/쉼표,가운뎃점,콜론,빗금(36,37), 모든/관형사(38,40), 권력/일반 명사(41,43), 은/보조사(43,44), 국민/일반 명사(45,47), 으로부터/부사격 조사(47,51), 나오/동사(52,54), ㄴ다/종결 어미(53,55), ./마침표,물음표,느낌표(55,56)]\n",
    "\n",
    "# # get_list(): 입력 문장에 대해서 형태소/품사를 갖는 Pair 자료형들을 반환받습니다.\n",
    "# print(komoran.get_list(str_to_analyze))\n",
    "# # # 실행 결과\n",
    "# # [①/SW, 대한민국/NNP, 은/JX, 민주공화국/NNP, 이/VCP, 다/EF, ./SF, ②/SW, 대한민국/NNP, 의/JKG, 주권/NNP, 은/JX, 국민/NNG, 에게/JKB, 있/VV, 고/EC, ,/SP, 모든/MM, 권력/NNG, 은/JX, 국민/NNG, 으로부터/JKB, 나오/VV, ㄴ다/EF, ./SF]\n",
    "\n",
    "# \"\"\""
   ]
  },
  {
   "cell_type": "code",
   "execution_count": 3,
   "metadata": {},
   "outputs": [
    {
     "data": {
      "text/plain": [
       "[1041.9504737854004]"
      ]
     },
     "execution_count": 3,
     "metadata": {},
     "output_type": "execute_result"
    }
   ],
   "source": [
    "run_time"
   ]
  },
  {
   "cell_type": "code",
   "execution_count": 4,
   "metadata": {},
   "outputs": [],
   "source": [
    "df_Komoran.to_csv(\"df_Komoran.csv\", header=False, index=False)"
   ]
  },
  {
   "cell_type": "code",
   "execution_count": null,
   "metadata": {},
   "outputs": [],
   "source": []
  }
 ],
 "metadata": {
  "kernelspec": {
   "display_name": "Python 3",
   "language": "python",
   "name": "python3"
  },
  "language_info": {
   "codemirror_mode": {
    "name": "ipython",
    "version": 3
   },
   "file_extension": ".py",
   "mimetype": "text/x-python",
   "name": "python",
   "nbconvert_exporter": "python",
   "pygments_lexer": "ipython3",
   "version": "3.6.8"
  }
 },
 "nbformat": 4,
 "nbformat_minor": 2
}
