{
 "cells": [
  {
   "cell_type": "code",
   "execution_count": 1,
   "metadata": {},
   "outputs": [],
   "source": [
    "import pandas as pd\n",
    "original  = pd.read_csv('../TOP_ZIPUP_2019.txt', sep = \"\\n\", engine='python', encoding = \"utf8\")\n",
    "df = original.dropna(axis = 0).reset_index()\n",
    "del(df['index'])\n",
    "df.columns = ['text']"
   ]
  },
  {
   "cell_type": "code",
   "execution_count": 2,
   "metadata": {},
   "outputs": [],
   "source": [
    "import time\n",
    "Morph = []\n",
    "run_time = []"
   ]
  },
  {
   "cell_type": "code",
   "execution_count": 3,
   "metadata": {},
   "outputs": [
    {
     "data": {
      "text/html": [
       "<div>\n",
       "<style scoped>\n",
       "    .dataframe tbody tr th:only-of-type {\n",
       "        vertical-align: middle;\n",
       "    }\n",
       "\n",
       "    .dataframe tbody tr th {\n",
       "        vertical-align: top;\n",
       "    }\n",
       "\n",
       "    .dataframe thead th {\n",
       "        text-align: right;\n",
       "    }\n",
       "</style>\n",
       "<table border=\"1\" class=\"dataframe\">\n",
       "  <thead>\n",
       "    <tr style=\"text-align: right;\">\n",
       "      <th></th>\n",
       "      <th>text</th>\n",
       "    </tr>\n",
       "  </thead>\n",
       "  <tbody>\n",
       "    <tr>\n",
       "      <th>0</th>\n",
       "      <td>나이키 배색 반집 업 후 리스 봉봉 빈티지 품명 나이키 배색 반집 업 후 리스 가격...</td>\n",
       "    </tr>\n",
       "    <tr>\n",
       "      <th>1</th>\n",
       "      <td>커버 하프 집 업 후 리스 HALF ZIP UP SILKY FLEECE HALF Z...</td>\n",
       "    </tr>\n",
       "    <tr>\n",
       "      <th>2</th>\n",
       "      <td>DAY 남미 배낭 여행 볼리비아 라파 데스 로드 킬리 킬리 야경 라파 시간 반 이동...</td>\n",
       "    </tr>\n",
       "    <tr>\n",
       "      <th>3</th>\n",
       "      <td>Made U 스윗 서브 후 리스 반집 업 후드 글 양털 후드 티 털 상품명 Made...</td>\n",
       "    </tr>\n",
       "    <tr>\n",
       "      <th>4</th>\n",
       "      <td>choiroom 터틀 골지 원피스 니트 세트 뒷면 룸 베스트 상품 무배 반 폴라 기...</td>\n",
       "    </tr>\n",
       "  </tbody>\n",
       "</table>\n",
       "</div>"
      ],
      "text/plain": [
       "                                                text\n",
       "0  나이키 배색 반집 업 후 리스 봉봉 빈티지 품명 나이키 배색 반집 업 후 리스 가격...\n",
       "1  커버 하프 집 업 후 리스 HALF ZIP UP SILKY FLEECE HALF Z...\n",
       "2  DAY 남미 배낭 여행 볼리비아 라파 데스 로드 킬리 킬리 야경 라파 시간 반 이동...\n",
       "3  Made U 스윗 서브 후 리스 반집 업 후드 글 양털 후드 티 털 상품명 Made...\n",
       "4  choiroom 터틀 골지 원피스 니트 세트 뒷면 룸 베스트 상품 무배 반 폴라 기..."
      ]
     },
     "execution_count": 3,
     "metadata": {},
     "output_type": "execute_result"
    }
   ],
   "source": [
    "# # MeCab installation needed\n",
    "# from konlpy.tag import Mecab\n",
    "# https://velog.io/@kjyggg/%ED%98%95%ED%83%9C%EC%86%8C-%EB%B6%84%EC%84%9D%EA%B8%B0-Mecab-%EC%82%AC%EC%9A%A9%ED%95%98%EA%B8%B0-A-to-Z%EC%84%A4%EC%B9%98%EB%B6%80%ED%84%B0-%EB%8B%A8%EC%96%B4-%EC%9A%B0%EC%84%A0%EC%88%9C%EC%9C%84-%EB%93%B1%EB%A1%9D%EA%B9%8C%EC%A7%80\n",
    "from eunjeon import Mecab\n",
    "mecab = Mecab()\n",
    "\n",
    "POS_PASSWORD5 = ['NNG', 'NNP', 'NP', 'SL', 'SH']\n",
    "\"\"\"\n",
    "NNG: 일반 명사\n",
    "NNP: 고유 명사\n",
    "NP: 대명사\n",
    "SL: 외국어\n",
    "SH: 한자\n",
    "\"\"\"\n",
    "\n",
    "def preprocess5(string):\n",
    "    rst = \"\"\n",
    "    try:\n",
    "        vocab_pos = mecab.pos(string)\n",
    "        for key, tag in vocab_pos:\n",
    "            # if not(tag in POS_STOPWORD):\n",
    "            if tag in POS_PASSWORD5:\n",
    "                rst = rst + key + \" \"\n",
    "        return rst\n",
    "    \n",
    "    except: return None\n",
    "\n",
    "df_Mecab = pd.DataFrame()\n",
    "start = time.time()\n",
    "for i in range(len(df)):\n",
    "    # get_morphes_by_tags(): 입력 문장에서 주어진 품사들만 추출합니다.\n",
    "    df_Mecab = df_Mecab.append({'text' : preprocess5(df['text'][i])}, \n",
    "                             ignore_index=True)\n",
    "Morph.append('Mecab')\n",
    "run_time.append(time.time()-start)\n",
    "df_Mecab.head()"
   ]
  },
  {
   "cell_type": "code",
   "execution_count": 4,
   "metadata": {},
   "outputs": [
    {
     "data": {
      "text/plain": [
       "[777.9249513149261]"
      ]
     },
     "execution_count": 4,
     "metadata": {},
     "output_type": "execute_result"
    }
   ],
   "source": [
    "run_time"
   ]
  },
  {
   "cell_type": "code",
   "execution_count": 6,
   "metadata": {},
   "outputs": [],
   "source": [
    "df_Mecab.to_csv(\"df_Mecab.csv\", header=False, index=False)"
   ]
  },
  {
   "cell_type": "code",
   "execution_count": 8,
   "metadata": {},
   "outputs": [
    {
     "data": {
      "image/png": "[encoded data removed]",
      "text/plain": [
       "<Figure size 432x288 with 1 Axes>"
      ]
     },
     "metadata": {
      "needs_background": "light"
     },
     "output_type": "display_data"
    }
   ],
   "source": [
    "import matplotlib.pyplot as plt\n",
    "plt.bar(['Kkma', 'Komoran', 'Hannanum', 'Okt', 'Mecab'], \n",
    "        [18989.071476221085, 1041.9504737854004, 13424.830045700073, \n",
    "        2134.6220133304596, 777.9249513149261])\n",
    "plt.title(\"running time\")\n",
    "plt.show()"
   ]
  },
  {
   "cell_type": "code",
   "execution_count": null,
   "metadata": {},
   "outputs": [],
   "source": []
  }
 ],
 "metadata": {
  "kernelspec": {
   "display_name": "Python 3",
   "language": "python",
   "name": "python3"
  },
  "language_info": {
   "codemirror_mode": {
    "name": "ipython",
    "version": 3
   },
   "file_extension": ".py",
   "mimetype": "text/x-python",
   "name": "python",
   "nbconvert_exporter": "python",
   "pygments_lexer": "ipython3",
   "version": "3.6.8"
  }
 },
 "nbformat": 4,
 "nbformat_minor": 2
}
