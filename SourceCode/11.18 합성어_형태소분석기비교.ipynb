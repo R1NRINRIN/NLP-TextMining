{
 "cells": [
  {
   "cell_type": "code",
   "execution_count": 25,
   "metadata": {},
   "outputs": [],
   "source": [
    "words = ['미사용', '오버핏', '후리스', '반집업', '나이키', '디스커버리'\n",
    "        , '아디다스']"
   ]
  },
  {
   "cell_type": "markdown",
   "metadata": {},
   "source": [
    "## Hannanum"
   ]
  },
  {
   "cell_type": "code",
   "execution_count": 26,
   "metadata": {},
   "outputs": [
    {
     "name": "stdout",
     "output_type": "stream",
     "text": [
      "[('미사용', 'N')]\n",
      "[('오버핏', 'N')]\n",
      "[('후리스', 'N')]\n",
      "[('반집업', 'N')]\n",
      "[('나이키', 'N')]\n",
      "[('디스커버', 'N'), ('이', 'J'), ('리', 'E')]\n",
      "[('아디다스', 'N')]\n"
     ]
    }
   ],
   "source": [
    "from konlpy.tag import Hannanum\n",
    "hannanum = Hannanum()\n",
    "for word in words:\n",
    "    print(hannanum.pos(word))"
   ]
  },
  {
   "cell_type": "markdown",
   "metadata": {},
   "source": [
    "## Kkma"
   ]
  },
  {
   "cell_type": "code",
   "execution_count": 27,
   "metadata": {},
   "outputs": [
    {
     "name": "stdout",
     "output_type": "stream",
     "text": [
      "[('미사', 'NNG'), ('용', 'XSN')]\n",
      "[('오버', 'NNG'), ('핏', 'NNG')]\n",
      "[('후', 'NNG'), ('리스', 'NNG')]\n",
      "[('반집', 'NNG'), ('업', 'NNG')]\n",
      "[('나이키', 'NNG')]\n",
      "[('디스', 'UN'), ('커버', 'NNG'), ('리', 'XSN')]\n",
      "[('아디다스', 'NNG')]\n"
     ]
    }
   ],
   "source": [
    "from konlpy.tag import Kkma\n",
    "kkma = Kkma()\n",
    "for word in words:\n",
    "    print(kkma.pos(word))"
   ]
  },
  {
   "cell_type": "markdown",
   "metadata": {},
   "source": [
    "## Komoran"
   ]
  },
  {
   "cell_type": "code",
   "execution_count": 28,
   "metadata": {},
   "outputs": [
    {
     "name": "stdout",
     "output_type": "stream",
     "text": [
      "[('미', 'NNP'), ('사용', 'NNG')]\n",
      "[('오버핏', 'NA')]\n",
      "[('후', 'NNG'), ('리스', 'NNP')]\n",
      "[('반', 'XPN'), ('집', 'NNG'), ('업', 'NNG')]\n",
      "[('나이키', 'NNP')]\n",
      "[('디스커버리', 'NNP')]\n",
      "[('아디다스', 'NNP')]\n"
     ]
    }
   ],
   "source": [
    "from konlpy.tag import Komoran\n",
    "komoran = Komoran()\n",
    "for word in words:\n",
    "    print(komoran.pos(word))"
   ]
  },
  {
   "cell_type": "markdown",
   "metadata": {},
   "source": [
    "## Mecab"
   ]
  },
  {
   "cell_type": "code",
   "execution_count": 29,
   "metadata": {},
   "outputs": [
    {
     "name": "stdout",
     "output_type": "stream",
     "text": [
      "[('미', 'NNP'), ('사용', 'NNG')]\n",
      "[('오버', 'NNG'), ('핏', 'NNG')]\n",
      "[('후', 'NNG'), ('리스', 'NNG')]\n",
      "[('반집', 'NNG'), ('업', 'NNG')]\n",
      "[('나이키', 'NNG')]\n",
      "[('디스커버리', 'NNP')]\n",
      "[('아디', 'NNG'), ('다스', 'NNG')]\n"
     ]
    }
   ],
   "source": [
    "from eunjeon import Mecab\n",
    "mecab = Mecab()\n",
    "for word in words:\n",
    "    print(mecab.pos(word))"
   ]
  },
  {
   "cell_type": "markdown",
   "metadata": {},
   "source": [
    "## Okt"
   ]
  },
  {
   "cell_type": "code",
   "execution_count": 30,
   "metadata": {},
   "outputs": [
    {
     "name": "stdout",
     "output_type": "stream",
     "text": [
      "[('미사', 'Noun'), ('용', 'Noun')]\n",
      "[('오', 'Modifier'), ('버핏', 'Noun')]\n",
      "[('후', 'Noun'), ('리스', 'Noun')]\n",
      "[('반', 'Modifier'), ('집업', 'Noun')]\n",
      "[('나이키', 'Noun')]\n",
      "[('디스커버리', 'Noun')]\n",
      "[('아디다스', 'Noun')]\n"
     ]
    }
   ],
   "source": [
    "from konlpy.tag import Okt  \n",
    "okt=Okt()  \n",
    "for word in words:\n",
    "    print(okt.pos(word))"
   ]
  },
  {
   "cell_type": "code",
   "execution_count": 52,
   "metadata": {
    "scrolled": false
   },
   "outputs": [
    {
     "ename": "Exception",
     "evalue": "JVM cannot be initialized more than once.Please call koalanlp.Util.finalize() when you want to re-init the JVM with other options.",
     "output_type": "error",
     "traceback": [
      "\u001b[1;31m---------------------------------------------------------------------------\u001b[0m",
      "\u001b[1;31mException\u001b[0m                                 Traceback (most recent call last)",
      "\u001b[1;32m<ipython-input-52-2c7bbf21b4fd>\u001b[0m in \u001b[0;36m<module>\u001b[1;34m\u001b[0m\n\u001b[0;32m      5\u001b[0m \u001b[1;31m# from koalanlp.Util import initializeinitialize\u001b[0m\u001b[1;33m\u001b[0m\u001b[1;33m\u001b[0m\u001b[1;33m\u001b[0m\u001b[0m\n\u001b[0;32m      6\u001b[0m \u001b[1;33m\u001b[0m\u001b[0m\n\u001b[1;32m----> 7\u001b[1;33m \u001b[0minitialize\u001b[0m\u001b[1;33m(\u001b[0m\u001b[0mETRI\u001b[0m\u001b[1;33m=\u001b[0m\u001b[1;34m'LATEST'\u001b[0m\u001b[1;33m)\u001b[0m\u001b[1;33m\u001b[0m\u001b[1;33m\u001b[0m\u001b[0m\n\u001b[0m\u001b[0;32m      8\u001b[0m \u001b[0mfinalize\u001b[0m\u001b[1;33m(\u001b[0m\u001b[1;33m)\u001b[0m\u001b[1;33m\u001b[0m\u001b[1;33m\u001b[0m\u001b[0m\n\u001b[0;32m      9\u001b[0m \u001b[1;31m# API_KEY = os.getenv('API_KEY') if len(sys.argv) <= 1 else sys.argv[1]\u001b[0m\u001b[1;33m\u001b[0m\u001b[1;33m\u001b[0m\u001b[1;33m\u001b[0m\u001b[0m\n",
      "\u001b[1;32mc:\\users\\rhakt\\appdata\\local\\programs\\python\\python36\\lib\\site-packages\\koalanlp\\Util.py\u001b[0m in \u001b[0;36minitialize\u001b[1;34m(java_options, lib_path, force_download, port, **packages)\u001b[0m\n\u001b[0;32m    189\u001b[0m         \u001b[0mlogger\u001b[0m\u001b[1;33m.\u001b[0m\u001b[0minfo\u001b[0m\u001b[1;33m(\u001b[0m\u001b[1;34m\"JVM initialization procedure is completed.\"\u001b[0m\u001b[1;33m)\u001b[0m\u001b[1;33m\u001b[0m\u001b[1;33m\u001b[0m\u001b[0m\n\u001b[0;32m    190\u001b[0m     \u001b[1;32melse\u001b[0m\u001b[1;33m:\u001b[0m\u001b[1;33m\u001b[0m\u001b[1;33m\u001b[0m\u001b[0m\n\u001b[1;32m--> 191\u001b[1;33m         raise Exception(\"JVM cannot be initialized more than once.\"\n\u001b[0m\u001b[0;32m    192\u001b[0m                         \"Please call koalanlp.Util.finalize() when you want to re-init the JVM with other options.\")\n\u001b[0;32m    193\u001b[0m \u001b[1;33m\u001b[0m\u001b[0m\n",
      "\u001b[1;31mException\u001b[0m: JVM cannot be initialized more than once.Please call koalanlp.Util.finalize() when you want to re-init the JVM with other options."
     ]
    }
   ],
   "source": [
    "from koalanlp import API\n",
    "from koalanlp.proc import EntityRecognizer\n",
    "import sys\n",
    "from koalanlp.Util import initialize, finalize\n",
    "# from koalanlp.Util import initializeinitialize\n",
    "\n",
    "initialize(ETRI='LATEST')\n",
    "finalize()\n",
    "# API_KEY = os.getenv('API_KEY') if len(sys.argv) <= 1 else sys.argv[1]\n",
    "recognizer = EntityRecognizer(API.ETRI, etri_key=API_KEY)\n",
    "\n",
    "\n",
    "# for word in words:\n",
    "#     parsed = recognizer(word)\n",
    "#     for entity in parsed[0].getEntities():\n",
    "#         print(entity)\n",
    "\n",
    "parsed = recognizer('나이키')\n",
    "for entity in parsed[0].getEntities():\n",
    "    print(entity)"
   ]
  },
  {
   "cell_type": "code",
   "execution_count": 54,
   "metadata": {
    "scrolled": false
   },
   "outputs": [
    {
     "name": "stderr",
     "output_type": "stream",
     "text": [
      "[root] Java에서 처리하던 중에 문제가 발생했습니다. 문제가 계속된다면, Issue를 등록해주세요.\n",
      "Traceback (most recent call last):\n",
      "  File \"c:\\users\\rhakt\\appdata\\local\\programs\\python\\python36\\lib\\site-packages\\koalanlp\\proc.py\", line 213, in analyze\n",
      "    result += py_list(self.__api.analyze(string(paragraph)), item_converter=Sentence.fromJava)\n",
      "  File \"c:\\users\\rhakt\\appdata\\local\\programs\\python\\python36\\lib\\site-packages\\py4j\\java_gateway.py\", line 1305, in __call__\n",
      "    answer, self.gateway_client, self.target_id, self.name)\n",
      "  File \"c:\\users\\rhakt\\appdata\\local\\programs\\python\\python36\\lib\\site-packages\\py4j\\protocol.py\", line 328, in get_return_value\n",
      "    format(target_id, \".\", name), value)\n",
      "py4j.protocol.Py4JJavaError: An error occurred while calling o211.analyze.\n",
      ": kr.bydelta.koala.etri.APIException: Invalid Access Key!:-f\r\n",
      "\tat kr.bydelta.koala.etri.CanCommunicateETRIApi$DefaultImpls.request(proc.kt:63)\r\n",
      "\tat kr.bydelta.koala.etri.CanParseWithETRI$DefaultImpls.request(proc.kt)\r\n",
      "\tat kr.bydelta.koala.etri.EntityRecognizer.request(proc.kt:452)\r\n",
      "\tat kr.bydelta.koala.etri.CanParseWithETRI$DefaultImpls.convert(proc.kt:118)\r\n",
      "\tat kr.bydelta.koala.etri.EntityRecognizer.convert(proc.kt:452)\r\n",
      "\tat kr.bydelta.koala.proc.CanAnalyzeProperty$DefaultImpls.analyze(processors.kt:624)\r\n",
      "\tat kr.bydelta.koala.proc.CanRecognizeEntity$DefaultImpls.analyze(processors.kt)\r\n",
      "\tat kr.bydelta.koala.etri.EntityRecognizer.analyze(proc.kt:452)\r\n",
      "\tat java.base/jdk.internal.reflect.NativeMethodAccessorImpl.invoke0(Native Method)\r\n",
      "\tat java.base/jdk.internal.reflect.NativeMethodAccessorImpl.invoke(NativeMethodAccessorImpl.java:62)\r\n",
      "\tat java.base/jdk.internal.reflect.DelegatingMethodAccessorImpl.invoke(DelegatingMethodAccessorImpl.java:43)\r\n",
      "\tat java.base/java.lang.reflect.Method.invoke(Method.java:567)\r\n",
      "\tat py4j.reflection.MethodInvoker.invoke(MethodInvoker.java:244)\r\n",
      "\tat py4j.reflection.ReflectionEngine.invoke(ReflectionEngine.java:357)\r\n",
      "\tat py4j.Gateway.invoke(Gateway.java:282)\r\n",
      "\tat py4j.commands.AbstractCommand.invokeMethod(AbstractCommand.java:132)\r\n",
      "\tat py4j.commands.CallCommand.execute(CallCommand.java:79)\r\n",
      "\tat py4j.GatewayConnection.run(GatewayConnection.java:238)\r\n",
      "\tat java.base/java.lang.Thread.run(Thread.java:830)\r\n",
      "\n"
     ]
    },
    {
     "ename": "Py4JJavaError",
     "evalue": "An error occurred while calling o211.analyze.\n: kr.bydelta.koala.etri.APIException: Invalid Access Key!:-f\r\n\tat kr.bydelta.koala.etri.CanCommunicateETRIApi$DefaultImpls.request(proc.kt:63)\r\n\tat kr.bydelta.koala.etri.CanParseWithETRI$DefaultImpls.request(proc.kt)\r\n\tat kr.bydelta.koala.etri.EntityRecognizer.request(proc.kt:452)\r\n\tat kr.bydelta.koala.etri.CanParseWithETRI$DefaultImpls.convert(proc.kt:118)\r\n\tat kr.bydelta.koala.etri.EntityRecognizer.convert(proc.kt:452)\r\n\tat kr.bydelta.koala.proc.CanAnalyzeProperty$DefaultImpls.analyze(processors.kt:624)\r\n\tat kr.bydelta.koala.proc.CanRecognizeEntity$DefaultImpls.analyze(processors.kt)\r\n\tat kr.bydelta.koala.etri.EntityRecognizer.analyze(proc.kt:452)\r\n\tat java.base/jdk.internal.reflect.NativeMethodAccessorImpl.invoke0(Native Method)\r\n\tat java.base/jdk.internal.reflect.NativeMethodAccessorImpl.invoke(NativeMethodAccessorImpl.java:62)\r\n\tat java.base/jdk.internal.reflect.DelegatingMethodAccessorImpl.invoke(DelegatingMethodAccessorImpl.java:43)\r\n\tat java.base/java.lang.reflect.Method.invoke(Method.java:567)\r\n\tat py4j.reflection.MethodInvoker.invoke(MethodInvoker.java:244)\r\n\tat py4j.reflection.ReflectionEngine.invoke(ReflectionEngine.java:357)\r\n\tat py4j.Gateway.invoke(Gateway.java:282)\r\n\tat py4j.commands.AbstractCommand.invokeMethod(AbstractCommand.java:132)\r\n\tat py4j.commands.CallCommand.execute(CallCommand.java:79)\r\n\tat py4j.GatewayConnection.run(GatewayConnection.java:238)\r\n\tat java.base/java.lang.Thread.run(Thread.java:830)\r\n",
     "output_type": "error",
     "traceback": [
      "\u001b[1;31m---------------------------------------------------------------------------\u001b[0m",
      "\u001b[1;31mPy4JJavaError\u001b[0m                             Traceback (most recent call last)",
      "\u001b[1;32m<ipython-input-54-16f9b22ffe1f>\u001b[0m in \u001b[0;36m<module>\u001b[1;34m\u001b[0m\n\u001b[0;32m      4\u001b[0m \u001b[0mrecognizer\u001b[0m \u001b[1;33m=\u001b[0m \u001b[0mEntityRecognizer\u001b[0m\u001b[1;33m(\u001b[0m\u001b[0mAPI\u001b[0m\u001b[1;33m.\u001b[0m\u001b[0mETRI\u001b[0m\u001b[1;33m,\u001b[0m \u001b[0metri_key\u001b[0m\u001b[1;33m=\u001b[0m\u001b[0mAPI_KEY\u001b[0m\u001b[1;33m)\u001b[0m\u001b[1;33m\u001b[0m\u001b[1;33m\u001b[0m\u001b[0m\n\u001b[0;32m      5\u001b[0m \u001b[1;33m\u001b[0m\u001b[0m\n\u001b[1;32m----> 6\u001b[1;33m \u001b[0mparsed\u001b[0m \u001b[1;33m=\u001b[0m \u001b[0mrecognizer\u001b[0m\u001b[1;33m(\u001b[0m\u001b[1;34m\"나이키\"\u001b[0m\u001b[1;33m)\u001b[0m\u001b[1;33m\u001b[0m\u001b[1;33m\u001b[0m\u001b[0m\n\u001b[0m\u001b[0;32m      7\u001b[0m \u001b[1;31m# 또는 recognizer.analyze(...), recognizer.invoke(...)\u001b[0m\u001b[1;33m\u001b[0m\u001b[1;33m\u001b[0m\u001b[1;33m\u001b[0m\u001b[0m\n\u001b[0;32m      8\u001b[0m \u001b[1;33m\u001b[0m\u001b[0m\n",
      "\u001b[1;32mc:\\users\\rhakt\\appdata\\local\\programs\\python\\python36\\lib\\site-packages\\koalanlp\\proc.py\u001b[0m in \u001b[0;36m__call__\u001b[1;34m(self, *args, **kwargs)\u001b[0m\n\u001b[0;32m    236\u001b[0m         \u001b[1;33m:\u001b[0m\u001b[1;32mreturn\u001b[0m\u001b[1;33m:\u001b[0m \u001b[0m분석된\u001b[0m \u001b[0m결과들\u001b[0m\u001b[1;33m.\u001b[0m \u001b[1;33m(\u001b[0m\u001b[0mflattened\u001b[0m \u001b[0mlist\u001b[0m\u001b[1;33m)\u001b[0m\u001b[1;33m\u001b[0m\u001b[1;33m\u001b[0m\u001b[0m\n\u001b[0;32m    237\u001b[0m         \"\"\"\n\u001b[1;32m--> 238\u001b[1;33m         \u001b[1;32mreturn\u001b[0m \u001b[0mself\u001b[0m\u001b[1;33m.\u001b[0m\u001b[0manalyze\u001b[0m\u001b[1;33m(\u001b[0m\u001b[1;33m*\u001b[0m\u001b[0margs\u001b[0m\u001b[1;33m)\u001b[0m\u001b[1;33m\u001b[0m\u001b[1;33m\u001b[0m\u001b[0m\n\u001b[0m\u001b[0;32m    239\u001b[0m \u001b[1;33m\u001b[0m\u001b[0m\n\u001b[0;32m    240\u001b[0m \u001b[1;33m\u001b[0m\u001b[0m\n",
      "\u001b[1;32mc:\\users\\rhakt\\appdata\\local\\programs\\python\\python36\\lib\\site-packages\\koalanlp\\proc.py\u001b[0m in \u001b[0;36manalyze\u001b[1;34m(self, *text)\u001b[0m\n\u001b[0;32m    213\u001b[0m                     \u001b[0mresult\u001b[0m \u001b[1;33m+=\u001b[0m \u001b[0mpy_list\u001b[0m\u001b[1;33m(\u001b[0m\u001b[0mself\u001b[0m\u001b[1;33m.\u001b[0m\u001b[0m__api\u001b[0m\u001b[1;33m.\u001b[0m\u001b[0manalyze\u001b[0m\u001b[1;33m(\u001b[0m\u001b[0mstring\u001b[0m\u001b[1;33m(\u001b[0m\u001b[0mparagraph\u001b[0m\u001b[1;33m)\u001b[0m\u001b[1;33m)\u001b[0m\u001b[1;33m,\u001b[0m \u001b[0mitem_converter\u001b[0m\u001b[1;33m=\u001b[0m\u001b[0mSentence\u001b[0m\u001b[1;33m.\u001b[0m\u001b[0mfromJava\u001b[0m\u001b[1;33m)\u001b[0m\u001b[1;33m\u001b[0m\u001b[1;33m\u001b[0m\u001b[0m\n\u001b[0;32m    214\u001b[0m                 \u001b[1;32mexcept\u001b[0m \u001b[0mJavaError\u001b[0m \u001b[1;32mas\u001b[0m \u001b[0me\u001b[0m\u001b[1;33m:\u001b[0m\u001b[1;33m\u001b[0m\u001b[1;33m\u001b[0m\u001b[0m\n\u001b[1;32m--> 215\u001b[1;33m                     \u001b[0merror_handler\u001b[0m\u001b[1;33m(\u001b[0m\u001b[0me\u001b[0m\u001b[1;33m)\u001b[0m\u001b[1;33m\u001b[0m\u001b[1;33m\u001b[0m\u001b[0m\n\u001b[0m\u001b[0;32m    216\u001b[0m             \u001b[1;32melif\u001b[0m \u001b[0mtype\u001b[0m\u001b[1;33m(\u001b[0m\u001b[0mparagraph\u001b[0m\u001b[1;33m)\u001b[0m \u001b[1;32mis\u001b[0m \u001b[0mSentence\u001b[0m\u001b[1;33m:\u001b[0m\u001b[1;33m\u001b[0m\u001b[1;33m\u001b[0m\u001b[0m\n\u001b[0;32m    217\u001b[0m                 \u001b[0mref\u001b[0m \u001b[1;33m=\u001b[0m \u001b[0mparagraph\u001b[0m\u001b[1;33m.\u001b[0m\u001b[0mgetReference\u001b[0m\u001b[1;33m(\u001b[0m\u001b[1;33m)\u001b[0m\u001b[1;33m\u001b[0m\u001b[1;33m\u001b[0m\u001b[0m\n",
      "\u001b[1;32mc:\\users\\rhakt\\appdata\\local\\programs\\python\\python36\\lib\\site-packages\\koalanlp\\jvm.py\u001b[0m in \u001b[0;36merror_handler\u001b[1;34m(e)\u001b[0m\n\u001b[0;32m    211\u001b[0m         logging.exception('Java에서 처리하던 중에 문제가 발생했습니다. '\n\u001b[0;32m    212\u001b[0m                           '문제가 계속된다면, Issue를 등록해주세요.', exc_info=e)\n\u001b[1;32m--> 213\u001b[1;33m     \u001b[1;32mraise\u001b[0m \u001b[0me\u001b[0m\u001b[1;33m\u001b[0m\u001b[1;33m\u001b[0m\u001b[0m\n\u001b[0m\u001b[0;32m    214\u001b[0m \u001b[1;33m\u001b[0m\u001b[0m\n\u001b[0;32m    215\u001b[0m \u001b[1;33m\u001b[0m\u001b[0m\n",
      "\u001b[1;32mc:\\users\\rhakt\\appdata\\local\\programs\\python\\python36\\lib\\site-packages\\koalanlp\\proc.py\u001b[0m in \u001b[0;36manalyze\u001b[1;34m(self, *text)\u001b[0m\n\u001b[0;32m    211\u001b[0m             \u001b[1;32mif\u001b[0m \u001b[0mtype\u001b[0m\u001b[1;33m(\u001b[0m\u001b[0mparagraph\u001b[0m\u001b[1;33m)\u001b[0m \u001b[1;32mis\u001b[0m \u001b[0mstr\u001b[0m\u001b[1;33m:\u001b[0m\u001b[1;33m\u001b[0m\u001b[1;33m\u001b[0m\u001b[0m\n\u001b[0;32m    212\u001b[0m                 \u001b[1;32mtry\u001b[0m\u001b[1;33m:\u001b[0m\u001b[1;33m\u001b[0m\u001b[1;33m\u001b[0m\u001b[0m\n\u001b[1;32m--> 213\u001b[1;33m                     \u001b[0mresult\u001b[0m \u001b[1;33m+=\u001b[0m \u001b[0mpy_list\u001b[0m\u001b[1;33m(\u001b[0m\u001b[0mself\u001b[0m\u001b[1;33m.\u001b[0m\u001b[0m__api\u001b[0m\u001b[1;33m.\u001b[0m\u001b[0manalyze\u001b[0m\u001b[1;33m(\u001b[0m\u001b[0mstring\u001b[0m\u001b[1;33m(\u001b[0m\u001b[0mparagraph\u001b[0m\u001b[1;33m)\u001b[0m\u001b[1;33m)\u001b[0m\u001b[1;33m,\u001b[0m \u001b[0mitem_converter\u001b[0m\u001b[1;33m=\u001b[0m\u001b[0mSentence\u001b[0m\u001b[1;33m.\u001b[0m\u001b[0mfromJava\u001b[0m\u001b[1;33m)\u001b[0m\u001b[1;33m\u001b[0m\u001b[1;33m\u001b[0m\u001b[0m\n\u001b[0m\u001b[0;32m    214\u001b[0m                 \u001b[1;32mexcept\u001b[0m \u001b[0mJavaError\u001b[0m \u001b[1;32mas\u001b[0m \u001b[0me\u001b[0m\u001b[1;33m:\u001b[0m\u001b[1;33m\u001b[0m\u001b[1;33m\u001b[0m\u001b[0m\n\u001b[0;32m    215\u001b[0m                     \u001b[0merror_handler\u001b[0m\u001b[1;33m(\u001b[0m\u001b[0me\u001b[0m\u001b[1;33m)\u001b[0m\u001b[1;33m\u001b[0m\u001b[1;33m\u001b[0m\u001b[0m\n",
      "\u001b[1;32mc:\\users\\rhakt\\appdata\\local\\programs\\python\\python36\\lib\\site-packages\\py4j\\java_gateway.py\u001b[0m in \u001b[0;36m__call__\u001b[1;34m(self, *args)\u001b[0m\n\u001b[0;32m   1303\u001b[0m         \u001b[0manswer\u001b[0m \u001b[1;33m=\u001b[0m \u001b[0mself\u001b[0m\u001b[1;33m.\u001b[0m\u001b[0mgateway_client\u001b[0m\u001b[1;33m.\u001b[0m\u001b[0msend_command\u001b[0m\u001b[1;33m(\u001b[0m\u001b[0mcommand\u001b[0m\u001b[1;33m)\u001b[0m\u001b[1;33m\u001b[0m\u001b[1;33m\u001b[0m\u001b[0m\n\u001b[0;32m   1304\u001b[0m         return_value = get_return_value(\n\u001b[1;32m-> 1305\u001b[1;33m             answer, self.gateway_client, self.target_id, self.name)\n\u001b[0m\u001b[0;32m   1306\u001b[0m \u001b[1;33m\u001b[0m\u001b[0m\n\u001b[0;32m   1307\u001b[0m         \u001b[1;32mfor\u001b[0m \u001b[0mtemp_arg\u001b[0m \u001b[1;32min\u001b[0m \u001b[0mtemp_args\u001b[0m\u001b[1;33m:\u001b[0m\u001b[1;33m\u001b[0m\u001b[1;33m\u001b[0m\u001b[0m\n",
      "\u001b[1;32mc:\\users\\rhakt\\appdata\\local\\programs\\python\\python36\\lib\\site-packages\\py4j\\protocol.py\u001b[0m in \u001b[0;36mget_return_value\u001b[1;34m(answer, gateway_client, target_id, name)\u001b[0m\n\u001b[0;32m    326\u001b[0m                 raise Py4JJavaError(\n\u001b[0;32m    327\u001b[0m                     \u001b[1;34m\"An error occurred while calling {0}{1}{2}.\\n\"\u001b[0m\u001b[1;33m.\u001b[0m\u001b[1;33m\u001b[0m\u001b[1;33m\u001b[0m\u001b[0m\n\u001b[1;32m--> 328\u001b[1;33m                     format(target_id, \".\", name), value)\n\u001b[0m\u001b[0;32m    329\u001b[0m             \u001b[1;32melse\u001b[0m\u001b[1;33m:\u001b[0m\u001b[1;33m\u001b[0m\u001b[1;33m\u001b[0m\u001b[0m\n\u001b[0;32m    330\u001b[0m                 raise Py4JError(\n",
      "\u001b[1;31mPy4JJavaError\u001b[0m: An error occurred while calling o211.analyze.\n: kr.bydelta.koala.etri.APIException: Invalid Access Key!:-f\r\n\tat kr.bydelta.koala.etri.CanCommunicateETRIApi$DefaultImpls.request(proc.kt:63)\r\n\tat kr.bydelta.koala.etri.CanParseWithETRI$DefaultImpls.request(proc.kt)\r\n\tat kr.bydelta.koala.etri.EntityRecognizer.request(proc.kt:452)\r\n\tat kr.bydelta.koala.etri.CanParseWithETRI$DefaultImpls.convert(proc.kt:118)\r\n\tat kr.bydelta.koala.etri.EntityRecognizer.convert(proc.kt:452)\r\n\tat kr.bydelta.koala.proc.CanAnalyzeProperty$DefaultImpls.analyze(processors.kt:624)\r\n\tat kr.bydelta.koala.proc.CanRecognizeEntity$DefaultImpls.analyze(processors.kt)\r\n\tat kr.bydelta.koala.etri.EntityRecognizer.analyze(proc.kt:452)\r\n\tat java.base/jdk.internal.reflect.NativeMethodAccessorImpl.invoke0(Native Method)\r\n\tat java.base/jdk.internal.reflect.NativeMethodAccessorImpl.invoke(NativeMethodAccessorImpl.java:62)\r\n\tat java.base/jdk.internal.reflect.DelegatingMethodAccessorImpl.invoke(DelegatingMethodAccessorImpl.java:43)\r\n\tat java.base/java.lang.reflect.Method.invoke(Method.java:567)\r\n\tat py4j.reflection.MethodInvoker.invoke(MethodInvoker.java:244)\r\n\tat py4j.reflection.ReflectionEngine.invoke(ReflectionEngine.java:357)\r\n\tat py4j.Gateway.invoke(Gateway.java:282)\r\n\tat py4j.commands.AbstractCommand.invokeMethod(AbstractCommand.java:132)\r\n\tat py4j.commands.CallCommand.execute(CallCommand.java:79)\r\n\tat py4j.GatewayConnection.run(GatewayConnection.java:238)\r\n\tat java.base/java.lang.Thread.run(Thread.java:830)\r\n"
     ]
    }
   ],
   "source": [
    "from koalanlp import API\n",
    "from koalanlp.proc import EntityRecognizer\n",
    "\n",
    "recognizer = EntityRecognizer(API.ETRI, etri_key=API_KEY)\n",
    "\n",
    "parsed = recognizer(\"나이키\")\n",
    "# 또는 recognizer.analyze(...), recognizer.invoke(...)\n",
    "\n",
    "# 첫번째 문장의 개체명들을 출력합니다.\n",
    "for entity in parsed[0].getEntities():\n",
    "    print(entity)"
   ]
  },
  {
   "cell_type": "code",
   "execution_count": null,
   "metadata": {},
   "outputs": [],
   "source": []
  }
 ],
 "metadata": {
  "kernelspec": {
   "display_name": "Python 3",
   "language": "python",
   "name": "python3"
  },
  "language_info": {
   "codemirror_mode": {
    "name": "ipython",
    "version": 3
   },
   "file_extension": ".py",
   "mimetype": "text/x-python",
   "name": "python",
   "nbconvert_exporter": "python",
   "pygments_lexer": "ipython3",
   "version": "3.6.8"
  }
 },
 "nbformat": 4,
 "nbformat_minor": 2
}
