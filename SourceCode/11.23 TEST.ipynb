{
 "cells": [
  {
   "cell_type": "code",
   "execution_count": 2,
   "metadata": {},
   "outputs": [],
   "source": [
    "import pandas as pd"
   ]
  },
  {
   "cell_type": "markdown",
   "metadata": {},
   "source": [
    "## Hannanum 상위 50"
   ]
  },
  {
   "cell_type": "code",
   "execution_count": 6,
   "metadata": {},
   "outputs": [
    {
     "data": {
      "text/plain": [
       "22651"
      ]
     },
     "execution_count": 6,
     "metadata": {},
     "output_type": "execute_result"
    }
   ],
   "source": [
    "df_Hannanum = pd.read_csv(\"df_Hannanum.csv\").dropna()\n",
    "\n",
    "temp = df_Hannanum.values.tolist()\n",
    "list_Hannanum = []\n",
    "for sentence in temp:\n",
    "    temp2 = sentence[0].split()\n",
    "    for vocab in temp2:\n",
    "        list_Hannanum.append(vocab)\n",
    "series_Hannanum = pd.Series(list_Hannanum)\n",
    "Hannanum_counts = series_Hannanum.value_counts()#.head(100)\n",
    "Hannanum_counts[0]"
   ]
  },
  {
   "cell_type": "markdown",
   "metadata": {},
   "source": [
    "## Kkma 상위 50"
   ]
  },
  {
   "cell_type": "code",
   "execution_count": 7,
   "metadata": {},
   "outputs": [
    {
     "data": {
      "text/plain": [
       "108172"
      ]
     },
     "execution_count": 7,
     "metadata": {},
     "output_type": "execute_result"
    }
   ],
   "source": [
    "df_Kkma = pd.read_csv(\"df_Kkma.csv\").dropna()\n",
    "\n",
    "temp = df_Kkma.values.tolist()\n",
    "list_Kkma = []\n",
    "for sentence in temp:\n",
    "    temp2 = sentence[0].split()\n",
    "    for vocab in temp2:\n",
    "        list_Kkma.append(vocab)\n",
    "series_Kkma = pd.Series(list_Kkma)\n",
    "Kkma_counts = series_Kkma.value_counts()#.head(100)\n",
    "Kkma_counts[0]"
   ]
  },
  {
   "cell_type": "markdown",
   "metadata": {},
   "source": [
    "## Komoran 상위 50"
   ]
  },
  {
   "cell_type": "code",
   "execution_count": 8,
   "metadata": {},
   "outputs": [
    {
     "data": {
      "text/plain": [
       "91371"
      ]
     },
     "execution_count": 8,
     "metadata": {},
     "output_type": "execute_result"
    }
   ],
   "source": [
    "df_Komoran = pd.read_csv(\"df_Komoran.csv\").dropna()\n",
    "\n",
    "temp = df_Komoran.values.tolist()\n",
    "list_Komoran = []\n",
    "for sentence in temp:\n",
    "    temp2 = sentence[0].split()\n",
    "    for vocab in temp2:\n",
    "        list_Komoran.append(vocab)\n",
    "series_Komoran = pd.Series(list_Komoran)\n",
    "Komoran_counts = series_Komoran.value_counts()#.head(100)\n",
    "Komoran_counts[0]"
   ]
  },
  {
   "cell_type": "markdown",
   "metadata": {},
   "source": [
    "## Mecab 상위 50"
   ]
  },
  {
   "cell_type": "code",
   "execution_count": 13,
   "metadata": {},
   "outputs": [
    {
     "data": {
      "text/plain": [
       "94342"
      ]
     },
     "execution_count": 13,
     "metadata": {},
     "output_type": "execute_result"
    }
   ],
   "source": [
    "df_Mecab = pd.read_csv(\"df_Mecab.csv\").dropna()\n",
    "\n",
    "temp = df_Mecab.values.tolist()\n",
    "list_Mecab = []\n",
    "for sentence in temp:\n",
    "    temp2 = sentence[0].split()\n",
    "    for vocab in temp2:\n",
    "        list_Mecab.append(vocab)\n",
    "series_Mecab = pd.Series(list_Mecab)\n",
    "Mecab_counts = series_Mecab.value_counts()#.head(100)\n",
    "Mecab_counts[0]"
   ]
  },
  {
   "cell_type": "markdown",
   "metadata": {},
   "source": [
    "## Okt 상위 50"
   ]
  },
  {
   "cell_type": "code",
   "execution_count": 10,
   "metadata": {},
   "outputs": [
    {
     "data": {
      "text/plain": [
       "74683"
      ]
     },
     "execution_count": 10,
     "metadata": {},
     "output_type": "execute_result"
    }
   ],
   "source": [
    "df_Okt = pd.read_csv(\"df_Okt.csv\").dropna()\n",
    "\n",
    "temp = df_Okt.values.tolist()\n",
    "list_Okt = []\n",
    "for sentence in temp:\n",
    "    temp2 = sentence[0].split()\n",
    "    for vocab in temp2:\n",
    "        list_Okt.append(vocab)\n",
    "series_Okt = pd.Series(list_Okt)\n",
    "Okt_counts = series_Okt.value_counts()#.head(100)\n",
    "Okt_counts[0]"
   ]
  },
  {
   "cell_type": "markdown",
   "metadata": {},
   "source": [
    "## 빈도수 맞추기"
   ]
  },
  {
   "cell_type": "code",
   "execution_count": 14,
   "metadata": {},
   "outputs": [
    {
     "data": {
      "text/plain": [
       "108172"
      ]
     },
     "execution_count": 14,
     "metadata": {},
     "output_type": "execute_result"
    }
   ],
   "source": [
    "max_freq = 0\n",
    "for num in [Hannanum_counts[0], Kkma_counts[0], Komoran_counts[0], Mecab_counts[0], Okt_counts[0]]:\n",
    "    if num > max_freq: max_freq = num\n",
    "max_freq"
   ]
  },
  {
   "cell_type": "markdown",
   "metadata": {},
   "source": [
    "- Hannanum"
   ]
  },
  {
   "cell_type": "code",
   "execution_count": 55,
   "metadata": {},
   "outputs": [
    {
     "data": {
      "text/plain": [
       "번개장터         108172\n",
       "가격            98869\n",
       "사이즈           86147\n",
       "판매            82675\n",
       "원             63778\n",
       "000           61839\n",
       "m             61476\n",
       "개인거래(판매),     57379\n",
       "co            50406\n",
       "kr            49972\n",
       "bunjang       49771\n",
       "나이키           48100\n",
       "products      45497\n",
       "판매완료          41037\n",
       "티셔츠           39962\n",
       "100           38639\n",
       "상품            37646\n",
       "제품명           34757\n",
       "​             34341\n",
       "제품            34198\n",
       "남성            32512\n",
       "L             31710\n",
       "여성            28186\n",
       "수             27216\n",
       "M             26896\n",
       "105           26815\n",
       "95            26266\n",
       "미사            25401\n",
       "안전거래          25239\n",
       "http          24704\n",
       "naver         23964\n",
       "자켓            23606\n",
       "확인            22837\n",
       "https         21581\n",
       "폴             21404\n",
       "com           21266\n",
       "블랙            20206\n",
       "남자            20057\n",
       "니트            20048\n",
       "외             19537\n",
       "정품            19484\n",
       "것             19164\n",
       "XL            18047\n",
       "S             17794\n",
       "아디다스          17722\n",
       "+가격           17694\n",
       "+상품           17679\n",
       "직접거래(네이버페     17517\n",
       "송금            17369\n",
       "브랜드           16676\n",
       "dtype: int64"
      ]
     },
     "execution_count": 55,
     "metadata": {},
     "output_type": "execute_result"
    }
   ],
   "source": [
    "if max_freq != Hannanum_counts[0]:\n",
    "    ratio1 = (max_freq / Hannanum_counts[0])\n",
    "    for i in range(len(Hannanum_counts)):\n",
    "        Hannanum_counts[i]  = round(Hannanum_counts[i] * ratio1)\n",
    "Hannanum_counts"
   ]
  },
  {
   "cell_type": "markdown",
   "metadata": {},
   "source": [
    "- Kkma"
   ]
  },
  {
   "cell_type": "code",
   "execution_count": 56,
   "metadata": {},
   "outputs": [
    {
     "data": {
      "text/plain": [
       "업           108172\n",
       "아노락          69499\n",
       "반집           64336\n",
       "판매           47507\n",
       "사이즈          44238\n",
       "집            41275\n",
       "가격           36257\n",
       "거래           31445\n",
       "후드           26165\n",
       "장터           25468\n",
       "번개           25268\n",
       "상품           24952\n",
       "하프           24754\n",
       "티셔츠          19978\n",
       "티            19095\n",
       "니트           18812\n",
       "자켓           18387\n",
       "미            14279\n",
       "m            14028\n",
       "M            13683\n",
       "제품           13308\n",
       "kr           12690\n",
       "개인           12319\n",
       "후            11869\n",
       "나이키          11837\n",
       "products     11745\n",
       "남성           11553\n",
       "블랙           11199\n",
       "L            10924\n",
       "기모           10802\n",
       "바람막이         10747\n",
       "완료           10723\n",
       "반팔           10708\n",
       "co           10563\n",
       "bunjang      10422\n",
       "패딩           10293\n",
       "상태           10206\n",
       "여성           10097\n",
       "폴             9844\n",
       "연락            9828\n",
       "긴팔            9286\n",
       "골프            9159\n",
       "노             8737\n",
       "맨투맨           8537\n",
       "시             8494\n",
       "배송            8461\n",
       "가슴            8441\n",
       "제품명           8427\n",
       "키             8120\n",
       "리스            8063\n",
       "dtype: int64"
      ]
     },
     "execution_count": 56,
     "metadata": {},
     "output_type": "execute_result"
    }
   ],
   "source": [
    "if max_freq != Kkma_counts[0]:\n",
    "    ratio2 = (max_freq / Kkma_counts[0])\n",
    "    for i in range(len(Kkma_counts)):\n",
    "        Kkma_counts[i] = round(Kkma_counts[i] * ratio2)\n",
    "Kkma_counts"
   ]
  },
  {
   "cell_type": "markdown",
   "metadata": {},
   "source": [
    "- Komoran"
   ]
  },
  {
   "cell_type": "code",
   "execution_count": 57,
   "metadata": {},
   "outputs": [
    {
     "data": {
      "text/plain": [
       "집           108172\n",
       "업           107533\n",
       "노            61853\n",
       "락            60551\n",
       "아            54623\n",
       "판매           53190\n",
       "사이즈          46526\n",
       "가격           39833\n",
       "거래           35731\n",
       "상품           31426\n",
       "장터           29913\n",
       "번개           29675\n",
       "후드           27630\n",
       "제품           25620\n",
       "하프           24853\n",
       "반            22968\n",
       "티셔츠          21552\n",
       "니트           20397\n",
       "나이키          19380\n",
       "티            19246\n",
       "m            16287\n",
       "미            14413\n",
       "products     13701\n",
       "개인           13538\n",
       "M            13203\n",
       "L            12438\n",
       ".co          12421\n",
       ".kr          12381\n",
       "폴로           12380\n",
       "bunjang      12296\n",
       "여성           12261\n",
       "배            12111\n",
       "상태           12058\n",
       "완료           11817\n",
       "연락           11576\n",
       "반팔           11377\n",
       "남성           11235\n",
       "바람막이         11009\n",
       "후            10969\n",
       "기모           10827\n",
       "긴팔           10615\n",
       "송            10037\n",
       "만원           10005\n",
       "가슴            9734\n",
       "골프            9724\n",
       "리스            9696\n",
       "패딩            9399\n",
       "확인            9089\n",
       "맨투맨           9077\n",
       "블랙            9032\n",
       "dtype: int64"
      ]
     },
     "execution_count": 57,
     "metadata": {},
     "output_type": "execute_result"
    }
   ],
   "source": [
    "if max_freq != Komoran_counts[0]:\n",
    "    ratio3 = (max_freq / Komoran_counts[0])\n",
    "    for i in range(len(Komoran_counts)):\n",
    "        Komoran_counts[i] = round(Komoran_counts[i] * ratio3)\n",
    "Komoran_counts"
   ]
  },
  {
   "cell_type": "markdown",
   "metadata": {},
   "source": [
    "- Mecab"
   ]
  },
  {
   "cell_type": "code",
   "execution_count": 58,
   "metadata": {},
   "outputs": [
    {
     "data": {
      "text/plain": [
       "업           108172\n",
       "아노락          75888\n",
       "반집           72157\n",
       "판매           54741\n",
       "사이즈          52589\n",
       "집            49335\n",
       "가격           41525\n",
       "거래           34876\n",
       "후드           30120\n",
       "장터           29215\n",
       "상품           28863\n",
       "번개           28809\n",
       "하프           28481\n",
       "제품           22911\n",
       "티셔츠          22826\n",
       "니트           22008\n",
       "자켓           20132\n",
       "나이키          19602\n",
       "M            16245\n",
       "m            16151\n",
       "남성           14824\n",
       "kr           14555\n",
       "티            14227\n",
       "products     13468\n",
       "블랙           12910\n",
       "개인           12806\n",
       "L            12740\n",
       "여성           12555\n",
       "바람막이         12419\n",
       "완료           12387\n",
       "반팔           12223\n",
       "co           12111\n",
       "bunjang      11950\n",
       "패딩           11850\n",
       "폴로           11694\n",
       "상태           11466\n",
       "후            11398\n",
       "기모           11227\n",
       "연락           11216\n",
       "골프           10441\n",
       "배송            9962\n",
       "맨투맨           9771\n",
       "가슴            9511\n",
       "공식            9325\n",
       "남자            9129\n",
       "리스            8971\n",
       "확인            8802\n",
       "아디            8671\n",
       "안전            8635\n",
       "미             8625\n",
       "dtype: int64"
      ]
     },
     "execution_count": 58,
     "metadata": {},
     "output_type": "execute_result"
    }
   ],
   "source": [
    "if max_freq != Mecab_counts[0]:\n",
    "    ratio4 = (max_freq / Mecab_counts[0])\n",
    "    for i in range(len(Mecab_counts)):\n",
    "        Mecab_counts[i] = round(Mecab_counts[i] * ratio4)\n",
    "Mecab_counts"
   ]
  },
  {
   "cell_type": "markdown",
   "metadata": {},
   "source": [
    "- Okt"
   ]
  },
  {
   "cell_type": "code",
   "execution_count": 59,
   "metadata": {},
   "outputs": [
    {
     "data": {
      "text/plain": [
       "집업       108172\n",
       "판매        74159\n",
       "락         73141\n",
       "사이즈       62228\n",
       "가격        53044\n",
       "거래        45390\n",
       "상품        40053\n",
       "후드        37053\n",
       "장터        36917\n",
       "번개        36661\n",
       "하프        34724\n",
       "제품        31588\n",
       "티셔츠       28486\n",
       "니트        25076\n",
       "나이키       24459\n",
       "자켓        23065\n",
       "원         19302\n",
       "남성        18298\n",
       "팔         18267\n",
       "개인        17989\n",
       "블랙        16040\n",
       "집         15902\n",
       "완료        15656\n",
       "폴로        15457\n",
       "티         14990\n",
       "바람막이      14968\n",
       "상태        14907\n",
       "연락        14174\n",
       "리스        13732\n",
       "골프        12642\n",
       "용         12603\n",
       "여성        12381\n",
       "가슴        12294\n",
       "공식        11779\n",
       "확인        11122\n",
       "안전        10880\n",
       "아디다스      10232\n",
       "남자         9870\n",
       "직접         9462\n",
       "패딩         9458\n",
       "브랜드        9182\n",
       "더          8976\n",
       "후          8737\n",
       "송금         8657\n",
       "기모         8525\n",
       "정품         8121\n",
       "노스페이스      8094\n",
       "미사         7910\n",
       "기능         7885\n",
       "기장         7859\n",
       "dtype: int64"
      ]
     },
     "execution_count": 59,
     "metadata": {},
     "output_type": "execute_result"
    }
   ],
   "source": [
    "if max_freq != Okt_counts[0]:\n",
    "    ratio5 = (max_freq / Okt_counts[0])\n",
    "    for i in range(len(Okt_counts)):\n",
    "        Okt_counts[i] = round(Okt_counts[i] * ratio5)\n",
    "Okt_counts"
   ]
  },
  {
   "cell_type": "markdown",
   "metadata": {},
   "source": [
    "## 자기 자신을 제외한 합집합과 비교"
   ]
  },
  {
   "cell_type": "code",
   "execution_count": 40,
   "metadata": {},
   "outputs": [],
   "source": [
    "Hannanum_set = set(Hannanum_counts.index.tolist())\n",
    "Kkma_set = set(Kkma_counts.index.tolist())\n",
    "Komoran_set = set(Komoran_counts.index.tolist())\n",
    "Mecab_set = set(Mecab_counts.index.tolist())\n",
    "Okt_set = set(Okt_counts.index.tolist())"
   ]
  },
  {
   "cell_type": "code",
   "execution_count": 76,
   "metadata": {},
   "outputs": [
    {
     "name": "stderr",
     "output_type": "stream",
     "text": [
      "c:\\users\\rhakt\\appdata\\local\\programs\\python\\python36\\lib\\site-packages\\ipykernel_launcher.py:2: DeprecationWarning: The default dtype for empty Series will be 'object' instead of 'float64' in a future version. Specify a dtype explicitly to silence this warning.\n",
      "  \n"
     ]
    }
   ],
   "source": [
    "# 결과 Series\n",
    "rst = pd.Series()"
   ]
  },
  {
   "cell_type": "markdown",
   "metadata": {},
   "source": [
    "- Hannanum"
   ]
  },
  {
   "cell_type": "code",
   "execution_count": 67,
   "metadata": {},
   "outputs": [
    {
     "name": "stderr",
     "output_type": "stream",
     "text": [
      "c:\\users\\rhakt\\appdata\\local\\programs\\python\\python36\\lib\\site-packages\\ipykernel_launcher.py:3: DeprecationWarning: The default dtype for empty Series will be 'object' instead of 'float64' in a future version. Specify a dtype explicitly to silence this warning.\n",
      "  This is separate from the ipykernel package so we can avoid doing imports until\n"
     ]
    },
    {
     "data": {
      "text/plain": [
       "번개장터         108172\n",
       "개인거래(판매),     57379\n",
       "나이키           48100\n",
       "판매완료          41037\n",
       "티셔츠           39962\n",
       "제품명           34757\n",
       "미사            25401\n",
       "안전거래          25239\n",
       "com           21266\n",
       "XL            18047\n",
       "아디다스          17722\n",
       "+가격           17694\n",
       "+상품           17679\n",
       "직접거래(네이버페     17517\n",
       "송금            17369\n",
       "dtype: int64"
      ]
     },
     "execution_count": 67,
     "metadata": {},
     "output_type": "execute_result"
    }
   ],
   "source": [
    "union1 = list(Kkma_set | Komoran_set | Mecab_set | Okt_set)\n",
    "\n",
    "processed_Hannanum = pd.Series()\n",
    "for i in range(len(Hannanum_counts)):\n",
    "    for j in range(len(union1)):\n",
    "        if union1[j] in Hannanum_counts.index[i] and len(Hannanum_counts.index[i]) > len(union1[j]): \n",
    "            processed_Hannanum[Hannanum_counts.index[i]] = Hannanum_counts[i]\n",
    "\n",
    "processed_Hannanum"
   ]
  },
  {
   "cell_type": "markdown",
   "metadata": {},
   "source": [
    "- Kkma"
   ]
  },
  {
   "cell_type": "code",
   "execution_count": 68,
   "metadata": {},
   "outputs": [
    {
     "name": "stderr",
     "output_type": "stream",
     "text": [
      "c:\\users\\rhakt\\appdata\\local\\programs\\python\\python36\\lib\\site-packages\\ipykernel_launcher.py:3: DeprecationWarning: The default dtype for empty Series will be 'object' instead of 'float64' in a future version. Specify a dtype explicitly to silence this warning.\n",
      "  This is separate from the ipykernel package so we can avoid doing imports until\n"
     ]
    },
    {
     "data": {
      "text/plain": [
       "아노락    69499\n",
       "반집     64336\n",
       "후드     26165\n",
       "티셔츠    19978\n",
       "반팔     10708\n",
       "연락      9828\n",
       "긴팔      9286\n",
       "배송      8461\n",
       "제품명     8427\n",
       "dtype: int64"
      ]
     },
     "execution_count": 68,
     "metadata": {},
     "output_type": "execute_result"
    }
   ],
   "source": [
    "union2 = list(Hannanum_set | Komoran_set | Mecab_set | Okt_set)\n",
    "\n",
    "processed_Kkma = pd.Series()\n",
    "for i in range(len(Kkma_counts)):\n",
    "    for j in range(len(union2)):\n",
    "        if union2[j] in Kkma_counts.index[i] and len(Kkma_counts.index[i]) > len(union2[j]): \n",
    "            processed_Kkma[Kkma_counts.index[i]] = Kkma_counts[i]\n",
    "\n",
    "processed_Kkma"
   ]
  },
  {
   "cell_type": "markdown",
   "metadata": {},
   "source": [
    "- Komoran"
   ]
  },
  {
   "cell_type": "code",
   "execution_count": 69,
   "metadata": {},
   "outputs": [
    {
     "name": "stderr",
     "output_type": "stream",
     "text": [
      "c:\\users\\rhakt\\appdata\\local\\programs\\python\\python36\\lib\\site-packages\\ipykernel_launcher.py:3: DeprecationWarning: The default dtype for empty Series will be 'object' instead of 'float64' in a future version. Specify a dtype explicitly to silence this warning.\n",
      "  This is separate from the ipykernel package so we can avoid doing imports until\n"
     ]
    },
    {
     "data": {
      "text/plain": [
       "후드     27630\n",
       "티셔츠    21552\n",
       "나이키    19380\n",
       ".co    12421\n",
       ".kr    12381\n",
       "폴로     12380\n",
       "연락     11576\n",
       "반팔     11377\n",
       "긴팔     10615\n",
       "만원     10005\n",
       "dtype: int64"
      ]
     },
     "execution_count": 69,
     "metadata": {},
     "output_type": "execute_result"
    }
   ],
   "source": [
    "union3 = list(Hannanum_set | Kkma_set | Mecab_set | Okt_set)\n",
    "\n",
    "processed_Komoran = pd.Series()\n",
    "for i in range(len(Komoran_counts)):\n",
    "    for j in range(len(union3)):\n",
    "        if union3[j] in Komoran_counts.index[i] and len(Komoran_counts.index[i]) > len(union3[j]): \n",
    "            processed_Komoran[Komoran_counts.index[i]] = Komoran_counts[i]\n",
    "\n",
    "processed_Komoran"
   ]
  },
  {
   "cell_type": "markdown",
   "metadata": {},
   "source": [
    "- Mecab"
   ]
  },
  {
   "cell_type": "code",
   "execution_count": 70,
   "metadata": {},
   "outputs": [
    {
     "name": "stderr",
     "output_type": "stream",
     "text": [
      "c:\\users\\rhakt\\appdata\\local\\programs\\python\\python36\\lib\\site-packages\\ipykernel_launcher.py:3: DeprecationWarning: The default dtype for empty Series will be 'object' instead of 'float64' in a future version. Specify a dtype explicitly to silence this warning.\n",
      "  This is separate from the ipykernel package so we can avoid doing imports until\n"
     ]
    },
    {
     "data": {
      "text/plain": [
       "아노락    75888\n",
       "반집     72157\n",
       "후드     30120\n",
       "티셔츠    22826\n",
       "나이키    19602\n",
       "반팔     12223\n",
       "폴로     11694\n",
       "연락     11216\n",
       "배송      9962\n",
       "아디      8671\n",
       "dtype: int64"
      ]
     },
     "execution_count": 70,
     "metadata": {},
     "output_type": "execute_result"
    }
   ],
   "source": [
    "union4 = list(Hannanum_set | Kkma_set | Komoran_set | Okt_set)\n",
    "\n",
    "processed_Mecab = pd.Series()\n",
    "for i in range(len(Mecab_counts)):\n",
    "    for j in range(len(union4)):\n",
    "        if union4[j] in Mecab_counts.index[i] and len(Mecab_counts.index[i]) > len(union4[j]): \n",
    "            processed_Mecab[Mecab_counts.index[i]] = Mecab_counts[i]\n",
    "\n",
    "processed_Mecab"
   ]
  },
  {
   "cell_type": "markdown",
   "metadata": {},
   "source": [
    "- Okt"
   ]
  },
  {
   "cell_type": "code",
   "execution_count": 71,
   "metadata": {},
   "outputs": [
    {
     "name": "stderr",
     "output_type": "stream",
     "text": [
      "c:\\users\\rhakt\\appdata\\local\\programs\\python\\python36\\lib\\site-packages\\ipykernel_launcher.py:3: DeprecationWarning: The default dtype for empty Series will be 'object' instead of 'float64' in a future version. Specify a dtype explicitly to silence this warning.\n",
      "  This is separate from the ipykernel package so we can avoid doing imports until\n"
     ]
    },
    {
     "data": {
      "text/plain": [
       "집업       108172\n",
       "후드        37053\n",
       "티셔츠       28486\n",
       "나이키       24459\n",
       "폴로        15457\n",
       "연락        14174\n",
       "아디다스      10232\n",
       "송금         8657\n",
       "노스페이스      8094\n",
       "미사         7910\n",
       "dtype: int64"
      ]
     },
     "execution_count": 71,
     "metadata": {},
     "output_type": "execute_result"
    }
   ],
   "source": [
    "union5 = list(Hannanum_set | Kkma_set | Komoran_set | Mecab_set)\n",
    "\n",
    "processed_Okt = pd.Series()\n",
    "for i in range(len(Okt_counts)):\n",
    "    for j in range(len(union5)):\n",
    "        if union5[j] in Okt_counts.index[i] and len(Okt_counts.index[i]) > len(union5[j]): \n",
    "            processed_Okt[Okt_counts.index[i]] = Okt_counts[i]\n",
    "\n",
    "processed_Okt"
   ]
  },
  {
   "cell_type": "code",
   "execution_count": 77,
   "metadata": {
    "scrolled": false
   },
   "outputs": [
    {
     "data": {
      "text/plain": [
       "번개장터         108172\n",
       "개인거래(판매),     57379\n",
       "나이키           48100\n",
       "판매완료          41037\n",
       "티셔츠           39962\n",
       "제품명           34757\n",
       "미사            25401\n",
       "안전거래          25239\n",
       "com           21266\n",
       "XL            18047\n",
       "아디다스          17722\n",
       "+가격           17694\n",
       "+상품           17679\n",
       "직접거래(네이버페     17517\n",
       "송금            17369\n",
       "아노락           69499\n",
       "반집            64336\n",
       "후드            26165\n",
       "티셔츠           19978\n",
       "반팔            10708\n",
       "연락             9828\n",
       "긴팔             9286\n",
       "배송             8461\n",
       "제품명            8427\n",
       "후드            27630\n",
       "티셔츠           21552\n",
       "나이키           19380\n",
       ".co           12421\n",
       ".kr           12381\n",
       "폴로            12380\n",
       "연락            11576\n",
       "반팔            11377\n",
       "긴팔            10615\n",
       "만원            10005\n",
       "아노락           75888\n",
       "반집            72157\n",
       "후드            30120\n",
       "티셔츠           22826\n",
       "나이키           19602\n",
       "반팔            12223\n",
       "폴로            11694\n",
       "연락            11216\n",
       "배송             9962\n",
       "아디             8671\n",
       "집업           108172\n",
       "후드            37053\n",
       "티셔츠           28486\n",
       "나이키           24459\n",
       "폴로            15457\n",
       "연락            14174\n",
       "아디다스          10232\n",
       "송금             8657\n",
       "노스페이스          8094\n",
       "미사             7910\n",
       "dtype: int64"
      ]
     },
     "execution_count": 77,
     "metadata": {},
     "output_type": "execute_result"
    }
   ],
   "source": [
    "rst = pd.concat([processed_Hannanum, processed_Kkma, processed_Komoran, processed_Mecab, processed_Okt])\n",
    "rst"
   ]
  },
  {
   "cell_type": "code",
   "execution_count": 79,
   "metadata": {},
   "outputs": [
    {
     "data": {
      "text/plain": [
       "True"
      ]
     },
     "execution_count": 79,
     "metadata": {},
     "output_type": "execute_result"
    }
   ],
   "source": [
    "'번개장터' in rst.index"
   ]
  },
  {
   "cell_type": "code",
   "execution_count": null,
   "metadata": {},
   "outputs": [],
   "source": []
  }
 ],
 "metadata": {
  "kernelspec": {
   "display_name": "Python 3",
   "language": "python",
   "name": "python3"
  },
  "language_info": {
   "codemirror_mode": {
    "name": "ipython",
    "version": 3
   },
   "file_extension": ".py",
   "mimetype": "text/x-python",
   "name": "python",
   "nbconvert_exporter": "python",
   "pygments_lexer": "ipython3",
   "version": "3.6.8"
  }
 },
 "nbformat": 4,
 "nbformat_minor": 2
}
