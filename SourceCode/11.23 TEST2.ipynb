{
 "cells": [
  {
   "cell_type": "code",
   "execution_count": 2,
   "metadata": {},
   "outputs": [],
   "source": [
    "import pandas as pd"
   ]
  },
  {
   "cell_type": "markdown",
   "metadata": {},
   "source": [
    "## Hannanum 상위 100"
   ]
  },
  {
   "cell_type": "code",
   "execution_count": 81,
   "metadata": {},
   "outputs": [
    {
     "data": {
      "text/plain": [
       "22651"
      ]
     },
     "execution_count": 81,
     "metadata": {},
     "output_type": "execute_result"
    }
   ],
   "source": [
    "df_Hannanum = pd.read_csv(\"df_Hannanum.csv\").dropna()\n",
    "\n",
    "temp = df_Hannanum.values.tolist()\n",
    "list_Hannanum = []\n",
    "for sentence in temp:\n",
    "    temp2 = sentence[0].split()\n",
    "    for vocab in temp2:\n",
    "        list_Hannanum.append(vocab)\n",
    "series_Hannanum = pd.Series(list_Hannanum)\n",
    "Hannanum_counts = series_Hannanum.value_counts().head(100)\n",
    "Hannanum_counts[0]"
   ]
  },
  {
   "cell_type": "markdown",
   "metadata": {},
   "source": [
    "## Kkma 상위 100"
   ]
  },
  {
   "cell_type": "code",
   "execution_count": 82,
   "metadata": {},
   "outputs": [
    {
     "data": {
      "text/plain": [
       "108172"
      ]
     },
     "execution_count": 82,
     "metadata": {},
     "output_type": "execute_result"
    }
   ],
   "source": [
    "df_Kkma = pd.read_csv(\"df_Kkma.csv\").dropna()\n",
    "\n",
    "temp = df_Kkma.values.tolist()\n",
    "list_Kkma = []\n",
    "for sentence in temp:\n",
    "    temp2 = sentence[0].split()\n",
    "    for vocab in temp2:\n",
    "        list_Kkma.append(vocab)\n",
    "series_Kkma = pd.Series(list_Kkma)\n",
    "Kkma_counts = series_Kkma.value_counts().head(100)\n",
    "Kkma_counts[0]"
   ]
  },
  {
   "cell_type": "markdown",
   "metadata": {},
   "source": [
    "## Komoran 상위 100"
   ]
  },
  {
   "cell_type": "code",
   "execution_count": 83,
   "metadata": {},
   "outputs": [
    {
     "data": {
      "text/plain": [
       "91371"
      ]
     },
     "execution_count": 83,
     "metadata": {},
     "output_type": "execute_result"
    }
   ],
   "source": [
    "df_Komoran = pd.read_csv(\"df_Komoran.csv\").dropna()\n",
    "\n",
    "temp = df_Komoran.values.tolist()\n",
    "list_Komoran = []\n",
    "for sentence in temp:\n",
    "    temp2 = sentence[0].split()\n",
    "    for vocab in temp2:\n",
    "        list_Komoran.append(vocab)\n",
    "series_Komoran = pd.Series(list_Komoran)\n",
    "Komoran_counts = series_Komoran.value_counts().head(100)\n",
    "Komoran_counts[0]"
   ]
  },
  {
   "cell_type": "markdown",
   "metadata": {},
   "source": [
    "## Mecab 상위 100"
   ]
  },
  {
   "cell_type": "code",
   "execution_count": 84,
   "metadata": {},
   "outputs": [
    {
     "data": {
      "text/plain": [
       "94342"
      ]
     },
     "execution_count": 84,
     "metadata": {},
     "output_type": "execute_result"
    }
   ],
   "source": [
    "df_Mecab = pd.read_csv(\"df_Mecab.csv\").dropna()\n",
    "\n",
    "temp = df_Mecab.values.tolist()\n",
    "list_Mecab = []\n",
    "for sentence in temp:\n",
    "    temp2 = sentence[0].split()\n",
    "    for vocab in temp2:\n",
    "        list_Mecab.append(vocab)\n",
    "series_Mecab = pd.Series(list_Mecab)\n",
    "Mecab_counts = series_Mecab.value_counts().head(100)\n",
    "Mecab_counts[0]"
   ]
  },
  {
   "cell_type": "markdown",
   "metadata": {},
   "source": [
    "## Okt 상위 100"
   ]
  },
  {
   "cell_type": "code",
   "execution_count": 85,
   "metadata": {},
   "outputs": [
    {
     "data": {
      "text/plain": [
       "74683"
      ]
     },
     "execution_count": 85,
     "metadata": {},
     "output_type": "execute_result"
    }
   ],
   "source": [
    "df_Okt = pd.read_csv(\"df_Okt.csv\").dropna()\n",
    "\n",
    "temp = df_Okt.values.tolist()\n",
    "list_Okt = []\n",
    "for sentence in temp:\n",
    "    temp2 = sentence[0].split()\n",
    "    for vocab in temp2:\n",
    "        list_Okt.append(vocab)\n",
    "series_Okt = pd.Series(list_Okt)\n",
    "Okt_counts = series_Okt.value_counts().head(100)\n",
    "Okt_counts[0]"
   ]
  },
  {
   "cell_type": "markdown",
   "metadata": {},
   "source": [
    "## 빈도수 맞추기"
   ]
  },
  {
   "cell_type": "code",
   "execution_count": 86,
   "metadata": {},
   "outputs": [
    {
     "data": {
      "text/plain": [
       "108172"
      ]
     },
     "execution_count": 86,
     "metadata": {},
     "output_type": "execute_result"
    }
   ],
   "source": [
    "max_freq = 0\n",
    "for num in [Hannanum_counts[0], Kkma_counts[0], Komoran_counts[0], Mecab_counts[0], Okt_counts[0]]:\n",
    "    if num > max_freq: max_freq = num\n",
    "max_freq"
   ]
  },
  {
   "cell_type": "markdown",
   "metadata": {},
   "source": [
    "- Hannanum"
   ]
  },
  {
   "cell_type": "code",
   "execution_count": 87,
   "metadata": {},
   "outputs": [
    {
     "data": {
      "text/plain": [
       "번개장터    108172\n",
       "가격       98869\n",
       "사이즈      86147\n",
       "판매       82675\n",
       "원        63778\n",
       "         ...  \n",
       "쿠팡        9508\n",
       "아우터       9360\n",
       "셔츠        9346\n",
       "그레이       9074\n",
       "어깨        9064\n",
       "Length: 100, dtype: int64"
      ]
     },
     "execution_count": 87,
     "metadata": {},
     "output_type": "execute_result"
    }
   ],
   "source": [
    "if max_freq != Hannanum_counts[0]:\n",
    "    ratio1 = (max_freq / Hannanum_counts[0])\n",
    "    for i in range(len(Hannanum_counts)):\n",
    "        Hannanum_counts[i]  = round(Hannanum_counts[i] * ratio1)\n",
    "Hannanum_counts"
   ]
  },
  {
   "cell_type": "markdown",
   "metadata": {},
   "source": [
    "- Kkma"
   ]
  },
  {
   "cell_type": "code",
   "execution_count": 88,
   "metadata": {},
   "outputs": [
    {
     "data": {
      "text/plain": [
       "업        108172\n",
       "아노락       69499\n",
       "반집        64336\n",
       "판매        47507\n",
       "사이즈       44238\n",
       "          ...  \n",
       "중고         4793\n",
       "복          4775\n",
       "정보         4687\n",
       "지역         4671\n",
       "https      4614\n",
       "Length: 100, dtype: int64"
      ]
     },
     "execution_count": 88,
     "metadata": {},
     "output_type": "execute_result"
    }
   ],
   "source": [
    "if max_freq != Kkma_counts[0]:\n",
    "    ratio2 = (max_freq / Kkma_counts[0])\n",
    "    for i in range(len(Kkma_counts)):\n",
    "        Kkma_counts[i] = round(Kkma_counts[i] * ratio2)\n",
    "Kkma_counts"
   ]
  },
  {
   "cell_type": "markdown",
   "metadata": {},
   "source": [
    "- Komoran"
   ]
  },
  {
   "cell_type": "code",
   "execution_count": 89,
   "metadata": {},
   "outputs": [
    {
     "data": {
      "text/plain": [
       "집       108172\n",
       "업       107533\n",
       "노        61853\n",
       "락        60551\n",
       "아        54623\n",
       "         ...  \n",
       "빈폴        4913\n",
       "아일랜드      4874\n",
       "랄         4868\n",
       "이         4763\n",
       "카페        4752\n",
       "Length: 100, dtype: int64"
      ]
     },
     "execution_count": 89,
     "metadata": {},
     "output_type": "execute_result"
    }
   ],
   "source": [
    "if max_freq != Komoran_counts[0]:\n",
    "    ratio3 = (max_freq / Komoran_counts[0])\n",
    "    for i in range(len(Komoran_counts)):\n",
    "        Komoran_counts[i] = round(Komoran_counts[i] * ratio3)\n",
    "Komoran_counts"
   ]
  },
  {
   "cell_type": "markdown",
   "metadata": {},
   "source": [
    "- Mecab"
   ]
  },
  {
   "cell_type": "code",
   "execution_count": 90,
   "metadata": {},
   "outputs": [
    {
     "data": {
      "text/plain": [
       "업      108172\n",
       "아노락     75888\n",
       "반집      72157\n",
       "판매      54741\n",
       "사이즈     52589\n",
       "        ...  \n",
       "양털       4773\n",
       "중고       4735\n",
       "원피스      4678\n",
       "의류       4652\n",
       "할인       4645\n",
       "Length: 100, dtype: int64"
      ]
     },
     "execution_count": 90,
     "metadata": {},
     "output_type": "execute_result"
    }
   ],
   "source": [
    "if max_freq != Mecab_counts[0]:\n",
    "    ratio4 = (max_freq / Mecab_counts[0])\n",
    "    for i in range(len(Mecab_counts)):\n",
    "        Mecab_counts[i] = round(Mecab_counts[i] * ratio4)\n",
    "Mecab_counts"
   ]
  },
  {
   "cell_type": "markdown",
   "metadata": {},
   "source": [
    "- Okt"
   ]
  },
  {
   "cell_type": "code",
   "execution_count": 91,
   "metadata": {},
   "outputs": [
    {
     "data": {
      "text/plain": [
       "집업      108172\n",
       "판매       74159\n",
       "락        73141\n",
       "사이즈      62228\n",
       "가격       53044\n",
       "         ...  \n",
       "트레이닝      5143\n",
       "겨울        5130\n",
       "점         5120\n",
       "배송비       5107\n",
       "총장        4990\n",
       "Length: 100, dtype: int64"
      ]
     },
     "execution_count": 91,
     "metadata": {},
     "output_type": "execute_result"
    }
   ],
   "source": [
    "if max_freq != Okt_counts[0]:\n",
    "    ratio5 = (max_freq / Okt_counts[0])\n",
    "    for i in range(len(Okt_counts)):\n",
    "        Okt_counts[i] = round(Okt_counts[i] * ratio5)\n",
    "Okt_counts"
   ]
  },
  {
   "cell_type": "markdown",
   "metadata": {},
   "source": [
    "## 자기 자신을 제외한 합집합과 비교"
   ]
  },
  {
   "cell_type": "code",
   "execution_count": 92,
   "metadata": {},
   "outputs": [],
   "source": [
    "Hannanum_set = set(Hannanum_counts.index.tolist())\n",
    "Kkma_set = set(Kkma_counts.index.tolist())\n",
    "Komoran_set = set(Komoran_counts.index.tolist())\n",
    "Mecab_set = set(Mecab_counts.index.tolist())\n",
    "Okt_set = set(Okt_counts.index.tolist())"
   ]
  },
  {
   "cell_type": "code",
   "execution_count": 93,
   "metadata": {},
   "outputs": [
    {
     "name": "stderr",
     "output_type": "stream",
     "text": [
      "c:\\users\\rhakt\\appdata\\local\\programs\\python\\python36\\lib\\site-packages\\ipykernel_launcher.py:2: DeprecationWarning: The default dtype for empty Series will be 'object' instead of 'float64' in a future version. Specify a dtype explicitly to silence this warning.\n",
      "  \n"
     ]
    }
   ],
   "source": [
    "# 결과 Series\n",
    "result = pd.Series()"
   ]
  },
  {
   "cell_type": "markdown",
   "metadata": {},
   "source": [
    "- Hannanum"
   ]
  },
  {
   "cell_type": "code",
   "execution_count": 94,
   "metadata": {},
   "outputs": [
    {
     "name": "stderr",
     "output_type": "stream",
     "text": [
      "c:\\users\\rhakt\\appdata\\local\\programs\\python\\python36\\lib\\site-packages\\ipykernel_launcher.py:3: DeprecationWarning: The default dtype for empty Series will be 'object' instead of 'float64' in a future version. Specify a dtype explicitly to silence this warning.\n",
      "  This is separate from the ipykernel package so we can avoid doing imports until\n"
     ]
    }
   ],
   "source": [
    "union1 = list(Kkma_set | Komoran_set | Mecab_set | Okt_set)\n",
    "\n",
    "processed_Hannanum = pd.Series()\n",
    "for i in range(len(Hannanum_counts)):\n",
    "    for j in range(len(union1)):\n",
    "        if union1[j] in Hannanum_counts.index[i] and len(Hannanum_counts.index[i]) > len(union1[j]): \n",
    "            # processed_Hannanum[Hannanum_counts.index[i]] = Hannanum_counts[i]\n",
    "            if Hannanum_counts.index[i] in result.index:   # 결과에 이미 있는 경우\n",
    "                if result[Hannanum_counts.index[i]] < Hannanum_counts[i]:\n",
    "                    result[Hannanum_counts.index[i]] = Hannanum_counts[i]\n",
    "            else:   # 결과에 없는 경우\n",
    "                result[Hannanum_counts.index[i]] = Hannanum_counts[i]\n",
    "                \n",
    "\n",
    "# processed_Hannanum"
   ]
  },
  {
   "cell_type": "markdown",
   "metadata": {},
   "source": [
    "- Kkma"
   ]
  },
  {
   "cell_type": "code",
   "execution_count": 95,
   "metadata": {},
   "outputs": [
    {
     "name": "stderr",
     "output_type": "stream",
     "text": [
      "c:\\users\\rhakt\\appdata\\local\\programs\\python\\python36\\lib\\site-packages\\ipykernel_launcher.py:3: DeprecationWarning: The default dtype for empty Series will be 'object' instead of 'float64' in a future version. Specify a dtype explicitly to silence this warning.\n",
      "  This is separate from the ipykernel package so we can avoid doing imports until\n"
     ]
    }
   ],
   "source": [
    "union2 = list(Hannanum_set | Komoran_set | Mecab_set | Okt_set)\n",
    "\n",
    "processed_Kkma = pd.Series()\n",
    "for i in range(len(Kkma_counts)):\n",
    "    for j in range(len(union2)):\n",
    "        if union2[j] in Kkma_counts.index[i] and len(Kkma_counts.index[i]) > len(union2[j]): \n",
    "            # processed_Kkma[Kkma_counts.index[i]] = Kkma_counts[i]\n",
    "            if Kkma_counts.index[i] in result.index:   # 결과에 이미 있는 경우\n",
    "                if result[Kkma_counts.index[i]] < Kkma_counts[i]:\n",
    "                    result[Kkma_counts.index[i]] = Kkma_counts[i]\n",
    "            else:   # 결과에 없는 경우\n",
    "                result[Kkma_counts.index[i]] = Kkma_counts[i]\n",
    "\n",
    "# processed_Kkma"
   ]
  },
  {
   "cell_type": "markdown",
   "metadata": {},
   "source": [
    "- Komoran"
   ]
  },
  {
   "cell_type": "code",
   "execution_count": 96,
   "metadata": {},
   "outputs": [
    {
     "name": "stderr",
     "output_type": "stream",
     "text": [
      "c:\\users\\rhakt\\appdata\\local\\programs\\python\\python36\\lib\\site-packages\\ipykernel_launcher.py:3: DeprecationWarning: The default dtype for empty Series will be 'object' instead of 'float64' in a future version. Specify a dtype explicitly to silence this warning.\n",
      "  This is separate from the ipykernel package so we can avoid doing imports until\n"
     ]
    }
   ],
   "source": [
    "union3 = list(Hannanum_set | Kkma_set | Mecab_set | Okt_set)\n",
    "\n",
    "processed_Komoran = pd.Series()\n",
    "for i in range(len(Komoran_counts)):\n",
    "    for j in range(len(union3)):\n",
    "        if union3[j] in Komoran_counts.index[i] and len(Komoran_counts.index[i]) > len(union3[j]): \n",
    "            # processed_Komoran[Komoran_counts.index[i]] = Komoran_counts[i]\n",
    "            if Komoran_counts.index[i] in result.index:   # 결과에 이미 있는 경우\n",
    "                if result[Komoran_counts.index[i]] < Komoran_counts[i]:\n",
    "                    result[Komoran_counts.index[i]] = Komoran_counts[i]\n",
    "            else:   # 결과에 없는 경우\n",
    "                result[Komoran_counts.index[i]] = Komoran_counts[i]\n",
    "\n",
    "# processed_Komoran"
   ]
  },
  {
   "cell_type": "markdown",
   "metadata": {},
   "source": [
    "- Mecab"
   ]
  },
  {
   "cell_type": "code",
   "execution_count": 97,
   "metadata": {},
   "outputs": [
    {
     "name": "stderr",
     "output_type": "stream",
     "text": [
      "c:\\users\\rhakt\\appdata\\local\\programs\\python\\python36\\lib\\site-packages\\ipykernel_launcher.py:3: DeprecationWarning: The default dtype for empty Series will be 'object' instead of 'float64' in a future version. Specify a dtype explicitly to silence this warning.\n",
      "  This is separate from the ipykernel package so we can avoid doing imports until\n"
     ]
    }
   ],
   "source": [
    "union4 = list(Hannanum_set | Kkma_set | Komoran_set | Okt_set)\n",
    "\n",
    "processed_Mecab = pd.Series()\n",
    "for i in range(len(Mecab_counts)):\n",
    "    for j in range(len(union4)):\n",
    "        if union4[j] in Mecab_counts.index[i] and len(Mecab_counts.index[i]) > len(union4[j]): \n",
    "            # processed_Mecab[Mecab_counts.index[i]] = Mecab_counts[i]\n",
    "            if Mecab_counts.index[i] in result.index:   # 결과에 이미 있는 경우\n",
    "                if result[Mecab_counts.index[i]] < Mecab_counts[i]:\n",
    "                    result[Mecab_counts.index[i]] = Mecab_counts[i]\n",
    "            else:   # 결과에 없는 경우\n",
    "                result[Mecab_counts.index[i]] = Mecab_counts[i]\n",
    "\n",
    "# processed_Mecab"
   ]
  },
  {
   "cell_type": "markdown",
   "metadata": {},
   "source": [
    "- Okt"
   ]
  },
  {
   "cell_type": "code",
   "execution_count": 98,
   "metadata": {},
   "outputs": [
    {
     "name": "stderr",
     "output_type": "stream",
     "text": [
      "c:\\users\\rhakt\\appdata\\local\\programs\\python\\python36\\lib\\site-packages\\ipykernel_launcher.py:3: DeprecationWarning: The default dtype for empty Series will be 'object' instead of 'float64' in a future version. Specify a dtype explicitly to silence this warning.\n",
      "  This is separate from the ipykernel package so we can avoid doing imports until\n"
     ]
    }
   ],
   "source": [
    "union5 = list(Hannanum_set | Kkma_set | Komoran_set | Mecab_set)\n",
    "\n",
    "processed_Okt = pd.Series()\n",
    "for i in range(len(Okt_counts)):\n",
    "    for j in range(len(union5)):\n",
    "        if union5[j] in Okt_counts.index[i] and len(Okt_counts.index[i]) > len(union5[j]): \n",
    "            # processed_Okt[Okt_counts.index[i]] = Okt_counts[i]\n",
    "            if Okt_counts.index[i] in result.index:   # 결과에 이미 있는 경우\n",
    "                if result[Okt_counts.index[i]] < Okt_counts[i]:\n",
    "                    result[Okt_counts.index[i]] = Okt_counts[i]\n",
    "            else:   # 결과에 없는 경우\n",
    "                result[Okt_counts.index[i]] = Okt_counts[i]\n",
    "\n",
    "# processed_Okt"
   ]
  },
  {
   "cell_type": "code",
   "execution_count": 99,
   "metadata": {
    "scrolled": false
   },
   "outputs": [],
   "source": [
    "# rst = pd.concat([processed_Hannanum, processed_Kkma, processed_Komoran, processed_Mecab, processed_Okt])\n",
    "# rst"
   ]
  },
  {
   "cell_type": "code",
   "execution_count": 108,
   "metadata": {},
   "outputs": [
    {
     "data": {
      "text/plain": [
       "번개장터         108172\n",
       "사이즈           86147\n",
       "개인거래(판매),     57379\n",
       "나이키           48100\n",
       "판매완료          41037\n",
       "              ...  \n",
       "랄프             6112\n",
       "화이트            5663\n",
       "타미힐피거          5277\n",
       "등산             5261\n",
       "총장             4990\n",
       "Length: 89, dtype: int64"
      ]
     },
     "execution_count": 108,
     "metadata": {},
     "output_type": "execute_result"
    }
   ],
   "source": [
    "result"
   ]
  },
  {
   "cell_type": "code",
   "execution_count": 106,
   "metadata": {},
   "outputs": [
    {
     "data": {
      "text/plain": [
       "False"
      ]
     },
     "execution_count": 106,
     "metadata": {},
     "output_type": "execute_result"
    }
   ],
   "source": [
    "'미사용' in result.index"
   ]
  },
  {
   "cell_type": "markdown",
   "metadata": {},
   "source": [
    "## 결과 시각화"
   ]
  },
  {
   "cell_type": "code",
   "execution_count": 113,
   "metadata": {
    "scrolled": false
   },
   "outputs": [
    {
     "data": {
      "text/plain": [
       "<AxesSubplot:title={'center':'result'}>"
      ]
     },
     "execution_count": 113,
     "metadata": {},
     "output_type": "execute_result"
    },
    {
     "data": {
      "image/png": "[encoded data removed]",
      "text/plain": [
       "<Figure size 720x1800 with 1 Axes>"
      ]
     },
     "metadata": {
      "image/png": {
       "height": 1406,
       "width": 662
      },
      "needs_background": "light"
     },
     "output_type": "display_data"
    }
   ],
   "source": [
    "from matplotlib import pyplot as plt\n",
    "import matplotlib as mpl\n",
    "%matplotlib inline\n",
    "mpl.rc('font',family = \"Malgun Gothic\")\n",
    "from IPython.display import set_matplotlib_formats\n",
    "set_matplotlib_formats('retina')\n",
    "result.sort_values().plot(figsize=(10,25),kind='barh',grid=True, title='result')"
   ]
  },
  {
   "cell_type": "code",
   "execution_count": null,
   "metadata": {},
   "outputs": [],
   "source": []
  }
 ],
 "metadata": {
  "kernelspec": {
   "display_name": "Python 3",
   "language": "python",
   "name": "python3"
  },
  "language_info": {
   "codemirror_mode": {
    "name": "ipython",
    "version": 3
   },
   "file_extension": ".py",
   "mimetype": "text/x-python",
   "name": "python",
   "nbconvert_exporter": "python",
   "pygments_lexer": "ipython3",
   "version": "3.6.8"
  }
 },
 "nbformat": 4,
 "nbformat_minor": 2
}
